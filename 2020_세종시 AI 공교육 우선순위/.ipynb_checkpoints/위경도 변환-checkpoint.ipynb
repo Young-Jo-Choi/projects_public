{
 "cells": [
  {
   "cell_type": "markdown",
   "metadata": {},
   "source": [
    "# 세종시 지도 시각화\n",
    "1. [국토교통부](http://www.molit.go.kr/USR/WPGE0201/m_35445/DTL.jsp) 에 세종시 행정구역 좌표파일을 문의해 .shp, shx, .dbf 파일을 제공받았다.(세종시_행정구역 폴더 참고)\n",
    "2. [json으로 변환하는 사이트](http://mapshaper.org/)를 통해 .shp 파일을 .json으로 변환하였다.(bnd_dong_29_2019_2019_2Q.json 파일)\n",
    "3. 좌표가 UTM-K 기준으로 나와있어 이를 위,경도로 변환 후 .csv 파일로 저장한다."
   ]
  },
  {
   "cell_type": "code",
   "execution_count": null,
   "metadata": {},
   "outputs": [],
   "source": [
    "!pip install pyproj"
   ]
  },
  {
   "cell_type": "code",
   "execution_count": null,
   "metadata": {},
   "outputs": [],
   "source": [
    "from pyproj import Proj, transform"
   ]
  },
  {
   "cell_type": "code",
   "execution_count": null,
   "metadata": {},
   "outputs": [],
   "source": [
    "import json\n",
    "geo_path = 'AI공교육_관련/bnd_dong_29_2019_2019_2Q.json'\n",
    "geo_str = json.load(open(geo_path, encoding='utf-8'))"
   ]
  },
  {
   "cell_type": "code",
   "execution_count": null,
   "metadata": {},
   "outputs": [],
   "source": [
    "# UTM-K\n",
    "proj_UTMK = Proj(init='epsg:5178') # UTM-K(Bassel) 도로명주소 지도 사용 중\n",
    "\n",
    "# WGS1984\n",
    "proj_WGS84 = Proj(init='epsg:4326') # Wgs84 경도/위도, GPS사용 전지구 좌표"
   ]
  },
  {
   "cell_type": "code",
   "execution_count": null,
   "metadata": {},
   "outputs": [],
   "source": [
    "empty_list=[]\n",
    "for j in tqdm_notebook(range(19)):\n",
    "    df=pd.DataFrame(geo_str['features'][j]['geometry']['coordinates'][0])\n",
    "    for i in tqdm_notebook(range(len(df))):\n",
    "        try:\n",
    "            E = df.iloc[i,0]\n",
    "            N = df.iloc[i,1]\n",
    "            (long,lat)=transform(proj_UTMK,proj_WGS84,E,N)\n",
    "            empty_list.append([lat,long,j])\n",
    "        except:\n",
    "            pass"
   ]
  },
  {
   "cell_type": "code",
   "execution_count": null,
   "metadata": {},
   "outputs": [],
   "source": [
    "sejong_loc = pd.DataFrame(empty_list,columns=['lat','long','number'])\n",
    "sejong_loc.head()"
   ]
  },
  {
   "cell_type": "code",
   "execution_count": null,
   "metadata": {},
   "outputs": [],
   "source": [
    "sejong_loc.to_csv('AI공교육_관련/중간과정/sejong_loc.csv',index=False)"
   ]
  }
 ],
 "metadata": {
  "kernelspec": {
   "display_name": "Python 3",
   "language": "python",
   "name": "python3"
  },
  "language_info": {
   "codemirror_mode": {
    "name": "ipython",
    "version": 3
   },
   "file_extension": ".py",
   "mimetype": "text/x-python",
   "name": "python",
   "nbconvert_exporter": "python",
   "pygments_lexer": "ipython3",
   "version": "3.7.4"
  }
 },
 "nbformat": 4,
 "nbformat_minor": 2
}
