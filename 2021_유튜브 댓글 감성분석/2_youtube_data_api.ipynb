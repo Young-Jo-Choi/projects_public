{
 "cells": [
  {
   "cell_type": "code",
   "execution_count": 1,
   "metadata": {},
   "outputs": [],
   "source": [
    "import os\n",
    "import pandas as pd\n",
    "import numpy as np\n",
    "import matplotlib.pyplot as plt\n",
    "from googleapiclient.discovery import build"
   ]
  },
  {
   "cell_type": "code",
   "execution_count": 2,
   "metadata": {},
   "outputs": [],
   "source": [
    "from tqdm import tqdm_notebook"
   ]
  },
  {
   "cell_type": "code",
   "execution_count": 3,
   "metadata": {},
   "outputs": [],
   "source": [
    "comments = list()\n",
    "api_key = 'api key를 입력하시오.'\n",
    "api_obj = build('youtube', 'v3', developerKey=api_key)"
   ]
  },
  {
   "cell_type": "code",
   "execution_count": 4,
   "metadata": {},
   "outputs": [],
   "source": [
    "video_id = 'BSE9_bVYzhw'\n",
    "video_id2 = 'wiB8GFFDxu8'"
   ]
  },
  {
   "cell_type": "code",
   "execution_count": 5,
   "metadata": {},
   "outputs": [],
   "source": [
    "def find_time(strings):\n",
    "    idx_start = strings.find('\">')+2\n",
    "    idx_end = strings.find('</a')\n",
    "    if idx_start==1:\n",
    "        return \n",
    "    else:\n",
    "        time_string = strings[idx_start:idx_end]\n",
    "        if 'http' not in time_string:\n",
    "            return time_string\n",
    "        else:\n",
    "            return\n",
    "def split_time_hour(x):\n",
    "    if len(x.split(':'))==3:\n",
    "        return x.split(':')[-3]\n",
    "    else:\n",
    "        return 0\n",
    "def split_time_minute(x):\n",
    "    return x.split(':')[-2]\n",
    "def split_time_second(x):\n",
    "    return x.split(':')[-1]\n",
    "\n",
    "def transform_from_time(x):\n",
    "    # 분:초로 구성\n",
    "    hour = int(split_time_hour(x))\n",
    "    minute = int(split_time_minute(x))\n",
    "    second = int(split_time_second(x))\n",
    "    return hour*3600+minute*60+second\n",
    "\n",
    "def transform_to_time(x):\n",
    "    minute = str(x//60)\n",
    "    second = str(x%60)\n",
    "    strings = '{}:{}'.format(minute,second.zfill(2))\n",
    "    return strings\n",
    "\n",
    "def plot_freq(grouped):\n",
    "    grouped_input = grouped.copy()\n",
    "    grouped_input['주목_시간'] = grouped_input['주목_시간'].map(transform_from_time)\n",
    "    grouped_input['합'] = grouped_input['좋아요']+grouped_input['답글수']\n",
    "    \n",
    "    # 10초 단위로 합산해서 표현\n",
    "    end_time = grouped_input['주목_시간'].iloc[-1]\n",
    "    intervals = range(0,end_time+1,10)\n",
    "    grouped_input['구간'] = pd.Categorical(pd.cut(grouped_input['주목_시간'],bins = intervals)).codes\n",
    "    func_dict = {'주목_시간':'mean','합':'sum'}\n",
    "    grouped_temp = grouped_input.groupby('구간').agg(func_dict)\n",
    "    grouped_temp['주목_시간'] = grouped_temp['주목_시간'].round(0).astype(int)\n",
    "    grouped_temp = grouped_temp.sort_values(by=['주목_시간'])\n",
    "    \n",
    "    x = grouped_temp['주목_시간'].tolist()\n",
    "    y = grouped_temp['합'].tolist()\n",
    "    plt.plot(x,y)\n",
    "    if len(x)>15:\n",
    "        show_interval = len(x)//15\n",
    "    else:\n",
    "        show_interval = 1\n",
    "    plt.xticks(x[::show_interval],labels = pd.Series(x).map(transform_to_time).tolist()[::show_interval],rotation='90')\n",
    "    \n",
    "    \n",
    "\n",
    "def generate_comment_df(video_id,api_key):\n",
    "    # 대댓글은 포함되지 않는다.\n",
    "    api_obj = build('youtube', 'v3', developerKey=api_key)\n",
    "\n",
    "    comments = list()\n",
    "    response = api_obj.commentThreads().list(part='snippet,replies', videoId=video_id, maxResults=100).execute()\n",
    "        \n",
    "    while response:\n",
    "        for item in response['items']:\n",
    "            comment = item['snippet']['topLevelComment']['snippet']\n",
    "            replycount = item['snippet']['totalReplyCount']\n",
    "            comments.append([comment['authorDisplayName'], comment['publishedAt'], comment['likeCount'],replycount,comment['textDisplay']])\n",
    " \n",
    "        if 'nextPageToken' in response:\n",
    "            # 그다음 페이지 100개씩 받아옴\n",
    "            response = api_obj.commentThreads().list(part='snippet,replies', videoId=video_id, pageToken=response['nextPageToken'], maxResults=100).execute()\n",
    "        else:\n",
    "            break\n",
    "    df = pd.DataFrame(comments,columns = ['작성자','작성일시','좋아요','답글수','내용'])\n",
    "        \n",
    "    df['주목_시간'] = df['내용'].map(find_time)\n",
    "    grouped = df.groupby('주목_시간').sum()[['좋아요','답글수']]\n",
    "    if grouped.index[0] == '':\n",
    "        grouped = grouped.drop(labels = '')            \n",
    "    grouped_temp = grouped.reset_index()\n",
    "\n",
    "    grouped_temp['분'] = grouped_temp['주목_시간'].map(split_time_minute).astype(int)\n",
    "    grouped_temp['분'] += grouped_temp['주목_시간'].map(split_time_hour).astype(int)*60\n",
    "    grouped_temp['초'] = grouped_temp['주목_시간'].map(split_time_second).astype(int)\n",
    "    grouped_temp.sort_values(['분','초'],inplace=True)\n",
    "    grouped_temp['주목_시간'] = grouped_temp['분'].astype('str')+':'+grouped_temp['초'].astype('str')\n",
    "    grouped_temp.reset_index(drop=True,inplace=True)\n",
    "    grouped_temp.drop(['분','초'],axis=1,inplace=True)\n",
    "    return grouped_temp, df\n"
   ]
  },
  {
   "cell_type": "code",
   "execution_count": 9,
   "metadata": {
    "scrolled": true
   },
   "outputs": [],
   "source": [
    "grouped,df = generate_comment_df('qIinYt5nUII',api_key)\n",
    "# GzHVBJGpJg8&t=107s -> GzHVBJGpJg8"
   ]
  },
  {
   "cell_type": "code",
   "execution_count": 10,
   "metadata": {},
   "outputs": [
    {
     "data": {
      "text/html": [
       "<div>\n",
       "<style scoped>\n",
       "    .dataframe tbody tr th:only-of-type {\n",
       "        vertical-align: middle;\n",
       "    }\n",
       "\n",
       "    .dataframe tbody tr th {\n",
       "        vertical-align: top;\n",
       "    }\n",
       "\n",
       "    .dataframe thead th {\n",
       "        text-align: right;\n",
       "    }\n",
       "</style>\n",
       "<table border=\"1\" class=\"dataframe\">\n",
       "  <thead>\n",
       "    <tr style=\"text-align: right;\">\n",
       "      <th></th>\n",
       "      <th>작성자</th>\n",
       "      <th>작성일시</th>\n",
       "      <th>좋아요</th>\n",
       "      <th>답글수</th>\n",
       "      <th>내용</th>\n",
       "      <th>주목_시간</th>\n",
       "    </tr>\n",
       "  </thead>\n",
       "  <tbody>\n",
       "    <tr>\n",
       "      <th>0</th>\n",
       "      <td>김주원</td>\n",
       "      <td>2021-04-29T14:12:38Z</td>\n",
       "      <td>1</td>\n",
       "      <td>0</td>\n",
       "      <td>지나가는 이과생 : 절대 영도가 존재하니 한계가 존재하는 저온의 극복은 언젠간 가능...</td>\n",
       "      <td>None</td>\n",
       "    </tr>\n",
       "    <tr>\n",
       "      <th>1</th>\n",
       "      <td>김다복</td>\n",
       "      <td>2021-04-25T14:32:43Z</td>\n",
       "      <td>0</td>\n",
       "      <td>0</td>\n",
       "      <td>근데 왜 잘생김 침착맨 무슨 외국 배우같다</td>\n",
       "      <td>None</td>\n",
       "    </tr>\n",
       "    <tr>\n",
       "      <th>2</th>\n",
       "      <td>중간고사</td>\n",
       "      <td>2021-04-25T10:02:39Z</td>\n",
       "      <td>0</td>\n",
       "      <td>0</td>\n",
       "      <td>ㅋㅋㅋ아니 개웃기네    진짜 이 침펄 토론은 개쟈밌음</td>\n",
       "      <td>None</td>\n",
       "    </tr>\n",
       "    <tr>\n",
       "      <th>3</th>\n",
       "      <td>be hopely</td>\n",
       "      <td>2021-04-24T22:03:21Z</td>\n",
       "      <td>0</td>\n",
       "      <td>0</td>\n",
       "      <td>주호민님은 여름편이면서 트리를 왜 준비한고야ㅋㅋ</td>\n",
       "      <td>None</td>\n",
       "    </tr>\n",
       "    <tr>\n",
       "      <th>4</th>\n",
       "      <td>wish i</td>\n",
       "      <td>2021-04-19T09:39:58Z</td>\n",
       "      <td>0</td>\n",
       "      <td>0</td>\n",
       "      <td>사실상  겨울이면 식량이 없다..</td>\n",
       "      <td>None</td>\n",
       "    </tr>\n",
       "    <tr>\n",
       "      <th>...</th>\n",
       "      <td>...</td>\n",
       "      <td>...</td>\n",
       "      <td>...</td>\n",
       "      <td>...</td>\n",
       "      <td>...</td>\n",
       "      <td>...</td>\n",
       "    </tr>\n",
       "    <tr>\n",
       "      <th>1884</th>\n",
       "      <td>나승환</td>\n",
       "      <td>2018-11-17T09:28:24Z</td>\n",
       "      <td>791</td>\n",
       "      <td>15</td>\n",
       "      <td>크리링, 복숭아, 문어, 전위, 주호민 하다하다가 태양 본인을 섭외하는 침착빨 인맥...</td>\n",
       "      <td>None</td>\n",
       "    </tr>\n",
       "    <tr>\n",
       "      <th>1885</th>\n",
       "      <td>다라다라고룬</td>\n",
       "      <td>2018-11-17T09:28:15Z</td>\n",
       "      <td>371</td>\n",
       "      <td>6</td>\n",
       "      <td>또 여름본인 등판하셨네</td>\n",
       "      <td>None</td>\n",
       "    </tr>\n",
       "    <tr>\n",
       "      <th>1886</th>\n",
       "      <td>우진</td>\n",
       "      <td>2018-11-17T09:27:45Z</td>\n",
       "      <td>0</td>\n",
       "      <td>0</td>\n",
       "      <td>썸네일 실화??</td>\n",
       "      <td>None</td>\n",
       "    </tr>\n",
       "    <tr>\n",
       "      <th>1887</th>\n",
       "      <td>Dawn</td>\n",
       "      <td>2018-11-17T09:27:36Z</td>\n",
       "      <td>78</td>\n",
       "      <td>0</td>\n",
       "      <td>만세 금요일에 하셔서 언제 나오나 기다렸는데 엄청 빨리 나오네욬ㅋㅋㅋㅋㅋㅋㅋ 기대 ...</td>\n",
       "      <td>None</td>\n",
       "    </tr>\n",
       "    <tr>\n",
       "      <th>1888</th>\n",
       "      <td>다크문통통전차</td>\n",
       "      <td>2018-11-17T09:27:36Z</td>\n",
       "      <td>391</td>\n",
       "      <td>30</td>\n",
       "      <td>썸네일이 너무 자극적이라 자극적인 콘텐츠로 신고했습니다</td>\n",
       "      <td>None</td>\n",
       "    </tr>\n",
       "  </tbody>\n",
       "</table>\n",
       "<p>1889 rows × 6 columns</p>\n",
       "</div>"
      ],
      "text/plain": [
       "            작성자                  작성일시  좋아요  답글수  \\\n",
       "0           김주원  2021-04-29T14:12:38Z    1    0   \n",
       "1           김다복  2021-04-25T14:32:43Z    0    0   \n",
       "2          중간고사  2021-04-25T10:02:39Z    0    0   \n",
       "3     be hopely  2021-04-24T22:03:21Z    0    0   \n",
       "4        wish i  2021-04-19T09:39:58Z    0    0   \n",
       "...         ...                   ...  ...  ...   \n",
       "1884        나승환  2018-11-17T09:28:24Z  791   15   \n",
       "1885     다라다라고룬  2018-11-17T09:28:15Z  371    6   \n",
       "1886         우진  2018-11-17T09:27:45Z    0    0   \n",
       "1887       Dawn  2018-11-17T09:27:36Z   78    0   \n",
       "1888    다크문통통전차  2018-11-17T09:27:36Z  391   30   \n",
       "\n",
       "                                                     내용 주목_시간  \n",
       "0     지나가는 이과생 : 절대 영도가 존재하니 한계가 존재하는 저온의 극복은 언젠간 가능...  None  \n",
       "1                               근데 왜 잘생김 침착맨 무슨 외국 배우같다  None  \n",
       "2                        ㅋㅋㅋ아니 개웃기네    진짜 이 침펄 토론은 개쟈밌음  None  \n",
       "3                            주호민님은 여름편이면서 트리를 왜 준비한고야ㅋㅋ  None  \n",
       "4                                    사실상  겨울이면 식량이 없다..  None  \n",
       "...                                                 ...   ...  \n",
       "1884  크리링, 복숭아, 문어, 전위, 주호민 하다하다가 태양 본인을 섭외하는 침착빨 인맥...  None  \n",
       "1885                                       또 여름본인 등판하셨네  None  \n",
       "1886                                           썸네일 실화??  None  \n",
       "1887  만세 금요일에 하셔서 언제 나오나 기다렸는데 엄청 빨리 나오네욬ㅋㅋㅋㅋㅋㅋㅋ 기대 ...  None  \n",
       "1888                     썸네일이 너무 자극적이라 자극적인 콘텐츠로 신고했습니다  None  \n",
       "\n",
       "[1889 rows x 6 columns]"
      ]
     },
     "execution_count": 10,
     "metadata": {},
     "output_type": "execute_result"
    }
   ],
   "source": [
    "df"
   ]
  },
  {
   "cell_type": "code",
   "execution_count": 21,
   "metadata": {},
   "outputs": [
    {
     "data": {
      "image/png": "[encoded data removed]",
      "text/plain": [
       "<Figure size 432x288 with 1 Axes>"
      ]
     },
     "metadata": {
      "needs_background": "light"
     },
     "output_type": "display_data"
    }
   ],
   "source": [
    "plot_freq(grouped)"
   ]
  },
  {
   "cell_type": "markdown",
   "metadata": {},
   "source": [
    "- 두개의 영상이 있을 때 트리 형태로 묶을 수 있게 설계\n",
    "- 여러 개의 영상 주소를 유투버에 따라 자동으로 가져오기\n",
    "- 여러 유튜버를 다시 트리형태로 묶기\n",
    "- 묶어진 트리 전체를 pickle 같은 것 이용해서 로컬에 저장"
   ]
  },
  {
   "cell_type": "code",
   "execution_count": 21,
   "metadata": {},
   "outputs": [],
   "source": [
    "video_dict = {'우왁굳':['BSE9_bVYzhw','wiB8GFFDxu8','qpnXAE5dxQY'],'침착맨':['hnanNlDbsE4','UXb2DyR_2R4']}"
   ]
  },
  {
   "cell_type": "code",
   "execution_count": 22,
   "metadata": {},
   "outputs": [
    {
     "data": {
      "text/plain": [
       "['우왁굳', '침착맨']"
      ]
     },
     "execution_count": 22,
     "metadata": {},
     "output_type": "execute_result"
    }
   ],
   "source": [
    "list(video_dict.keys())"
   ]
  },
  {
   "cell_type": "code",
   "execution_count": 56,
   "metadata": {},
   "outputs": [
    {
     "name": "stderr",
     "output_type": "stream",
     "text": [
      "<ipython-input-56-7ffcefa765ea>:2: TqdmDeprecationWarning: This function will be removed in tqdm==5.0.0\n",
      "Please use `tqdm.notebook.tqdm` instead of `tqdm.tqdm_notebook`\n",
      "  for youtuber in tqdm_notebook(list(video_dict.keys())):\n"
     ]
    },
    {
     "data": {
      "application/vnd.jupyter.widget-view+json": {
       "model_id": "f1b258a4d0634eec9ef672fa614542e2",
       "version_major": 2,
       "version_minor": 0
      },
      "text/plain": [
       "HBox(children=(HTML(value=''), FloatProgress(value=0.0, max=2.0), HTML(value='')))"
      ]
     },
     "metadata": {},
     "output_type": "display_data"
    },
    {
     "name": "stderr",
     "output_type": "stream",
     "text": [
      "<ipython-input-56-7ffcefa765ea>:5: TqdmDeprecationWarning: This function will be removed in tqdm==5.0.0\n",
      "Please use `tqdm.notebook.tqdm` instead of `tqdm.tqdm_notebook`\n",
      "  for video in tqdm_notebook(video_list):\n"
     ]
    },
    {
     "data": {
      "application/vnd.jupyter.widget-view+json": {
       "model_id": "95d67c34691b401b96e7e6790f8520ad",
       "version_major": 2,
       "version_minor": 0
      },
      "text/plain": [
       "HBox(children=(HTML(value=''), FloatProgress(value=0.0, max=3.0), HTML(value='')))"
      ]
     },
     "metadata": {},
     "output_type": "display_data"
    },
    {
     "name": "stdout",
     "output_type": "stream",
     "text": [
      "\n"
     ]
    },
    {
     "data": {
      "application/vnd.jupyter.widget-view+json": {
       "model_id": "20748ed4c1e94f3eabedd129e94110e3",
       "version_major": 2,
       "version_minor": 0
      },
      "text/plain": [
       "HBox(children=(HTML(value=''), FloatProgress(value=0.0, max=2.0), HTML(value='')))"
      ]
     },
     "metadata": {},
     "output_type": "display_data"
    },
    {
     "name": "stdout",
     "output_type": "stream",
     "text": [
      "\n",
      "\n"
     ]
    }
   ],
   "source": [
    "temp_dict = {}\n",
    "for youtuber in tqdm_notebook(list(video_dict.keys())):\n",
    "    temp_dict_youtuber = {}\n",
    "    video_list = video_dict[youtuber]\n",
    "    for video in tqdm_notebook(video_list):\n",
    "        temp_dict_each_video = {}\n",
    "        grouped, df = generate_comment_df(video,api_key)\n",
    "        temp_dict_each_video['grouped'] = grouped\n",
    "        temp_dict_each_video['df'] = df\n",
    "        temp_dict_youtuber[video] = temp_dict_each_video\n",
    "    temp_dict[youtuber] = temp_dict_youtuber"
   ]
  },
  {
   "cell_type": "code",
   "execution_count": 35,
   "metadata": {},
   "outputs": [
    {
     "data": {
      "text/plain": [
       "dict_keys(['우왁굳', '침착맨'])"
      ]
     },
     "execution_count": 35,
     "metadata": {},
     "output_type": "execute_result"
    }
   ],
   "source": [
    "temp_dict.keys()"
   ]
  },
  {
   "cell_type": "code",
   "execution_count": 36,
   "metadata": {},
   "outputs": [
    {
     "data": {
      "text/plain": [
       "dict_keys(['hnanNlDbsE4', 'UXb2DyR_2R4'])"
      ]
     },
     "execution_count": 36,
     "metadata": {},
     "output_type": "execute_result"
    }
   ],
   "source": [
    "temp_dict['침착맨'].keys()"
   ]
  },
  {
   "cell_type": "code",
   "execution_count": 93,
   "metadata": {},
   "outputs": [],
   "source": [
    "aa = temp_dict['침착맨']['hnanNlDbsE4']['df']"
   ]
  },
  {
   "cell_type": "code",
   "execution_count": 97,
   "metadata": {},
   "outputs": [],
   "source": [
    "aa.to_excel('rr.xlsx',index=False)"
   ]
  },
  {
   "cell_type": "code",
   "execution_count": 58,
   "metadata": {},
   "outputs": [
    {
     "data": {
      "text/html": [
       "<div>\n",
       "<style scoped>\n",
       "    .dataframe tbody tr th:only-of-type {\n",
       "        vertical-align: middle;\n",
       "    }\n",
       "\n",
       "    .dataframe tbody tr th {\n",
       "        vertical-align: top;\n",
       "    }\n",
       "\n",
       "    .dataframe thead th {\n",
       "        text-align: right;\n",
       "    }\n",
       "</style>\n",
       "<table border=\"1\" class=\"dataframe\">\n",
       "  <thead>\n",
       "    <tr style=\"text-align: right;\">\n",
       "      <th></th>\n",
       "      <th>주목_시간</th>\n",
       "      <th>좋아요</th>\n",
       "      <th>답글수</th>\n",
       "    </tr>\n",
       "  </thead>\n",
       "  <tbody>\n",
       "    <tr>\n",
       "      <th>0</th>\n",
       "      <td>0:18</td>\n",
       "      <td>1</td>\n",
       "      <td>0</td>\n",
       "    </tr>\n",
       "    <tr>\n",
       "      <th>1</th>\n",
       "      <td>0:19</td>\n",
       "      <td>12</td>\n",
       "      <td>0</td>\n",
       "    </tr>\n",
       "    <tr>\n",
       "      <th>2</th>\n",
       "      <td>0:20</td>\n",
       "      <td>0</td>\n",
       "      <td>0</td>\n",
       "    </tr>\n",
       "    <tr>\n",
       "      <th>3</th>\n",
       "      <td>0:22</td>\n",
       "      <td>0</td>\n",
       "      <td>0</td>\n",
       "    </tr>\n",
       "    <tr>\n",
       "      <th>4</th>\n",
       "      <td>0:55</td>\n",
       "      <td>0</td>\n",
       "      <td>0</td>\n",
       "    </tr>\n",
       "    <tr>\n",
       "      <th>...</th>\n",
       "      <td>...</td>\n",
       "      <td>...</td>\n",
       "      <td>...</td>\n",
       "    </tr>\n",
       "    <tr>\n",
       "      <th>132</th>\n",
       "      <td>56:25</td>\n",
       "      <td>0</td>\n",
       "      <td>0</td>\n",
       "    </tr>\n",
       "    <tr>\n",
       "      <th>133</th>\n",
       "      <td>59:29</td>\n",
       "      <td>0</td>\n",
       "      <td>0</td>\n",
       "    </tr>\n",
       "    <tr>\n",
       "      <th>134</th>\n",
       "      <td>62:0</td>\n",
       "      <td>1</td>\n",
       "      <td>0</td>\n",
       "    </tr>\n",
       "    <tr>\n",
       "      <th>135</th>\n",
       "      <td>62:2</td>\n",
       "      <td>0</td>\n",
       "      <td>0</td>\n",
       "    </tr>\n",
       "    <tr>\n",
       "      <th>136</th>\n",
       "      <td>62:3</td>\n",
       "      <td>0</td>\n",
       "      <td>0</td>\n",
       "    </tr>\n",
       "  </tbody>\n",
       "</table>\n",
       "<p>137 rows × 3 columns</p>\n",
       "</div>"
      ],
      "text/plain": [
       "     주목_시간  좋아요  답글수\n",
       "0     0:18    1    0\n",
       "1     0:19   12    0\n",
       "2     0:20    0    0\n",
       "3     0:22    0    0\n",
       "4     0:55    0    0\n",
       "..     ...  ...  ...\n",
       "132  56:25    0    0\n",
       "133  59:29    0    0\n",
       "134   62:0    1    0\n",
       "135   62:2    0    0\n",
       "136   62:3    0    0\n",
       "\n",
       "[137 rows x 3 columns]"
      ]
     },
     "execution_count": 58,
     "metadata": {},
     "output_type": "execute_result"
    }
   ],
   "source": [
    "temp_dict['침착맨']['UXb2DyR_2R4']['grouped']"
   ]
  },
  {
   "cell_type": "code",
   "execution_count": 77,
   "metadata": {},
   "outputs": [
    {
     "data": {
      "image/png": "[encoded data removed]",
      "text/plain": [
       "<Figure size 432x288 with 1 Axes>"
      ]
     },
     "metadata": {
      "needs_background": "light"
     },
     "output_type": "display_data"
    }
   ],
   "source": [
    "plot_freq(temp_dict['침착맨']['UXb2DyR_2R4']['grouped'])"
   ]
  },
  {
   "cell_type": "code",
   "execution_count": 89,
   "metadata": {},
   "outputs": [
    {
     "name": "stdout",
     "output_type": "stream",
     "text": [
      "3722\n"
     ]
    },
    {
     "data": {
      "image/png": "[encoded data removed]",
      "text/plain": [
       "<Figure size 432x288 with 1 Axes>"
      ]
     },
     "metadata": {
      "needs_background": "light"
     },
     "output_type": "display_data"
    }
   ],
   "source": [
    "xx = plot_freq(temp_dict['침착맨']['UXb2DyR_2R4']['grouped'])"
   ]
  },
  {
   "cell_type": "code",
   "execution_count": 64,
   "metadata": {},
   "outputs": [
    {
     "data": {
      "image/png": "[encoded data removed]",
      "text/plain": [
       "<Figure size 432x288 with 1 Axes>"
      ]
     },
     "metadata": {
      "needs_background": "light"
     },
     "output_type": "display_data"
    }
   ],
   "source": [
    "plot_freq(temp_dict['우왁굳']['qpnXAE5dxQY']['grouped'])"
   ]
  },
  {
   "cell_type": "code",
   "execution_count": 90,
   "metadata": {},
   "outputs": [
    {
     "data": {
      "text/plain": [
       "0      0:19\n",
       "1      0:22\n",
       "2      0:55\n",
       "3      1:01\n",
       "4      1:24\n",
       "      ...  \n",
       "94    51:38\n",
       "95    56:25\n",
       "96    59:29\n",
       "97    62:00\n",
       "98    62:02\n",
       "Length: 99, dtype: object"
      ]
     },
     "execution_count": 90,
     "metadata": {},
     "output_type": "execute_result"
    }
   ],
   "source": [
    "pd.Series(xx).map(transform_to_time)"
   ]
  },
  {
   "cell_type": "code",
   "execution_count": 1,
   "metadata": {},
   "outputs": [],
   "source": [
    "import pickle"
   ]
  },
  {
   "cell_type": "code",
   "execution_count": 109,
   "metadata": {},
   "outputs": [],
   "source": [
    "with open('result0428.p','wb') as file:\n",
    "    pickle.dump(temp_dict,file)"
   ]
  },
  {
   "cell_type": "code",
   "execution_count": 6,
   "metadata": {},
   "outputs": [],
   "source": [
    "with open('result0428.p','rb') as file:\n",
    "    data = pickle.load(file)"
   ]
  },
  {
   "cell_type": "code",
   "execution_count": 8,
   "metadata": {},
   "outputs": [
    {
     "data": {
      "text/plain": [
       "dict_keys(['우왁굳', '침착맨'])"
      ]
     },
     "execution_count": 8,
     "metadata": {},
     "output_type": "execute_result"
    }
   ],
   "source": [
    "data.keys()"
   ]
  },
  {
   "cell_type": "code",
   "execution_count": null,
   "metadata": {},
   "outputs": [],
   "source": []
  }
 ],
 "metadata": {
  "kernelspec": {
   "display_name": "Python 3",
   "language": "python",
   "name": "python3"
  },
  "language_info": {
   "codemirror_mode": {
    "name": "ipython",
    "version": 3
   },
   "file_extension": ".py",
   "mimetype": "text/x-python",
   "name": "python",
   "nbconvert_exporter": "python",
   "pygments_lexer": "ipython3",
   "version": "3.8.5"
  }
 },
 "nbformat": 4,
 "nbformat_minor": 4
}
