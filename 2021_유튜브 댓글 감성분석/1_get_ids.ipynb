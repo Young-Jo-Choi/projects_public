{
 "cells": [
  {
   "cell_type": "code",
   "execution_count": 1,
   "metadata": {},
   "outputs": [],
   "source": [
    "from selenium.webdriver import Chrome\n",
    "from selenium.webdriver.common.keys import Keys\n",
    "from bs4 import BeautifulSoup\n",
    "\n",
    "import os\n",
    "import pandas as pd\n",
    "import time"
   ]
  },
  {
   "cell_type": "code",
   "execution_count": 2,
   "metadata": {},
   "outputs": [],
   "source": [
    "def set_Browser(driverpath):\n",
    "    delay = 3\n",
    "    # chromedriver를 다운받고 window 사용자는 exe를 붙여야함\n",
    "    browser = Chrome(driverpath + \"/chromedriver.exe\")\n",
    "    browser.implicitly_wait(delay)\n",
    "    return browser"
   ]
  },
  {
   "cell_type": "code",
   "execution_count": 3,
   "metadata": {},
   "outputs": [],
   "source": [
    "def handling_Browser(obj, start_url):\n",
    "    obj.get(start_url)\n",
    "    obj.maximize_window()\n",
    "\n",
    "    obj.find_element_by_xpath('//*[@class=\"scrollable style-scope tp-yt-paper-tabs\"]/tp-yt-paper-tab[2]').click()\n",
    "\n",
    "    body = obj.find_element_by_tag_name('body')  # 스크롤하기 위해 소스 추출\n",
    "    \n",
    "    # 긁어오는 동영상이 전부가 안되는 이유\n",
    "    num_of_pagedowns = 20\n",
    "    # num_of_pagedowns번 밑으로 내리는 것\n",
    "    while num_of_pagedowns:\n",
    "        body.send_keys(Keys.PAGE_DOWN)\n",
    "        time.sleep(3)\n",
    "        num_of_pagedowns -= 1\n",
    "\n",
    "    html0 = obj.page_source\n",
    "    html = BeautifulSoup(html0, 'html.parser')\n",
    "    rtnhtml = html.select(\n",
    "        'h3 > a'\n",
    "    )\n",
    "\n",
    "    return rtnhtml"
   ]
  },
  {
   "cell_type": "code",
   "execution_count": 4,
   "metadata": {},
   "outputs": [],
   "source": [
    "def get_YoutuberClips(html):\n",
    "    path = os.getcwd()\n",
    "\n",
    "    #browser = set_Browser(path)\n",
    "    #start_url = \"https://www.youtube.com/user/\" + srcText + \"/featured\"\n",
    "    #html = handling_Browser(browser, start_url)\n",
    "\n",
    "    title = []\n",
    "    url = []\n",
    "\n",
    "    for idx in html:\n",
    "        if idx.get('href')[:7] != '/watch?':\n",
    "            pass\n",
    "        else:\n",
    "            title.append(idx.text)\n",
    "            url.append(idx.get('href'))\n",
    "\n",
    "    title_list = pd.DataFrame(url, columns=['url'])\n",
    "    title_list['title'] = title\n",
    "    #title_list.to_csv(srcText + \"_YouTubeClips.csv\")\n",
    "    return title_list"
   ]
  },
  {
   "cell_type": "code",
   "execution_count": 7,
   "metadata": {},
   "outputs": [],
   "source": [
    "start_url = {'우왁굳':'https://www.youtube.com/user/woowakgood','침착맨':'https://www.youtube.com/user/zilioner83',\n",
    "            '랄로':'https://www.youtube.com/channel/UCD2YO_A_PVMgMDN9jpRrpVA'}"
   ]
  },
  {
   "cell_type": "code",
   "execution_count": 8,
   "metadata": {},
   "outputs": [],
   "source": [
    "driverpath = 'C:/Users/Choi/Desktop/jupyter'\n",
    "obj = set_Browser(driverpath)"
   ]
  },
  {
   "cell_type": "code",
   "execution_count": 9,
   "metadata": {},
   "outputs": [],
   "source": [
    "user_url = start_url['우왁굳']\n",
    "rtnhtml = handling_Browser(obj,user_url)"
   ]
  },
  {
   "cell_type": "code",
   "execution_count": 10,
   "metadata": {},
   "outputs": [
    {
     "data": {
      "text/html": [
       "<div>\n",
       "<style scoped>\n",
       "    .dataframe tbody tr th:only-of-type {\n",
       "        vertical-align: middle;\n",
       "    }\n",
       "\n",
       "    .dataframe tbody tr th {\n",
       "        vertical-align: top;\n",
       "    }\n",
       "\n",
       "    .dataframe thead th {\n",
       "        text-align: right;\n",
       "    }\n",
       "</style>\n",
       "<table border=\"1\" class=\"dataframe\">\n",
       "  <thead>\n",
       "    <tr style=\"text-align: right;\">\n",
       "      <th></th>\n",
       "      <th>url</th>\n",
       "      <th>title</th>\n",
       "    </tr>\n",
       "  </thead>\n",
       "  <tbody>\n",
       "    <tr>\n",
       "      <th>0</th>\n",
       "      <td>/watch?v=sThCWeKampc</td>\n",
       "      <td>2021 왁두 아바타를 선물 받았습니다</td>\n",
       "    </tr>\n",
       "    <tr>\n",
       "      <th>1</th>\n",
       "      <td>/watch?v=sVPWNOMlV0s</td>\n",
       "      <td>계란 떨어뜨리면 터지는 게임</td>\n",
       "    </tr>\n",
       "    <tr>\n",
       "      <th>2</th>\n",
       "      <td>/watch?v=2CqQYJlfluc</td>\n",
       "      <td>리제로 렘 vs 레옹 마틸다  - 마인크래프트 치즐 건축콘테스트 \"히로인편\"</td>\n",
       "    </tr>\n",
       "    <tr>\n",
       "      <th>3</th>\n",
       "      <td>/watch?v=TiMm7XfP-rg</td>\n",
       "      <td>이제 중국게임 수준 무시 못하겠네요...</td>\n",
       "    </tr>\n",
       "    <tr>\n",
       "      <th>4</th>\n",
       "      <td>/watch?v=2z73Lnw4AJk</td>\n",
       "      <td>일본여자가 한국남자를 선택할까?</td>\n",
       "    </tr>\n",
       "    <tr>\n",
       "      <th>...</th>\n",
       "      <td>...</td>\n",
       "      <td>...</td>\n",
       "    </tr>\n",
       "    <tr>\n",
       "      <th>445</th>\n",
       "      <td>/watch?v=Hm_SwUA6xqs</td>\n",
       "      <td>일본 편의점에서 새벽알바 하는 게임</td>\n",
       "    </tr>\n",
       "    <tr>\n",
       "      <th>446</th>\n",
       "      <td>/watch?v=cN5AXDFVmLE</td>\n",
       "      <td>이게 다 여자라고? ㅋㅋㅋ 단 한명의 진짜 남자를 찾아보세요!- 제3회 VR챗 너의...</td>\n",
       "    </tr>\n",
       "    <tr>\n",
       "      <th>447</th>\n",
       "      <td>/watch?v=fhESQloMf0o</td>\n",
       "      <td>동물농장에 나왔던 누워서만 사는 강아지 오쏠이 ㅋㅋㅋㅋㅋㅋ - 왁물원 6화</td>\n",
       "    </tr>\n",
       "    <tr>\n",
       "      <th>448</th>\n",
       "      <td>/watch?v=U0ySn0EiVNc</td>\n",
       "      <td>미소녀와 똥 - 제 7회 마인크래프트 건축팀배틀</td>\n",
       "    </tr>\n",
       "    <tr>\n",
       "      <th>449</th>\n",
       "      <td>/watch?v=aBo8_0IMHwU</td>\n",
       "      <td>브론즈가 아이언 가르치는 컨텐츠 ㅋㅋㅋㅋㅋㅋㅋ - 리그오브레전드 아이언을 구출하라!</td>\n",
       "    </tr>\n",
       "  </tbody>\n",
       "</table>\n",
       "<p>450 rows × 2 columns</p>\n",
       "</div>"
      ],
      "text/plain": [
       "                      url                                              title\n",
       "0    /watch?v=sThCWeKampc                              2021 왁두 아바타를 선물 받았습니다\n",
       "1    /watch?v=sVPWNOMlV0s                                    계란 떨어뜨리면 터지는 게임\n",
       "2    /watch?v=2CqQYJlfluc         리제로 렘 vs 레옹 마틸다  - 마인크래프트 치즐 건축콘테스트 \"히로인편\"\n",
       "3    /watch?v=TiMm7XfP-rg                             이제 중국게임 수준 무시 못하겠네요...\n",
       "4    /watch?v=2z73Lnw4AJk                                  일본여자가 한국남자를 선택할까?\n",
       "..                    ...                                                ...\n",
       "445  /watch?v=Hm_SwUA6xqs                                일본 편의점에서 새벽알바 하는 게임\n",
       "446  /watch?v=cN5AXDFVmLE  이게 다 여자라고? ㅋㅋㅋ 단 한명의 진짜 남자를 찾아보세요!- 제3회 VR챗 너의...\n",
       "447  /watch?v=fhESQloMf0o          동물농장에 나왔던 누워서만 사는 강아지 오쏠이 ㅋㅋㅋㅋㅋㅋ - 왁물원 6화\n",
       "448  /watch?v=U0ySn0EiVNc                         미소녀와 똥 - 제 7회 마인크래프트 건축팀배틀\n",
       "449  /watch?v=aBo8_0IMHwU     브론즈가 아이언 가르치는 컨텐츠 ㅋㅋㅋㅋㅋㅋㅋ - 리그오브레전드 아이언을 구출하라!\n",
       "\n",
       "[450 rows x 2 columns]"
      ]
     },
     "execution_count": 10,
     "metadata": {},
     "output_type": "execute_result"
    }
   ],
   "source": [
    "title_list = get_YoutuberClips(rtnhtml)\n",
    "obj.close()\n",
    "title_list"
   ]
  },
  {
   "cell_type": "code",
   "execution_count": 12,
   "metadata": {},
   "outputs": [],
   "source": [
    "def find_id(url):\n",
    "    idx = url.find('v=')\n",
    "    video_id = url[idx+2:]\n",
    "    return video_id"
   ]
  },
  {
   "cell_type": "code",
   "execution_count": 13,
   "metadata": {},
   "outputs": [],
   "source": [
    "title_list['url'] = title_list['url'].map(find_id)"
   ]
  },
  {
   "cell_type": "code",
   "execution_count": 15,
   "metadata": {},
   "outputs": [],
   "source": [
    "title_list.to_csv('title.csv',index=False)"
   ]
  },
  {
   "cell_type": "code",
   "execution_count": 34,
   "metadata": {},
   "outputs": [],
   "source": [
    "start_url2 = 'https://www.youtube.com/user/zilioner83'\n",
    "obj2 = set_Browser(driverpath)\n",
    "rtnhtml2 = handling_Browser(obj2,start_url2)\n",
    "title_list2 = get_YoutuberClips(rtnhtml2)\n",
    "title_id2 = title_list2['url'].map(find_id)\n",
    "obj2.close()"
   ]
  },
  {
   "cell_type": "code",
   "execution_count": 35,
   "metadata": {},
   "outputs": [
    {
     "data": {
      "text/plain": [
       "0      3uNLrF802P8\n",
       "1      PlDPvjloFqU\n",
       "2      nCQj-UkXzSo\n",
       "3      jnJ88ye1rYs\n",
       "4      emFPDJAJpKU\n",
       "          ...     \n",
       "265    BL0uNewXor8\n",
       "266    YuK8EfPrMG8\n",
       "267    XJt9mE1p1FI\n",
       "268    umfniL53XvY\n",
       "269    SwPR12e4B0M\n",
       "Name: url, Length: 270, dtype: object"
      ]
     },
     "execution_count": 35,
     "metadata": {},
     "output_type": "execute_result"
    }
   ],
   "source": [
    "title_id2"
   ]
  },
  {
   "cell_type": "code",
   "execution_count": 37,
   "metadata": {},
   "outputs": [
    {
     "data": {
      "text/html": [
       "<div>\n",
       "<style scoped>\n",
       "    .dataframe tbody tr th:only-of-type {\n",
       "        vertical-align: middle;\n",
       "    }\n",
       "\n",
       "    .dataframe tbody tr th {\n",
       "        vertical-align: top;\n",
       "    }\n",
       "\n",
       "    .dataframe thead th {\n",
       "        text-align: right;\n",
       "    }\n",
       "</style>\n",
       "<table border=\"1\" class=\"dataframe\">\n",
       "  <thead>\n",
       "    <tr style=\"text-align: right;\">\n",
       "      <th></th>\n",
       "      <th>url</th>\n",
       "      <th>title</th>\n",
       "    </tr>\n",
       "  </thead>\n",
       "  <tbody>\n",
       "    <tr>\n",
       "      <td>0</td>\n",
       "      <td>/watch?v=2CqQYJlfluc</td>\n",
       "      <td>리제로 렘 vs 레옹 마틸다  - 마인크래프트 치즐 건축콘테스트 \"히로인편\"</td>\n",
       "    </tr>\n",
       "    <tr>\n",
       "      <td>1</td>\n",
       "      <td>/watch?v=TiMm7XfP-rg</td>\n",
       "      <td>이제 중국게임 수준 무시 못하겠네요...</td>\n",
       "    </tr>\n",
       "    <tr>\n",
       "      <td>2</td>\n",
       "      <td>/watch?v=2z73Lnw4AJk</td>\n",
       "      <td>일본여자가 한국남자를 선택할까?</td>\n",
       "    </tr>\n",
       "    <tr>\n",
       "      <td>3</td>\n",
       "      <td>/watch?v=y8FCcwJWDlQ</td>\n",
       "      <td>RTX 3080을 붙일수있는 노트북이 있다?</td>\n",
       "    </tr>\n",
       "    <tr>\n",
       "      <td>4</td>\n",
       "      <td>/watch?v=AgAY3Y7jsG8</td>\n",
       "      <td>1대 100 소개팅. 여자가 1</td>\n",
       "    </tr>\n",
       "    <tr>\n",
       "      <td>...</td>\n",
       "      <td>...</td>\n",
       "      <td>...</td>\n",
       "    </tr>\n",
       "    <tr>\n",
       "      <td>235</td>\n",
       "      <td>/watch?v=nfMz11N43P4</td>\n",
       "      <td>왁파트 브랜드 로고가 정해졌습니다 - 마인크래프트 왁파트 2화</td>\n",
       "    </tr>\n",
       "    <tr>\n",
       "      <td>236</td>\n",
       "      <td>/watch?v=nPwc_icVjPA</td>\n",
       "      <td>자수하는 임포스터가 있다?  - 어몽어스 고멤합방</td>\n",
       "    </tr>\n",
       "    <tr>\n",
       "      <td>237</td>\n",
       "      <td>/watch?v=2r70OJkZY-M</td>\n",
       "      <td>두 선수를 한 번에 제치는 방법? - F1 2020 대한민국 최강팀전 제 1화</td>\n",
       "    </tr>\n",
       "    <tr>\n",
       "      <td>238</td>\n",
       "      <td>/watch?v=qzvnQ842lLo</td>\n",
       "      <td>윗몸일으키기 하는 게임</td>\n",
       "    </tr>\n",
       "    <tr>\n",
       "      <td>239</td>\n",
       "      <td>/watch?v=K_ZZT_I6khk</td>\n",
       "      <td>AORUS Xtreme Showdown - VALORANT Top Gameplay</td>\n",
       "    </tr>\n",
       "  </tbody>\n",
       "</table>\n",
       "<p>240 rows × 2 columns</p>\n",
       "</div>"
      ],
      "text/plain": [
       "                      url                                          title\n",
       "0    /watch?v=2CqQYJlfluc     리제로 렘 vs 레옹 마틸다  - 마인크래프트 치즐 건축콘테스트 \"히로인편\"\n",
       "1    /watch?v=TiMm7XfP-rg                         이제 중국게임 수준 무시 못하겠네요...\n",
       "2    /watch?v=2z73Lnw4AJk                              일본여자가 한국남자를 선택할까?\n",
       "3    /watch?v=y8FCcwJWDlQ                       RTX 3080을 붙일수있는 노트북이 있다?\n",
       "4    /watch?v=AgAY3Y7jsG8                              1대 100 소개팅. 여자가 1\n",
       "..                    ...                                            ...\n",
       "235  /watch?v=nfMz11N43P4             왁파트 브랜드 로고가 정해졌습니다 - 마인크래프트 왁파트 2화\n",
       "236  /watch?v=nPwc_icVjPA                    자수하는 임포스터가 있다?  - 어몽어스 고멤합방\n",
       "237  /watch?v=2r70OJkZY-M    두 선수를 한 번에 제치는 방법? - F1 2020 대한민국 최강팀전 제 1화\n",
       "238  /watch?v=qzvnQ842lLo                                   윗몸일으키기 하는 게임\n",
       "239  /watch?v=K_ZZT_I6khk  AORUS Xtreme Showdown - VALORANT Top Gameplay\n",
       "\n",
       "[240 rows x 2 columns]"
      ]
     },
     "execution_count": 37,
     "metadata": {},
     "output_type": "execute_result"
    }
   ],
   "source": [
    "\n",
    "start_url = 'https://www.youtube.com/user/woowakgood'\n",
    "obj2 = set_Browser(driverpath)\n",
    "rtnhtml = handling_Browser(obj2,start_url)\n",
    "title_list = get_YoutuberClips(rtnhtml)\n",
    "obj2.close()\n",
    "title_list"
   ]
  },
  {
   "cell_type": "code",
   "execution_count": 38,
   "metadata": {},
   "outputs": [],
   "source": []
  },
  {
   "cell_type": "code",
   "execution_count": null,
   "metadata": {},
   "outputs": [],
   "source": []
  }
 ],
 "metadata": {
  "kernelspec": {
   "display_name": "Python 3",
   "language": "python",
   "name": "python3"
  },
  "language_info": {
   "codemirror_mode": {
    "name": "ipython",
    "version": 3
   },
   "file_extension": ".py",
   "mimetype": "text/x-python",
   "name": "python",
   "nbconvert_exporter": "python",
   "pygments_lexer": "ipython3",
   "version": "3.8.5"
  }
 },
 "nbformat": 4,
 "nbformat_minor": 2
}
