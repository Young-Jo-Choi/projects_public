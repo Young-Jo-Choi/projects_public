{
 "cells": [
  {
   "cell_type": "code",
   "execution_count": 3,
   "metadata": {},
   "outputs": [],
   "source": [
    "import numpy as np\n",
    "import pandas as pd\n",
    "import json\n",
    "import joblib\n",
    "import matplotlib.pyplot as plt"
   ]
  },
  {
   "cell_type": "code",
   "execution_count": 1,
   "metadata": {},
   "outputs": [],
   "source": [
    "clf = joblib.load('SA_lr.pkl')"
   ]
  },
  {
   "cell_type": "code",
   "execution_count": 2,
   "metadata": {},
   "outputs": [],
   "source": [
    "from tqdm import tqdm_notebook"
   ]
  },
  {
   "cell_type": "code",
   "execution_count": 3,
   "metadata": {},
   "outputs": [],
   "source": [
    "from konlpy.tag import Okt\n",
    "okt = Okt()"
   ]
  },
  {
   "cell_type": "code",
   "execution_count": 4,
   "metadata": {},
   "outputs": [],
   "source": [
    "def okt_tokenizer(text):\n",
    "    # 형태소 단위로 토큰화 작업\n",
    "    tokens = okt.morphs(text)\n",
    "    return tokens\n",
    "tfidf = joblib.load('tfidf.pkl')"
   ]
  },
  {
   "cell_type": "code",
   "execution_count": 5,
   "metadata": {},
   "outputs": [],
   "source": [
    "import re\n",
    "from sklearn.feature_extraction.text import TfidfVectorizer"
   ]
  },
  {
   "cell_type": "code",
   "execution_count": 5,
   "metadata": {},
   "outputs": [],
   "source": [
    "txts = []\n",
    "with open('../YouTubeResult.txt','r',encoding='UTF8') as f:\n",
    "    string = f.readlines()\n",
    "    for li in string:\n",
    "        try:\n",
    "            texts = json.loads(li)['text']\n",
    "            txts.append(texts)\n",
    "        except:\n",
    "            pass"
   ]
  },
  {
   "cell_type": "code",
   "execution_count": 59,
   "metadata": {},
   "outputs": [],
   "source": [
    "txts_a = []\n",
    "with open('../YouTubeResult.txt','r',encoding='UTF8') as f:\n",
    "    string = f.readlines()\n",
    "    for li in string[:4]:\n",
    "        try:\n",
    "            texts = json.loads(li)\n",
    "            txts_a.append(texts)\n",
    "        except:\n",
    "            pass"
   ]
  },
  {
   "cell_type": "code",
   "execution_count": 62,
   "metadata": {},
   "outputs": [
    {
     "data": {
      "text/plain": [
       "[{'cid': 'Ugj8Wbg8cfUmRngCoAEC',\n",
       "  'text': '참고로 일리오스 우물에 들어가면 무서운 소리남',\n",
       "  'time': '4년 전(수정됨)',\n",
       "  'author': '조회수999,999,999',\n",
       "  'channel': 'UCUYXsxQause81HqEWnkwpIA',\n",
       "  'votes': '0',\n",
       "  'photo': 'https://yt3.ggpht.com/ytc/AAUvwnigqlOBgcHU-XhsFeGnjCAHPsi907F3lF88x_Y6=s176-c-k-c0x00ffffff-no-rj',\n",
       "  'heart': False},\n",
       " {'cid': 'Ugi8UR-vZy6HLHgCoAEC',\n",
       "  'text': '5:22에 등대 불빛도 돌아가네...세심한 갓리자드',\n",
       "  'time': '4년 전',\n",
       "  'author': '햅피니스123',\n",
       "  'channel': 'UCLGBv90eD7SXbpNmfKwwIgw',\n",
       "  'votes': '4',\n",
       "  'photo': 'https://yt3.ggpht.com/ytc/AAUvwnhHwXfrY8_wOp5fKaKFy3x2RooKfneGx9yDHdlfUg=s176-c-k-c0x00ffffff-no-rj',\n",
       "  'heart': False},\n",
       " {'cid': 'UghUfC-jjwDSY3gCoAEC',\n",
       "  'text': '뀽',\n",
       "  'time': '4년 전',\n",
       "  'author': '최윤',\n",
       "  'channel': 'UCi4tQkcReDhZeHKFu9jGTWQ',\n",
       "  'votes': '0',\n",
       "  'photo': 'https://yt3.ggpht.com/ytc/AAUvwnh3JnOVwVebk_RPTppw6EIyJxC0oYv-Xv6ZFBGnfg=s176-c-k-c0x00ffffff-no-rj',\n",
       "  'heart': False},\n",
       " {'cid': 'UghSUPnN7G5LUngCoAEC',\n",
       "  'text': '옥구슬만 몰라씀\\n \\n \\n \\n \\n \\n 그리고 지브롤터 솜브라로 ㄷ...... 아님다 ㅋ',\n",
       "  'time': '4년 전(수정됨)',\n",
       "  'author': '발바닥무시무시한',\n",
       "  'channel': 'UCpWrpa9QnMIVhbLp5cqfCtA',\n",
       "  'votes': '0',\n",
       "  'photo': 'https://yt3.ggpht.com/ytc/AAUvwng2-_6RPSC692_DZzCjWAEtW00GXZVkuktrNOyX=s176-c-k-c0x00ffffff-no-rj',\n",
       "  'heart': False}]"
      ]
     },
     "execution_count": 62,
     "metadata": {},
     "output_type": "execute_result"
    }
   ],
   "source": [
    "txts_a"
   ]
  },
  {
   "cell_type": "code",
   "execution_count": 6,
   "metadata": {},
   "outputs": [
    {
     "data": {
      "text/plain": [
       "1358094"
      ]
     },
     "execution_count": 6,
     "metadata": {},
     "output_type": "execute_result"
    }
   ],
   "source": [
    "len(txts)"
   ]
  },
  {
   "cell_type": "code",
   "execution_count": 13,
   "metadata": {},
   "outputs": [
    {
     "name": "stderr",
     "output_type": "stream",
     "text": [
      "<ipython-input-13-51c9e9746cea>:2: TqdmDeprecationWarning: This function will be removed in tqdm==5.0.0\n",
      "Please use `tqdm.notebook.tqdm` instead of `tqdm.tqdm_notebook`\n",
      "  for sentence in tqdm_notebook(txts):\n"
     ]
    },
    {
     "data": {
      "application/vnd.jupyter.widget-view+json": {
       "model_id": "a798e44bd7684cce8f41000f575ae831",
       "version_major": 2,
       "version_minor": 0
      },
      "text/plain": [
       "HBox(children=(HTML(value=''), FloatProgress(value=0.0, max=1358094.0), HTML(value='')))"
      ]
     },
     "metadata": {},
     "output_type": "display_data"
    },
    {
     "name": "stdout",
     "output_type": "stream",
     "text": [
      "\n"
     ]
    }
   ],
   "source": [
    "points_decision_power = []\n",
    "for sentence in tqdm_notebook(txts):\n",
    "    st = re.compile(r'[ㄱ-ㅣ가-힣]+').findall(sentence)\n",
    "    st = [\" \".join(st)]\n",
    "    st_tfidf = tfidf.transform(st)\n",
    "    point = clf.decision_function(st_tfidf)\n",
    "    points_decision_power.append(point)"
   ]
  },
  {
   "cell_type": "code",
   "execution_count": 16,
   "metadata": {},
   "outputs": [
    {
     "data": {
      "text/plain": [
       "1358094"
      ]
     },
     "execution_count": 16,
     "metadata": {},
     "output_type": "execute_result"
    }
   ],
   "source": [
    "len(points_decision_power)"
   ]
  },
  {
   "cell_type": "code",
   "execution_count": 21,
   "metadata": {},
   "outputs": [
    {
     "data": {
      "text/plain": [
       "array([[-1.52337814],\n",
       "       [-0.47547522],\n",
       "       [-0.75446598],\n",
       "       ...,\n",
       "       [-0.9267617 ],\n",
       "       [-1.59583513],\n",
       "       [-0.93470822]])"
      ]
     },
     "execution_count": 21,
     "metadata": {},
     "output_type": "execute_result"
    }
   ],
   "source": [
    "np.array(points_decision_power)"
   ]
  },
  {
   "cell_type": "code",
   "execution_count": 23,
   "metadata": {},
   "outputs": [
    {
     "data": {
      "text/plain": [
       "array([[0.82103539, 0.17896461],\n",
       "       [0.61667885, 0.38332115],\n",
       "       [0.68015103, 0.31984897],\n",
       "       ...,\n",
       "       [0.71641784, 0.28358216],\n",
       "       [0.83143548, 0.16856452],\n",
       "       [0.71802951, 0.28197049]])"
      ]
     },
     "execution_count": 23,
     "metadata": {},
     "output_type": "execute_result"
    }
   ],
   "source": [
    "np.array(points).reshape(-1,2)"
   ]
  },
  {
   "cell_type": "code",
   "execution_count": 24,
   "metadata": {},
   "outputs": [],
   "source": [
    "txt_df = pd.DataFrame()\n",
    "txt_df['comment'] = txts\n",
    "txt_df['decision_power'] = np.array(points_decision_power)\n",
    "txt_df['positive_proba'] = np.array(points).reshape(-1,2)[:,1]\n",
    "txt_df['negative_proba'] = np.array(points).reshape(-1,2)[:,0]"
   ]
  },
  {
   "cell_type": "code",
   "execution_count": 26,
   "metadata": {},
   "outputs": [
    {
     "data": {
      "text/html": [
       "<div>\n",
       "<style scoped>\n",
       "    .dataframe tbody tr th:only-of-type {\n",
       "        vertical-align: middle;\n",
       "    }\n",
       "\n",
       "    .dataframe tbody tr th {\n",
       "        vertical-align: top;\n",
       "    }\n",
       "\n",
       "    .dataframe thead th {\n",
       "        text-align: right;\n",
       "    }\n",
       "</style>\n",
       "<table border=\"1\" class=\"dataframe\">\n",
       "  <thead>\n",
       "    <tr style=\"text-align: right;\">\n",
       "      <th></th>\n",
       "      <th>comment</th>\n",
       "      <th>decision_power</th>\n",
       "      <th>positive_proba</th>\n",
       "      <th>negative_proba</th>\n",
       "      <th>pos/neg</th>\n",
       "    </tr>\n",
       "  </thead>\n",
       "  <tbody>\n",
       "    <tr>\n",
       "      <th>0</th>\n",
       "      <td>참고로 일리오스 우물에 들어가면 무서운 소리남</td>\n",
       "      <td>-1.523378</td>\n",
       "      <td>0.178965</td>\n",
       "      <td>0.821035</td>\n",
       "      <td>0</td>\n",
       "    </tr>\n",
       "    <tr>\n",
       "      <th>1</th>\n",
       "      <td>5:22에 등대 불빛도 돌아가네...세심한 갓리자드</td>\n",
       "      <td>-0.475475</td>\n",
       "      <td>0.383321</td>\n",
       "      <td>0.616679</td>\n",
       "      <td>0</td>\n",
       "    </tr>\n",
       "    <tr>\n",
       "      <th>2</th>\n",
       "      <td>뀽</td>\n",
       "      <td>-0.754466</td>\n",
       "      <td>0.319849</td>\n",
       "      <td>0.680151</td>\n",
       "      <td>0</td>\n",
       "    </tr>\n",
       "    <tr>\n",
       "      <th>3</th>\n",
       "      <td>옥구슬만 몰라씀\\n \\n \\n \\n \\n \\n 그리고 지브롤터 솜브라로 ㄷ........</td>\n",
       "      <td>-1.404263</td>\n",
       "      <td>0.197140</td>\n",
       "      <td>0.802860</td>\n",
       "      <td>0</td>\n",
       "    </tr>\n",
       "    <tr>\n",
       "      <th>4</th>\n",
       "      <td>이형말투 ㅋㅋㅋ</td>\n",
       "      <td>3.572677</td>\n",
       "      <td>0.972686</td>\n",
       "      <td>0.027314</td>\n",
       "      <td>1</td>\n",
       "    </tr>\n",
       "    <tr>\n",
       "      <th>5</th>\n",
       "      <td>우왁굳님 저가 아는거 엄청많이나와욤ㅋㅋ</td>\n",
       "      <td>1.196650</td>\n",
       "      <td>0.767928</td>\n",
       "      <td>0.232072</td>\n",
       "      <td>1</td>\n",
       "    </tr>\n",
       "    <tr>\n",
       "      <th>6</th>\n",
       "      <td>나만네팔이 느그팔로 들음?</td>\n",
       "      <td>-0.574508</td>\n",
       "      <td>0.360197</td>\n",
       "      <td>0.639803</td>\n",
       "      <td>0</td>\n",
       "    </tr>\n",
       "    <tr>\n",
       "      <th>7</th>\n",
       "      <td>하나무라 그림 봄</td>\n",
       "      <td>-1.136011</td>\n",
       "      <td>0.243054</td>\n",
       "      <td>0.756946</td>\n",
       "      <td>0</td>\n",
       "    </tr>\n",
       "    <tr>\n",
       "      <th>8</th>\n",
       "      <td>맵을 만드는법좀 알려주세요 무한 스킬도 쓰고싶어요 ㅠㅠ</td>\n",
       "      <td>-0.708675</td>\n",
       "      <td>0.329892</td>\n",
       "      <td>0.670108</td>\n",
       "      <td>0</td>\n",
       "    </tr>\n",
       "    <tr>\n",
       "      <th>9</th>\n",
       "      <td>우헤헤헤헤 요소 나다 요소!! 이히힣ㅎ 나를 찾아버려(ㅈㅅ 넘 외롭습니다 요즘</td>\n",
       "      <td>-0.125524</td>\n",
       "      <td>0.468660</td>\n",
       "      <td>0.531340</td>\n",
       "      <td>0</td>\n",
       "    </tr>\n",
       "  </tbody>\n",
       "</table>\n",
       "</div>"
      ],
      "text/plain": [
       "                                             comment  decision_power  \\\n",
       "0                          참고로 일리오스 우물에 들어가면 무서운 소리남       -1.523378   \n",
       "1                       5:22에 등대 불빛도 돌아가네...세심한 갓리자드       -0.475475   \n",
       "2                                                  뀽       -0.754466   \n",
       "3  옥구슬만 몰라씀\\n \\n \\n \\n \\n \\n 그리고 지브롤터 솜브라로 ㄷ........       -1.404263   \n",
       "4                                           이형말투 ㅋㅋㅋ        3.572677   \n",
       "5                              우왁굳님 저가 아는거 엄청많이나와욤ㅋㅋ        1.196650   \n",
       "6                                     나만네팔이 느그팔로 들음?       -0.574508   \n",
       "7                                          하나무라 그림 봄       -1.136011   \n",
       "8                     맵을 만드는법좀 알려주세요 무한 스킬도 쓰고싶어요 ㅠㅠ       -0.708675   \n",
       "9        우헤헤헤헤 요소 나다 요소!! 이히힣ㅎ 나를 찾아버려(ㅈㅅ 넘 외롭습니다 요즘       -0.125524   \n",
       "\n",
       "   positive_proba  negative_proba  pos/neg  \n",
       "0        0.178965        0.821035        0  \n",
       "1        0.383321        0.616679        0  \n",
       "2        0.319849        0.680151        0  \n",
       "3        0.197140        0.802860        0  \n",
       "4        0.972686        0.027314        1  \n",
       "5        0.767928        0.232072        1  \n",
       "6        0.360197        0.639803        0  \n",
       "7        0.243054        0.756946        0  \n",
       "8        0.329892        0.670108        0  \n",
       "9        0.468660        0.531340        0  "
      ]
     },
     "execution_count": 26,
     "metadata": {},
     "output_type": "execute_result"
    }
   ],
   "source": [
    "txt_df['pos/neg'] = txt_df['decision_power'].map(lambda x:1 if x>=0 else 0)\n",
    "txt_df.head(10)"
   ]
  },
  {
   "cell_type": "code",
   "execution_count": 27,
   "metadata": {},
   "outputs": [
    {
     "data": {
      "text/plain": [
       "0    752863\n",
       "1    605231\n",
       "Name: pos/neg, dtype: int64"
      ]
     },
     "execution_count": 27,
     "metadata": {},
     "output_type": "execute_result"
    }
   ],
   "source": [
    "txt_df['pos/neg'].value_counts()"
   ]
  },
  {
   "cell_type": "code",
   "execution_count": 121,
   "metadata": {},
   "outputs": [
    {
     "data": {
      "text/plain": [
       "0.2758061081818793"
      ]
     },
     "execution_count": 121,
     "metadata": {},
     "output_type": "execute_result"
    }
   ],
   "source": [
    "np.sum(txt_df['decision_power'])/1358094"
   ]
  },
  {
   "cell_type": "code",
   "execution_count": 30,
   "metadata": {},
   "outputs": [],
   "source": [
    "import matplotlib.pyplot as plt"
   ]
  },
  {
   "cell_type": "markdown",
   "metadata": {},
   "source": [
    "# 그래프 아이디어가 떠오른다면 여기서부터"
   ]
  },
  {
   "cell_type": "code",
   "execution_count": 88,
   "metadata": {},
   "outputs": [],
   "source": [
    "txt_df = pd.read_csv('result0623.csv')"
   ]
  },
  {
   "cell_type": "code",
   "execution_count": 89,
   "metadata": {},
   "outputs": [
    {
     "data": {
      "text/plain": [
       "(1358094, 5)"
      ]
     },
     "execution_count": 89,
     "metadata": {},
     "output_type": "execute_result"
    }
   ],
   "source": [
    "txt_df.shape"
   ]
  },
  {
   "cell_type": "code",
   "execution_count": 101,
   "metadata": {},
   "outputs": [
    {
     "data": {
      "image/png": "[encoded data removed]",
      "text/plain": [
       "<Figure size 432x288 with 1 Axes>"
      ]
     },
     "metadata": {
      "needs_background": "light"
     },
     "output_type": "display_data"
    }
   ],
   "source": [
    "txt_df['pos/neg'].value_counts().plot(kind='bar')\n",
    "plt.text(0.78,630000,'positive',fontdict={'fontsize':16})\n",
    "plt.text(-0.2,780000,'negative',fontdict={'fontsize':16})\n",
    "plt.ylim([0,850000])\n",
    "plt.xticks(ticks = [0,1],labels=['negative','positive'],rotation='0')\n",
    "plt.title('Pos / Neg',fontdict={'fontsize':16})\n",
    "plt.ylabel('Counts',fontdict={'fontsize':12})\n",
    "plt.savefig('entire_count.png',bbox_inches='tight', dpi=300)"
   ]
  },
  {
   "cell_type": "code",
   "execution_count": 120,
   "metadata": {},
   "outputs": [
    {
     "data": {
      "image/png": "[encoded data removed]",
      "text/plain": [
       "<Figure size 432x288 with 1 Axes>"
      ]
     },
     "metadata": {
      "needs_background": "light"
     },
     "output_type": "display_data"
    }
   ],
   "source": [
    "plt.hist(txt_df['decision_power'],bins=15)\n",
    "plt.vlines(0,0,520000,color='black')\n",
    "plt.ylim([0,520000])\n",
    "plt.title('Pos/Neg Intensity',fontdict={'fontsize':16})\n",
    "plt.xlabel('Decision function value',fontdict={'fontsize':12})\n",
    "plt.ylabel('Counts',fontdict={'fontsize':12})\n",
    "plt.text(9,300000,'합 : '+str(np.round(np.sum(txt_df['decision_power']),3)),fontdict={'fontsize':16})\n",
    "plt.savefig('entire_intensity.png',bbox_inches='tight', dpi=300)"
   ]
  },
  {
   "cell_type": "code",
   "execution_count": 43,
   "metadata": {},
   "outputs": [],
   "source": [
    "#txt_df.to_csv('result0623.csv',index=False)"
   ]
  },
  {
   "cell_type": "code",
   "execution_count": 6,
   "metadata": {},
   "outputs": [],
   "source": [
    "def emotion_predict(sentence):\n",
    "    st = re.compile(r'[ㄱ-ㅣ가-힣]+').findall(sentence)\n",
    "    st = [\" \".join(st)]\n",
    "    st_tfidf = tfidf.transform(st)\n",
    "    st_predict = clf.predict(st_tfidf)\n",
    "    decision_power = clf.decision_function(st_tfidf)\n",
    "    return decision_power[0]"
   ]
  },
  {
   "cell_type": "code",
   "execution_count": 7,
   "metadata": {},
   "outputs": [
    {
     "name": "stderr",
     "output_type": "stream",
     "text": [
      "<ipython-input-7-6feb106801f0>:4: TqdmDeprecationWarning: This function will be removed in tqdm==5.0.0\n",
      "Please use `tqdm.notebook.tqdm` instead of `tqdm.tqdm_notebook`\n",
      "  for li in tqdm_notebook(string):\n"
     ]
    },
    {
     "data": {
      "application/vnd.jupyter.widget-view+json": {
       "model_id": "c041ffea83904fe389fc199fdbceb9c3",
       "version_major": 2,
       "version_minor": 0
      },
      "text/plain": [
       "HBox(children=(HTML(value=''), FloatProgress(value=0.0, max=1362955.0), HTML(value='')))"
      ]
     },
     "metadata": {},
     "output_type": "display_data"
    },
    {
     "name": "stdout",
     "output_type": "stream",
     "text": [
      "\n"
     ]
    }
   ],
   "source": [
    "information = {'text':[],'author':[],'decision_power':[],'time':[],'votes':[]}\n",
    "with open('../YouTubeResult.txt','r',encoding='UTF8') as f:\n",
    "    string = f.readlines()\n",
    "    for li in tqdm_notebook(string):\n",
    "        try:\n",
    "            text = json.loads(li)['text']\n",
    "            decision_power = emotion_predict(text)\n",
    "            written_time = json.loads(li)['time']\n",
    "            vote = json.loads(li)['votes']\n",
    "            author = json.loads(li)['author']\n",
    "            information['text'].append(text)\n",
    "            information['decision_power'].append(decision_power)\n",
    "            information['time'].append(written_time)\n",
    "            information['votes'].append(vote)\n",
    "            information['author'].append(author)\n",
    "        except:\n",
    "            pass\n"
   ]
  },
  {
   "cell_type": "code",
   "execution_count": 8,
   "metadata": {},
   "outputs": [],
   "source": [
    "information_df = pd.DataFrame(information)"
   ]
  },
  {
   "cell_type": "code",
   "execution_count": 12,
   "metadata": {},
   "outputs": [
    {
     "data": {
      "text/html": [
       "<div>\n",
       "<style scoped>\n",
       "    .dataframe tbody tr th:only-of-type {\n",
       "        vertical-align: middle;\n",
       "    }\n",
       "\n",
       "    .dataframe tbody tr th {\n",
       "        vertical-align: top;\n",
       "    }\n",
       "\n",
       "    .dataframe thead th {\n",
       "        text-align: right;\n",
       "    }\n",
       "</style>\n",
       "<table border=\"1\" class=\"dataframe\">\n",
       "  <thead>\n",
       "    <tr style=\"text-align: right;\">\n",
       "      <th></th>\n",
       "      <th>text</th>\n",
       "      <th>author</th>\n",
       "      <th>decision_power</th>\n",
       "      <th>time</th>\n",
       "      <th>votes</th>\n",
       "    </tr>\n",
       "  </thead>\n",
       "  <tbody>\n",
       "    <tr>\n",
       "      <th>0</th>\n",
       "      <td>참고로 일리오스 우물에 들어가면 무서운 소리남</td>\n",
       "      <td>조회수999,999,999</td>\n",
       "      <td>-1.523378</td>\n",
       "      <td>4년 전(수정됨)</td>\n",
       "      <td>0</td>\n",
       "    </tr>\n",
       "    <tr>\n",
       "      <th>1</th>\n",
       "      <td>5:22에 등대 불빛도 돌아가네...세심한 갓리자드</td>\n",
       "      <td>햅피니스123</td>\n",
       "      <td>-0.475475</td>\n",
       "      <td>4년 전</td>\n",
       "      <td>4</td>\n",
       "    </tr>\n",
       "    <tr>\n",
       "      <th>2</th>\n",
       "      <td>뀽</td>\n",
       "      <td>최윤</td>\n",
       "      <td>-0.754466</td>\n",
       "      <td>4년 전</td>\n",
       "      <td>0</td>\n",
       "    </tr>\n",
       "    <tr>\n",
       "      <th>3</th>\n",
       "      <td>옥구슬만 몰라씀\\n \\n \\n \\n \\n \\n 그리고 지브롤터 솜브라로 ㄷ........</td>\n",
       "      <td>발바닥무시무시한</td>\n",
       "      <td>-1.404263</td>\n",
       "      <td>4년 전(수정됨)</td>\n",
       "      <td>0</td>\n",
       "    </tr>\n",
       "    <tr>\n",
       "      <th>4</th>\n",
       "      <td>이형말투 ㅋㅋㅋ</td>\n",
       "      <td>JINN n</td>\n",
       "      <td>3.572677</td>\n",
       "      <td>3년 전</td>\n",
       "      <td>0</td>\n",
       "    </tr>\n",
       "  </tbody>\n",
       "</table>\n",
       "</div>"
      ],
      "text/plain": [
       "                                                text          author  \\\n",
       "0                          참고로 일리오스 우물에 들어가면 무서운 소리남  조회수999,999,999   \n",
       "1                       5:22에 등대 불빛도 돌아가네...세심한 갓리자드         햅피니스123   \n",
       "2                                                  뀽              최윤   \n",
       "3  옥구슬만 몰라씀\\n \\n \\n \\n \\n \\n 그리고 지브롤터 솜브라로 ㄷ........        발바닥무시무시한   \n",
       "4                                           이형말투 ㅋㅋㅋ          JINN n   \n",
       "\n",
       "   decision_power       time votes  \n",
       "0       -1.523378  4년 전(수정됨)     0  \n",
       "1       -0.475475       4년 전     4  \n",
       "2       -0.754466       4년 전     0  \n",
       "3       -1.404263  4년 전(수정됨)     0  \n",
       "4        3.572677       3년 전     0  "
      ]
     },
     "execution_count": 12,
     "metadata": {},
     "output_type": "execute_result"
    }
   ],
   "source": [
    "information_df.head()"
   ]
  },
  {
   "cell_type": "code",
   "execution_count": 13,
   "metadata": {},
   "outputs": [],
   "source": [
    "information_df.to_csv(\"text_time_vote.csv\",index=False)"
   ]
  },
  {
   "cell_type": "code",
   "execution_count": null,
   "metadata": {},
   "outputs": [],
   "source": [
    "information_df = pd.read_csv('text_time_vote.csv')"
   ]
  },
  {
   "cell_type": "code",
   "execution_count": 112,
   "metadata": {},
   "outputs": [
    {
     "data": {
      "text/html": [
       "<div>\n",
       "<style scoped>\n",
       "    .dataframe tbody tr th:only-of-type {\n",
       "        vertical-align: middle;\n",
       "    }\n",
       "\n",
       "    .dataframe tbody tr th {\n",
       "        vertical-align: top;\n",
       "    }\n",
       "\n",
       "    .dataframe thead th {\n",
       "        text-align: right;\n",
       "    }\n",
       "</style>\n",
       "<table border=\"1\" class=\"dataframe\">\n",
       "  <thead>\n",
       "    <tr style=\"text-align: right;\">\n",
       "      <th></th>\n",
       "      <th>text</th>\n",
       "      <th>author</th>\n",
       "      <th>time</th>\n",
       "      <th>votes</th>\n",
       "    </tr>\n",
       "  </thead>\n",
       "  <tbody>\n",
       "    <tr>\n",
       "      <th>0</th>\n",
       "      <td>참고로 일리오스 우물에 들어가면 무서운 소리남</td>\n",
       "      <td>조회수999,999,999</td>\n",
       "      <td>4년 전(수정됨)</td>\n",
       "      <td>0</td>\n",
       "    </tr>\n",
       "    <tr>\n",
       "      <th>1</th>\n",
       "      <td>5:22에 등대 불빛도 돌아가네...세심한 갓리자드</td>\n",
       "      <td>햅피니스123</td>\n",
       "      <td>4년 전</td>\n",
       "      <td>4</td>\n",
       "    </tr>\n",
       "    <tr>\n",
       "      <th>2</th>\n",
       "      <td>뀽</td>\n",
       "      <td>최윤</td>\n",
       "      <td>4년 전</td>\n",
       "      <td>0</td>\n",
       "    </tr>\n",
       "    <tr>\n",
       "      <th>3</th>\n",
       "      <td>옥구슬만 몰라씀\\n \\n \\n \\n \\n \\n 그리고 지브롤터 솜브라로 ㄷ........</td>\n",
       "      <td>발바닥무시무시한</td>\n",
       "      <td>4년 전(수정됨)</td>\n",
       "      <td>0</td>\n",
       "    </tr>\n",
       "    <tr>\n",
       "      <th>4</th>\n",
       "      <td>이형말투 ㅋㅋㅋ</td>\n",
       "      <td>JINN n</td>\n",
       "      <td>3년 전</td>\n",
       "      <td>0</td>\n",
       "    </tr>\n",
       "    <tr>\n",
       "      <th>...</th>\n",
       "      <td>...</td>\n",
       "      <td>...</td>\n",
       "      <td>...</td>\n",
       "      <td>...</td>\n",
       "    </tr>\n",
       "    <tr>\n",
       "      <th>1358089</th>\n",
       "      <td>한코코의 장난감 상자 그만해 이 팬티야</td>\n",
       "      <td>스탠다드</td>\n",
       "      <td>3년 전</td>\n",
       "      <td>0</td>\n",
       "    </tr>\n",
       "    <tr>\n",
       "      <th>1358090</th>\n",
       "      <td>휴뮤 내꺼도 있는 말인데\\n왜 그렇게 불편해해</td>\n",
       "      <td>예!?</td>\n",
       "      <td>3년 전</td>\n",
       "      <td>0</td>\n",
       "    </tr>\n",
       "    <tr>\n",
       "      <th>1358091</th>\n",
       "      <td>휴뮤 내꺼</td>\n",
       "      <td>예!?</td>\n",
       "      <td>3년 전</td>\n",
       "      <td>0</td>\n",
       "    </tr>\n",
       "    <tr>\n",
       "      <th>1358092</th>\n",
       "      <td>니 거?</td>\n",
       "      <td>안쌱</td>\n",
       "      <td>3년 전</td>\n",
       "      <td>0</td>\n",
       "    </tr>\n",
       "    <tr>\n",
       "      <th>1358093</th>\n",
       "      <td>쿠소겜만 골라하는 그는 똥믈리에....</td>\n",
       "      <td>Dies Irae</td>\n",
       "      <td>3년 전</td>\n",
       "      <td>0</td>\n",
       "    </tr>\n",
       "  </tbody>\n",
       "</table>\n",
       "<p>1358094 rows × 4 columns</p>\n",
       "</div>"
      ],
      "text/plain": [
       "                                                      text          author  \\\n",
       "0                                참고로 일리오스 우물에 들어가면 무서운 소리남  조회수999,999,999   \n",
       "1                             5:22에 등대 불빛도 돌아가네...세심한 갓리자드         햅피니스123   \n",
       "2                                                        뀽              최윤   \n",
       "3        옥구슬만 몰라씀\\n \\n \\n \\n \\n \\n 그리고 지브롤터 솜브라로 ㄷ........        발바닥무시무시한   \n",
       "4                                                 이형말투 ㅋㅋㅋ          JINN n   \n",
       "...                                                    ...             ...   \n",
       "1358089                              한코코의 장난감 상자 그만해 이 팬티야            스탠다드   \n",
       "1358090                          휴뮤 내꺼도 있는 말인데\\n왜 그렇게 불편해해             예!?   \n",
       "1358091                                              휴뮤 내꺼             예!?   \n",
       "1358092                                               니 거?              안쌱   \n",
       "1358093                              쿠소겜만 골라하는 그는 똥믈리에....       Dies Irae   \n",
       "\n",
       "              time votes  \n",
       "0        4년 전(수정됨)     0  \n",
       "1             4년 전     4  \n",
       "2             4년 전     0  \n",
       "3        4년 전(수정됨)     0  \n",
       "4             3년 전     0  \n",
       "...            ...   ...  \n",
       "1358089       3년 전     0  \n",
       "1358090       3년 전     0  \n",
       "1358091       3년 전     0  \n",
       "1358092       3년 전     0  \n",
       "1358093       3년 전     0  \n",
       "\n",
       "[1358094 rows x 4 columns]"
      ]
     },
     "execution_count": 112,
     "metadata": {},
     "output_type": "execute_result"
    }
   ],
   "source": [
    "information_df[['text','author','time','votes']]"
   ]
  },
  {
   "cell_type": "code",
   "execution_count": 52,
   "metadata": {},
   "outputs": [
    {
     "data": {
      "text/plain": [
       "array(['10개월 전', '10개월 전(수정됨)', '10시간 전', '10시간 전(수정됨)', '11개월 전',\n",
       "       '11개월 전(수정됨)', '11시간 전', '12시간 전', '12시간 전(수정됨)', '13분 전',\n",
       "       '13시간 전', '13시간 전(수정됨)', '14시간 전', '14시간 전(수정됨)', '15분 전',\n",
       "       '15시간 전', '16시간 전', '17분 전', '17시간 전', '17시간 전(수정됨)', '18분 전',\n",
       "       '18시간 전', '18시간 전(수정됨)', '19분 전', '19시간 전', '19시간 전(수정됨)', '1개월 전',\n",
       "       '1개월 전(수정됨)', '1년 전', '1년 전(수정됨)', '1분 전', '1시간 전', '1시간 전(수정됨)',\n",
       "       '1일 전', '1일 전(수정됨)', '1주 전', '1주 전(수정됨)', '20분 전', '20시간 전',\n",
       "       '20시간 전(수정됨)', '21시간 전', '21시간 전(수정됨)', '22시간 전', '22시간 전(수정됨)',\n",
       "       '23분 전', '23시간 전', '23시간 전(수정됨)', '24분 전', '26분 전', '27분 전',\n",
       "       '28분 전', '29분 전', '2개월 전', '2개월 전(수정됨)', '2년 전', '2년 전(수정됨)',\n",
       "       '2시간 전', '2시간 전(수정됨)', '2일 전', '2일 전(수정됨)', '2주 전', '2주 전(수정됨)',\n",
       "       '30분 전', '32분 전', '34분 전', '35초 전', '36분 전', '37분 전', '38분 전',\n",
       "       '39분 전', '3개월 전', '3개월 전(수정됨)', '3년 전', '3년 전(수정됨)', '3분 전',\n",
       "       '3분 전(수정됨)', '3시간 전', '3시간 전(수정됨)', '3일 전', '3일 전(수정됨)', '3주 전',\n",
       "       '3주 전(수정됨)', '40분 전', '41분 전', '43분 전', '44분 전', '45분 전', '46분 전',\n",
       "       '47분 전', '48분 전', '49분 전', '4개월 전', '4개월 전(수정됨)', '4년 전',\n",
       "       '4년 전(수정됨)', '4분 전', '4시간 전', '4시간 전(수정됨)', '4일 전', '4일 전(수정됨)',\n",
       "       '4주 전', '4주 전(수정됨)', '50분 전', '51분 전', '52분 전', '53분 전', '54분 전',\n",
       "       '54초 전', '55분 전', '58분 전', '5개월 전', '5개월 전(수정됨)', '5년 전',\n",
       "       '5년 전(수정됨)', '5시간 전', '5시간 전(수정됨)', '5일 전', '5일 전(수정됨)', '6개월 전',\n",
       "       '6개월 전(수정됨)', '6년 전', '6시간 전', '6시간 전(수정됨)', '6일 전', '6일 전(수정됨)',\n",
       "       '7개월 전', '7개월 전(수정됨)', '7분 전', '7시간 전', '8개월 전', '8개월 전(수정됨)',\n",
       "       '8시간 전', '9개월 전', '9개월 전(수정됨)', '9시간 전', '9시간 전(수정됨)'],\n",
       "      dtype=object)"
      ]
     },
     "execution_count": 52,
     "metadata": {},
     "output_type": "execute_result"
    }
   ],
   "source": [
    "np.unique(information_df['time'])"
   ]
  },
  {
   "cell_type": "code",
   "execution_count": 93,
   "metadata": {},
   "outputs": [
    {
     "data": {
      "text/plain": [
       "array(['1', '1.1만', '1.1천', ..., '997', '998', '999'], dtype=object)"
      ]
     },
     "execution_count": 93,
     "metadata": {},
     "output_type": "execute_result"
    }
   ],
   "source": [
    "np.unique(information_df['votes'].astype('str').map(lambda x:np.nan if x=='0' else x).dropna())"
   ]
  },
  {
   "cell_type": "code",
   "execution_count": 53,
   "metadata": {},
   "outputs": [],
   "source": [
    "def transform_to_integer(x):\n",
    "    if x[-1]=='만':\n",
    "        numeric_part = float(x[:-1])\n",
    "        return numeric_part*10000\n",
    "    elif x[-1]=='천':\n",
    "        numeric_part = float(x[:-1])\n",
    "        return numeric_part*1000\n",
    "    else:\n",
    "        return float(x)\n",
    "information_df['votes'] = information_df['votes'].map(transform_to_integer)"
   ]
  },
  {
   "cell_type": "code",
   "execution_count": null,
   "metadata": {},
   "outputs": [],
   "source": [
    "def eliminate_useless(x):\n",
    "    if x[-5:]=='(수정됨)':\n",
    "        return x[:-5]\n",
    "    else:\n",
    "        return x"
   ]
  },
  {
   "cell_type": "code",
   "execution_count": 54,
   "metadata": {},
   "outputs": [],
   "source": [
    "information_df['time'] = information_df['time'].map(eliminate_useless)"
   ]
  },
  {
   "cell_type": "code",
   "execution_count": 55,
   "metadata": {
    "scrolled": false
   },
   "outputs": [
    {
     "data": {
      "text/plain": [
       "array(['10개월 전', '10시간 전', '11개월 전', '11시간 전', '12시간 전', '13분 전',\n",
       "       '13시간 전', '14시간 전', '15분 전', '15시간 전', '16시간 전', '17분 전', '17시간 전',\n",
       "       '18분 전', '18시간 전', '19분 전', '19시간 전', '1개월 전', '1년 전', '1분 전',\n",
       "       '1시간 전', '1일 전', '1주 전', '20분 전', '20시간 전', '21시간 전', '22시간 전',\n",
       "       '23분 전', '23시간 전', '24분 전', '26분 전', '27분 전', '28분 전', '29분 전',\n",
       "       '2개월 전', '2년 전', '2시간 전', '2일 전', '2주 전', '30분 전', '32분 전',\n",
       "       '34분 전', '35초 전', '36분 전', '37분 전', '38분 전', '39분 전', '3개월 전',\n",
       "       '3년 전', '3분 전', '3시간 전', '3일 전', '3주 전', '40분 전', '41분 전', '43분 전',\n",
       "       '44분 전', '45분 전', '46분 전', '47분 전', '48분 전', '49분 전', '4개월 전',\n",
       "       '4년 전', '4분 전', '4시간 전', '4일 전', '4주 전', '50분 전', '51분 전', '52분 전',\n",
       "       '53분 전', '54분 전', '54초 전', '55분 전', '58분 전', '5개월 전', '5년 전',\n",
       "       '5시간 전', '5일 전', '6개월 전', '6년 전', '6시간 전', '6일 전', '7개월 전', '7분 전',\n",
       "       '7시간 전', '8개월 전', '8시간 전', '9개월 전', '9시간 전'], dtype=object)"
      ]
     },
     "execution_count": 55,
     "metadata": {},
     "output_type": "execute_result"
    }
   ],
   "source": [
    "np.unique(information_df['time'])"
   ]
  },
  {
   "cell_type": "code",
   "execution_count": null,
   "metadata": {},
   "outputs": [],
   "source": [
    "# votes는 천이라는 글자가 있으니 고려해서 groupby"
   ]
  },
  {
   "cell_type": "code",
   "execution_count": 147,
   "metadata": {},
   "outputs": [
    {
     "data": {
      "text/html": [
       "<div>\n",
       "<style scoped>\n",
       "    .dataframe tbody tr th:only-of-type {\n",
       "        vertical-align: middle;\n",
       "    }\n",
       "\n",
       "    .dataframe tbody tr th {\n",
       "        vertical-align: top;\n",
       "    }\n",
       "\n",
       "    .dataframe thead th {\n",
       "        text-align: right;\n",
       "    }\n",
       "</style>\n",
       "<table border=\"1\" class=\"dataframe\">\n",
       "  <thead>\n",
       "    <tr style=\"text-align: right;\">\n",
       "      <th></th>\n",
       "      <th>time</th>\n",
       "      <th>votes</th>\n",
       "      <th>decision_power</th>\n",
       "    </tr>\n",
       "    <tr>\n",
       "      <th>time</th>\n",
       "      <th></th>\n",
       "      <th></th>\n",
       "      <th></th>\n",
       "    </tr>\n",
       "  </thead>\n",
       "  <tbody>\n",
       "    <tr>\n",
       "      <th>10개월 전</th>\n",
       "      <td>35622</td>\n",
       "      <td>10.595643</td>\n",
       "      <td>0.239530</td>\n",
       "    </tr>\n",
       "    <tr>\n",
       "      <th>10시간 전</th>\n",
       "      <td>27</td>\n",
       "      <td>0.111111</td>\n",
       "      <td>-0.439692</td>\n",
       "    </tr>\n",
       "    <tr>\n",
       "      <th>11개월 전</th>\n",
       "      <td>53922</td>\n",
       "      <td>11.014020</td>\n",
       "      <td>0.203642</td>\n",
       "    </tr>\n",
       "    <tr>\n",
       "      <th>11시간 전</th>\n",
       "      <td>15</td>\n",
       "      <td>0.066667</td>\n",
       "      <td>0.079996</td>\n",
       "    </tr>\n",
       "    <tr>\n",
       "      <th>12시간 전</th>\n",
       "      <td>22</td>\n",
       "      <td>0.045455</td>\n",
       "      <td>-0.023852</td>\n",
       "    </tr>\n",
       "    <tr>\n",
       "      <th>...</th>\n",
       "      <td>...</td>\n",
       "      <td>...</td>\n",
       "      <td>...</td>\n",
       "    </tr>\n",
       "    <tr>\n",
       "      <th>7시간 전</th>\n",
       "      <td>34</td>\n",
       "      <td>0.264706</td>\n",
       "      <td>-0.102329</td>\n",
       "    </tr>\n",
       "    <tr>\n",
       "      <th>8개월 전</th>\n",
       "      <td>51109</td>\n",
       "      <td>12.520045</td>\n",
       "      <td>0.337436</td>\n",
       "    </tr>\n",
       "    <tr>\n",
       "      <th>8시간 전</th>\n",
       "      <td>16</td>\n",
       "      <td>0.187500</td>\n",
       "      <td>-0.509601</td>\n",
       "    </tr>\n",
       "    <tr>\n",
       "      <th>9개월 전</th>\n",
       "      <td>39988</td>\n",
       "      <td>11.647119</td>\n",
       "      <td>0.267514</td>\n",
       "    </tr>\n",
       "    <tr>\n",
       "      <th>9시간 전</th>\n",
       "      <td>5</td>\n",
       "      <td>0.800000</td>\n",
       "      <td>0.110489</td>\n",
       "    </tr>\n",
       "  </tbody>\n",
       "</table>\n",
       "<p>91 rows × 3 columns</p>\n",
       "</div>"
      ],
      "text/plain": [
       "         time      votes  decision_power\n",
       "time                                    \n",
       "10개월 전  35622  10.595643        0.239530\n",
       "10시간 전     27   0.111111       -0.439692\n",
       "11개월 전  53922  11.014020        0.203642\n",
       "11시간 전     15   0.066667        0.079996\n",
       "12시간 전     22   0.045455       -0.023852\n",
       "...       ...        ...             ...\n",
       "7시간 전      34   0.264706       -0.102329\n",
       "8개월 전   51109  12.520045        0.337436\n",
       "8시간 전      16   0.187500       -0.509601\n",
       "9개월 전   39988  11.647119        0.267514\n",
       "9시간 전       5   0.800000        0.110489\n",
       "\n",
       "[91 rows x 3 columns]"
      ]
     },
     "execution_count": 147,
     "metadata": {},
     "output_type": "execute_result"
    }
   ],
   "source": [
    "# 큰 시간단위로 뭉친 것들이 당연히 수가 클테니 평균을 내준다.\n",
    "time_counts = information_df.groupby(information_df['time']).agg({'time':'count','votes':'mean','decision_power':'mean'})\n",
    "time_counts"
   ]
  },
  {
   "cell_type": "code",
   "execution_count": 148,
   "metadata": {},
   "outputs": [
    {
     "data": {
      "text/plain": [
       "0     개월 전\n",
       "1     시간 전\n",
       "2     개월 전\n",
       "3     시간 전\n",
       "4     시간 전\n",
       "      ... \n",
       "86    시간 전\n",
       "87    개월 전\n",
       "88    시간 전\n",
       "89    개월 전\n",
       "90    시간 전\n",
       "Length: 91, dtype: object"
      ]
     },
     "execution_count": 148,
     "metadata": {},
     "output_type": "execute_result"
    }
   ],
   "source": [
    "# 시간 순으로 정렬\n",
    "# 숫자 뒤의 시간은 다음과 같다\n",
    "def temp_transform(x):\n",
    "    time_unit = re.compile(r'[ㄱ-ㅣ가-힣]+').findall(x)\n",
    "    return time_unit[0]+' '+time_unit[1]\n",
    "\n",
    "time_units = pd.Series(np.unique(information_df['time'])).map(temp_transform)\n",
    "time_units"
   ]
  },
  {
   "cell_type": "code",
   "execution_count": 149,
   "metadata": {},
   "outputs": [
    {
     "data": {
      "text/plain": [
       "array(['개월 전', '년 전', '분 전', '시간 전', '일 전', '주 전', '초 전'], dtype=object)"
      ]
     },
     "execution_count": 149,
     "metadata": {},
     "output_type": "execute_result"
    }
   ],
   "source": [
    "np.unique(time_units)"
   ]
  },
  {
   "cell_type": "code",
   "execution_count": 150,
   "metadata": {},
   "outputs": [
    {
     "data": {
      "text/plain": [
       "0     10개월 전\n",
       "1     10시간 전\n",
       "2     11개월 전\n",
       "3     11시간 전\n",
       "4     12시간 전\n",
       "       ...  \n",
       "86     7시간 전\n",
       "87     8개월 전\n",
       "88     8시간 전\n",
       "89     9개월 전\n",
       "90     9시간 전\n",
       "Name: time, Length: 91, dtype: object"
      ]
     },
     "execution_count": 150,
     "metadata": {},
     "output_type": "execute_result"
    }
   ],
   "source": [
    "# 정렬을 위한 dictionary 생성\n",
    "standard = {'초 전':1,'분 전':2,'시간 전':3,'일 전':4,'주 전':5,'개월 전':6,'년 전':7}\n",
    "pd.Series(time_counts.index)"
   ]
  },
  {
   "cell_type": "code",
   "execution_count": 151,
   "metadata": {},
   "outputs": [
    {
     "data": {
      "text/html": [
       "<div>\n",
       "<style scoped>\n",
       "    .dataframe tbody tr th:only-of-type {\n",
       "        vertical-align: middle;\n",
       "    }\n",
       "\n",
       "    .dataframe tbody tr th {\n",
       "        vertical-align: top;\n",
       "    }\n",
       "\n",
       "    .dataframe thead th {\n",
       "        text-align: right;\n",
       "    }\n",
       "</style>\n",
       "<table border=\"1\" class=\"dataframe\">\n",
       "  <thead>\n",
       "    <tr style=\"text-align: right;\">\n",
       "      <th></th>\n",
       "      <th>time</th>\n",
       "      <th>votes</th>\n",
       "      <th>decision_power</th>\n",
       "      <th>standard1</th>\n",
       "      <th>standard2</th>\n",
       "    </tr>\n",
       "    <tr>\n",
       "      <th>time</th>\n",
       "      <th></th>\n",
       "      <th></th>\n",
       "      <th></th>\n",
       "      <th></th>\n",
       "      <th></th>\n",
       "    </tr>\n",
       "  </thead>\n",
       "  <tbody>\n",
       "    <tr>\n",
       "      <th>10개월 전</th>\n",
       "      <td>35622</td>\n",
       "      <td>10.595643</td>\n",
       "      <td>0.239530</td>\n",
       "      <td>10</td>\n",
       "      <td>6</td>\n",
       "    </tr>\n",
       "    <tr>\n",
       "      <th>10시간 전</th>\n",
       "      <td>27</td>\n",
       "      <td>0.111111</td>\n",
       "      <td>-0.439692</td>\n",
       "      <td>10</td>\n",
       "      <td>3</td>\n",
       "    </tr>\n",
       "    <tr>\n",
       "      <th>11개월 전</th>\n",
       "      <td>53922</td>\n",
       "      <td>11.014020</td>\n",
       "      <td>0.203642</td>\n",
       "      <td>11</td>\n",
       "      <td>6</td>\n",
       "    </tr>\n",
       "    <tr>\n",
       "      <th>11시간 전</th>\n",
       "      <td>15</td>\n",
       "      <td>0.066667</td>\n",
       "      <td>0.079996</td>\n",
       "      <td>11</td>\n",
       "      <td>3</td>\n",
       "    </tr>\n",
       "    <tr>\n",
       "      <th>12시간 전</th>\n",
       "      <td>22</td>\n",
       "      <td>0.045455</td>\n",
       "      <td>-0.023852</td>\n",
       "      <td>12</td>\n",
       "      <td>3</td>\n",
       "    </tr>\n",
       "    <tr>\n",
       "      <th>...</th>\n",
       "      <td>...</td>\n",
       "      <td>...</td>\n",
       "      <td>...</td>\n",
       "      <td>...</td>\n",
       "      <td>...</td>\n",
       "    </tr>\n",
       "    <tr>\n",
       "      <th>7시간 전</th>\n",
       "      <td>34</td>\n",
       "      <td>0.264706</td>\n",
       "      <td>-0.102329</td>\n",
       "      <td>7</td>\n",
       "      <td>3</td>\n",
       "    </tr>\n",
       "    <tr>\n",
       "      <th>8개월 전</th>\n",
       "      <td>51109</td>\n",
       "      <td>12.520045</td>\n",
       "      <td>0.337436</td>\n",
       "      <td>8</td>\n",
       "      <td>6</td>\n",
       "    </tr>\n",
       "    <tr>\n",
       "      <th>8시간 전</th>\n",
       "      <td>16</td>\n",
       "      <td>0.187500</td>\n",
       "      <td>-0.509601</td>\n",
       "      <td>8</td>\n",
       "      <td>3</td>\n",
       "    </tr>\n",
       "    <tr>\n",
       "      <th>9개월 전</th>\n",
       "      <td>39988</td>\n",
       "      <td>11.647119</td>\n",
       "      <td>0.267514</td>\n",
       "      <td>9</td>\n",
       "      <td>6</td>\n",
       "    </tr>\n",
       "    <tr>\n",
       "      <th>9시간 전</th>\n",
       "      <td>5</td>\n",
       "      <td>0.800000</td>\n",
       "      <td>0.110489</td>\n",
       "      <td>9</td>\n",
       "      <td>3</td>\n",
       "    </tr>\n",
       "  </tbody>\n",
       "</table>\n",
       "<p>91 rows × 5 columns</p>\n",
       "</div>"
      ],
      "text/plain": [
       "         time      votes  decision_power  standard1  standard2\n",
       "time                                                          \n",
       "10개월 전  35622  10.595643        0.239530         10          6\n",
       "10시간 전     27   0.111111       -0.439692         10          3\n",
       "11개월 전  53922  11.014020        0.203642         11          6\n",
       "11시간 전     15   0.066667        0.079996         11          3\n",
       "12시간 전     22   0.045455       -0.023852         12          3\n",
       "...       ...        ...             ...        ...        ...\n",
       "7시간 전      34   0.264706       -0.102329          7          3\n",
       "8개월 전   51109  12.520045        0.337436          8          6\n",
       "8시간 전      16   0.187500       -0.509601          8          3\n",
       "9개월 전   39988  11.647119        0.267514          9          6\n",
       "9시간 전       5   0.800000        0.110489          9          3\n",
       "\n",
       "[91 rows x 5 columns]"
      ]
     },
     "execution_count": 151,
     "metadata": {},
     "output_type": "execute_result"
    }
   ],
   "source": [
    "def int_slicing(x):\n",
    "    string_double_digit = pd.Series(list(range(10,100))).astype('str').values.tolist()\n",
    "    if x[0:2] in string_double_digit:\n",
    "        slicing_num = 2\n",
    "    else:\n",
    "        slicing_num = 1\n",
    "    int_part = x[0:slicing_num]\n",
    "    string_part = x[slicing_num:]\n",
    "    return int_part\n",
    "\n",
    "def string_slicing(x):\n",
    "    string_double_digit = pd.Series(list(range(10,100))).astype('str').values.tolist()\n",
    "    if x[0:2] in string_double_digit:\n",
    "        slicing_num = 2\n",
    "    else:\n",
    "        slicing_num = 1\n",
    "    int_part = x[0:slicing_num]\n",
    "    string_part = x[slicing_num:]\n",
    "    return string_part\n",
    "            \n",
    "time_counts['standard1'] = pd.Series(time_counts.index, index=time_counts.index).map(int_slicing).astype('int')\n",
    "time_counts['standard2'] = pd.Series(time_counts.index, index=time_counts.index).map(string_slicing).map(standard).astype('int')\n",
    "time_counts"
   ]
  },
  {
   "cell_type": "code",
   "execution_count": 152,
   "metadata": {},
   "outputs": [],
   "source": [
    "time_counts = time_counts.sort_values(by=['standard2','standard1'])\n",
    "time_counts.drop(['standard1','standard2'],axis=1,inplace = True)\n",
    "time_counts.columns = ['counts','votes','decision_power']"
   ]
  },
  {
   "cell_type": "code",
   "execution_count": 155,
   "metadata": {},
   "outputs": [],
   "source": [
    "time_counts.to_csv(\"all_time_mean.csv\")"
   ]
  },
  {
   "cell_type": "markdown",
   "metadata": {},
   "source": [
    "## 이어서"
   ]
  },
  {
   "cell_type": "code",
   "execution_count": 26,
   "metadata": {},
   "outputs": [],
   "source": [
    "df = pd.read_csv('all_time_mean.csv')"
   ]
  },
  {
   "cell_type": "code",
   "execution_count": 36,
   "metadata": {},
   "outputs": [
    {
     "data": {
      "text/html": [
       "<div>\n",
       "<style scoped>\n",
       "    .dataframe tbody tr th:only-of-type {\n",
       "        vertical-align: middle;\n",
       "    }\n",
       "\n",
       "    .dataframe tbody tr th {\n",
       "        vertical-align: top;\n",
       "    }\n",
       "\n",
       "    .dataframe thead th {\n",
       "        text-align: right;\n",
       "    }\n",
       "</style>\n",
       "<table border=\"1\" class=\"dataframe\">\n",
       "  <thead>\n",
       "    <tr style=\"text-align: right;\">\n",
       "      <th></th>\n",
       "      <th>time</th>\n",
       "      <th>counts</th>\n",
       "      <th>votes</th>\n",
       "      <th>decision_power</th>\n",
       "    </tr>\n",
       "  </thead>\n",
       "  <tbody>\n",
       "    <tr>\n",
       "      <th>0</th>\n",
       "      <td>35초 전</td>\n",
       "      <td>1</td>\n",
       "      <td>0.000000</td>\n",
       "      <td>-0.888944</td>\n",
       "    </tr>\n",
       "    <tr>\n",
       "      <th>1</th>\n",
       "      <td>54초 전</td>\n",
       "      <td>1</td>\n",
       "      <td>0.000000</td>\n",
       "      <td>1.581522</td>\n",
       "    </tr>\n",
       "    <tr>\n",
       "      <th>2</th>\n",
       "      <td>1분 전</td>\n",
       "      <td>1</td>\n",
       "      <td>0.000000</td>\n",
       "      <td>1.046314</td>\n",
       "    </tr>\n",
       "    <tr>\n",
       "      <th>3</th>\n",
       "      <td>3분 전</td>\n",
       "      <td>2</td>\n",
       "      <td>0.000000</td>\n",
       "      <td>1.945449</td>\n",
       "    </tr>\n",
       "    <tr>\n",
       "      <th>4</th>\n",
       "      <td>4분 전</td>\n",
       "      <td>1</td>\n",
       "      <td>1.000000</td>\n",
       "      <td>2.146505</td>\n",
       "    </tr>\n",
       "    <tr>\n",
       "      <th>...</th>\n",
       "      <td>...</td>\n",
       "      <td>...</td>\n",
       "      <td>...</td>\n",
       "      <td>...</td>\n",
       "    </tr>\n",
       "    <tr>\n",
       "      <th>86</th>\n",
       "      <td>2년 전</td>\n",
       "      <td>183674</td>\n",
       "      <td>12.945164</td>\n",
       "      <td>0.456557</td>\n",
       "    </tr>\n",
       "    <tr>\n",
       "      <th>87</th>\n",
       "      <td>3년 전</td>\n",
       "      <td>151021</td>\n",
       "      <td>8.892008</td>\n",
       "      <td>0.271057</td>\n",
       "    </tr>\n",
       "    <tr>\n",
       "      <th>88</th>\n",
       "      <td>4년 전</td>\n",
       "      <td>149010</td>\n",
       "      <td>5.898611</td>\n",
       "      <td>0.098069</td>\n",
       "    </tr>\n",
       "    <tr>\n",
       "      <th>89</th>\n",
       "      <td>5년 전</td>\n",
       "      <td>24949</td>\n",
       "      <td>1.449036</td>\n",
       "      <td>0.395215</td>\n",
       "    </tr>\n",
       "    <tr>\n",
       "      <th>90</th>\n",
       "      <td>6년 전</td>\n",
       "      <td>48</td>\n",
       "      <td>1.583333</td>\n",
       "      <td>1.227636</td>\n",
       "    </tr>\n",
       "  </tbody>\n",
       "</table>\n",
       "<p>91 rows × 4 columns</p>\n",
       "</div>"
      ],
      "text/plain": [
       "     time  counts      votes  decision_power\n",
       "0   35초 전       1   0.000000       -0.888944\n",
       "1   54초 전       1   0.000000        1.581522\n",
       "2    1분 전       1   0.000000        1.046314\n",
       "3    3분 전       2   0.000000        1.945449\n",
       "4    4분 전       1   1.000000        2.146505\n",
       "..    ...     ...        ...             ...\n",
       "86   2년 전  183674  12.945164        0.456557\n",
       "87   3년 전  151021   8.892008        0.271057\n",
       "88   4년 전  149010   5.898611        0.098069\n",
       "89   5년 전   24949   1.449036        0.395215\n",
       "90   6년 전      48   1.583333        1.227636\n",
       "\n",
       "[91 rows x 4 columns]"
      ]
     },
     "execution_count": 36,
     "metadata": {},
     "output_type": "execute_result"
    }
   ],
   "source": [
    "df"
   ]
  },
  {
   "cell_type": "code",
   "execution_count": 3,
   "metadata": {},
   "outputs": [],
   "source": [
    "import matplotlib.pyplot as plt\n",
    "%matplotlib inline\n",
    "from matplotlib import font_manager,rc, rcParams\n",
    "import platform\n",
    "if platform.system() == 'Windows':\n",
    "    path = 'c:/windows/Fonts/malgun.ttf'\n",
    "    font_name = font_manager.FontProperties(fname=path).get_name()\n",
    "    rc('font',family = font_name)\n",
    "elif platform.system() == 'Darwin':\n",
    "    rc('font',family = 'AppleGothic')\n",
    "else:\n",
    "    print('Check your OS system')\n",
    "rcParams['axes.unicode_minus'] = False\n",
    "import warnings\n",
    "warnings.filterwarnings('ignore')"
   ]
  },
  {
   "cell_type": "markdown",
   "metadata": {},
   "source": [
    "xlabel -> (초, 분, 시간은 통합) 일, 월, 년은 vline을 그어서 구분"
   ]
  },
  {
   "cell_type": "code",
   "execution_count": 159,
   "metadata": {},
   "outputs": [
    {
     "data": {
      "text/plain": [
       "<matplotlib.collections.LineCollection at 0x1f1a9f21640>"
      ]
     },
     "execution_count": 159,
     "metadata": {},
     "output_type": "execute_result"
    },
    {
     "data": {
      "image/png": "[encoded data removed]",
      "text/plain": [
       "<Figure size 432x288 with 1 Axes>"
      ]
     },
     "metadata": {
      "needs_background": "light"
     },
     "output_type": "display_data"
    }
   ],
   "source": [
    "fig,ax = plt.subplots()\n",
    "ax.plot(df['time'][::-1],df['decision_power'][::-1])\n",
    "xlabels = df['time'][::-5].values\n",
    "ax.set_xticks(xlabels)\n",
    "ax.set_xticklabels(xlabels, rotation=45)\n",
    "ax.set_title('decsion power trend')\n",
    "ax.hlines(0,0,len(df['time']),color='black')"
   ]
  },
  {
   "cell_type": "code",
   "execution_count": 160,
   "metadata": {},
   "outputs": [
    {
     "data": {
      "text/plain": [
       "Text(0.5, 1.0, 'number of comments')"
      ]
     },
     "execution_count": 160,
     "metadata": {},
     "output_type": "execute_result"
    },
    {
     "data": {
      "image/png": "[encoded data removed]",
      "text/plain": [
       "<Figure size 432x288 with 1 Axes>"
      ]
     },
     "metadata": {
      "needs_background": "light"
     },
     "output_type": "display_data"
    }
   ],
   "source": [
    "fig,ax = plt.subplots()\n",
    "ax.plot(df['time'][::-1],df['counts'][::-1])\n",
    "xlabels = df['time'][::-5].values\n",
    "ax.set_xticks(xlabels)\n",
    "ax.set_xticklabels(xlabels, rotation=45)\n",
    "ax.set_title('number of comments')"
   ]
  },
  {
   "cell_type": "code",
   "execution_count": 161,
   "metadata": {},
   "outputs": [
    {
     "data": {
      "text/plain": [
       "array(['35초 전', '54초 전', '1분 전', '3분 전', '4분 전', '7분 전', '13분 전', '15분 전',\n",
       "       '17분 전', '18분 전', '19분 전', '20분 전', '23분 전', '24분 전', '26분 전',\n",
       "       '27분 전', '28분 전', '29분 전', '30분 전', '32분 전', '34분 전', '36분 전',\n",
       "       '37분 전', '38분 전', '39분 전', '40분 전', '41분 전', '43분 전', '44분 전',\n",
       "       '45분 전', '46분 전', '47분 전', '48분 전', '49분 전', '50분 전', '51분 전',\n",
       "       '52분 전', '53분 전', '54분 전', '55분 전', '58분 전', '1시간 전', '2시간 전',\n",
       "       '3시간 전', '4시간 전', '5시간 전', '6시간 전', '7시간 전', '8시간 전', '9시간 전',\n",
       "       '10시간 전', '11시간 전', '12시간 전', '13시간 전', '14시간 전', '15시간 전',\n",
       "       '16시간 전', '17시간 전', '18시간 전', '19시간 전', '20시간 전', '21시간 전',\n",
       "       '22시간 전', '23시간 전', '1일 전', '2일 전', '3일 전', '4일 전', '5일 전', '6일 전',\n",
       "       '1주 전', '2주 전', '3주 전', '4주 전', '1개월 전', '2개월 전', '3개월 전', '4개월 전',\n",
       "       '5개월 전', '6개월 전', '7개월 전', '8개월 전', '9개월 전', '10개월 전', '11개월 전',\n",
       "       '1년 전', '2년 전', '3년 전', '4년 전', '5년 전', '6년 전'], dtype=object)"
      ]
     },
     "execution_count": 161,
     "metadata": {},
     "output_type": "execute_result"
    }
   ],
   "source": [
    "df['time'].values"
   ]
  },
  {
   "cell_type": "code",
   "execution_count": 56,
   "metadata": {},
   "outputs": [],
   "source": [
    "## 그냥 mean하면 의미가 손상되므로 information_df에서부터 다시 처리, 이름 대치(~시간 전 -> 0일 전)\n",
    "\n",
    "def transform_to_0month(string):\n",
    "    short_time = ['초 전','분 전','시간 전','일 전','주 전']\n",
    "    for short in short_time:\n",
    "        if string.find(short) >0 :\n",
    "            result =  '0개월 전'\n",
    "            break\n",
    "        else:\n",
    "            result = string\n",
    "    return result\n",
    "        \n",
    "information_df['time'] = information_df['time'].map(transform_to_0month)"
   ]
  },
  {
   "cell_type": "code",
   "execution_count": 57,
   "metadata": {},
   "outputs": [
    {
     "data": {
      "text/html": [
       "<div>\n",
       "<style scoped>\n",
       "    .dataframe tbody tr th:only-of-type {\n",
       "        vertical-align: middle;\n",
       "    }\n",
       "\n",
       "    .dataframe tbody tr th {\n",
       "        vertical-align: top;\n",
       "    }\n",
       "\n",
       "    .dataframe thead th {\n",
       "        text-align: right;\n",
       "    }\n",
       "</style>\n",
       "<table border=\"1\" class=\"dataframe\">\n",
       "  <thead>\n",
       "    <tr style=\"text-align: right;\">\n",
       "      <th></th>\n",
       "      <th>text</th>\n",
       "      <th>author</th>\n",
       "      <th>decision_power</th>\n",
       "      <th>time</th>\n",
       "      <th>votes</th>\n",
       "    </tr>\n",
       "  </thead>\n",
       "  <tbody>\n",
       "    <tr>\n",
       "      <th>0</th>\n",
       "      <td>참고로 일리오스 우물에 들어가면 무서운 소리남</td>\n",
       "      <td>조회수999,999,999</td>\n",
       "      <td>-1.523378</td>\n",
       "      <td>4년 전</td>\n",
       "      <td>0.0</td>\n",
       "    </tr>\n",
       "    <tr>\n",
       "      <th>1</th>\n",
       "      <td>5:22에 등대 불빛도 돌아가네...세심한 갓리자드</td>\n",
       "      <td>햅피니스123</td>\n",
       "      <td>-0.475475</td>\n",
       "      <td>4년 전</td>\n",
       "      <td>4.0</td>\n",
       "    </tr>\n",
       "    <tr>\n",
       "      <th>2</th>\n",
       "      <td>뀽</td>\n",
       "      <td>최윤</td>\n",
       "      <td>-0.754466</td>\n",
       "      <td>4년 전</td>\n",
       "      <td>0.0</td>\n",
       "    </tr>\n",
       "    <tr>\n",
       "      <th>3</th>\n",
       "      <td>옥구슬만 몰라씀\\n \\n \\n \\n \\n \\n 그리고 지브롤터 솜브라로 ㄷ........</td>\n",
       "      <td>발바닥무시무시한</td>\n",
       "      <td>-1.404263</td>\n",
       "      <td>4년 전</td>\n",
       "      <td>0.0</td>\n",
       "    </tr>\n",
       "    <tr>\n",
       "      <th>4</th>\n",
       "      <td>이형말투 ㅋㅋㅋ</td>\n",
       "      <td>JINN n</td>\n",
       "      <td>3.572677</td>\n",
       "      <td>3년 전</td>\n",
       "      <td>0.0</td>\n",
       "    </tr>\n",
       "    <tr>\n",
       "      <th>...</th>\n",
       "      <td>...</td>\n",
       "      <td>...</td>\n",
       "      <td>...</td>\n",
       "      <td>...</td>\n",
       "      <td>...</td>\n",
       "    </tr>\n",
       "    <tr>\n",
       "      <th>1358089</th>\n",
       "      <td>한코코의 장난감 상자 그만해 이 팬티야</td>\n",
       "      <td>스탠다드</td>\n",
       "      <td>-0.818626</td>\n",
       "      <td>3년 전</td>\n",
       "      <td>0.0</td>\n",
       "    </tr>\n",
       "    <tr>\n",
       "      <th>1358090</th>\n",
       "      <td>휴뮤 내꺼도 있는 말인데\\n왜 그렇게 불편해해</td>\n",
       "      <td>예!?</td>\n",
       "      <td>-1.265242</td>\n",
       "      <td>3년 전</td>\n",
       "      <td>0.0</td>\n",
       "    </tr>\n",
       "    <tr>\n",
       "      <th>1358091</th>\n",
       "      <td>휴뮤 내꺼</td>\n",
       "      <td>예!?</td>\n",
       "      <td>-0.926762</td>\n",
       "      <td>3년 전</td>\n",
       "      <td>0.0</td>\n",
       "    </tr>\n",
       "    <tr>\n",
       "      <th>1358092</th>\n",
       "      <td>니 거?</td>\n",
       "      <td>안쌱</td>\n",
       "      <td>-1.595835</td>\n",
       "      <td>3년 전</td>\n",
       "      <td>0.0</td>\n",
       "    </tr>\n",
       "    <tr>\n",
       "      <th>1358093</th>\n",
       "      <td>쿠소겜만 골라하는 그는 똥믈리에....</td>\n",
       "      <td>Dies Irae</td>\n",
       "      <td>-0.934708</td>\n",
       "      <td>3년 전</td>\n",
       "      <td>0.0</td>\n",
       "    </tr>\n",
       "  </tbody>\n",
       "</table>\n",
       "<p>1358094 rows × 5 columns</p>\n",
       "</div>"
      ],
      "text/plain": [
       "                                                      text          author  \\\n",
       "0                                참고로 일리오스 우물에 들어가면 무서운 소리남  조회수999,999,999   \n",
       "1                             5:22에 등대 불빛도 돌아가네...세심한 갓리자드         햅피니스123   \n",
       "2                                                        뀽              최윤   \n",
       "3        옥구슬만 몰라씀\\n \\n \\n \\n \\n \\n 그리고 지브롤터 솜브라로 ㄷ........        발바닥무시무시한   \n",
       "4                                                 이형말투 ㅋㅋㅋ          JINN n   \n",
       "...                                                    ...             ...   \n",
       "1358089                              한코코의 장난감 상자 그만해 이 팬티야            스탠다드   \n",
       "1358090                          휴뮤 내꺼도 있는 말인데\\n왜 그렇게 불편해해             예!?   \n",
       "1358091                                              휴뮤 내꺼             예!?   \n",
       "1358092                                               니 거?              안쌱   \n",
       "1358093                              쿠소겜만 골라하는 그는 똥믈리에....       Dies Irae   \n",
       "\n",
       "         decision_power  time  votes  \n",
       "0             -1.523378  4년 전    0.0  \n",
       "1             -0.475475  4년 전    4.0  \n",
       "2             -0.754466  4년 전    0.0  \n",
       "3             -1.404263  4년 전    0.0  \n",
       "4              3.572677  3년 전    0.0  \n",
       "...                 ...   ...    ...  \n",
       "1358089       -0.818626  3년 전    0.0  \n",
       "1358090       -1.265242  3년 전    0.0  \n",
       "1358091       -0.926762  3년 전    0.0  \n",
       "1358092       -1.595835  3년 전    0.0  \n",
       "1358093       -0.934708  3년 전    0.0  \n",
       "\n",
       "[1358094 rows x 5 columns]"
      ]
     },
     "execution_count": 57,
     "metadata": {},
     "output_type": "execute_result"
    }
   ],
   "source": [
    "information_df "
   ]
  },
  {
   "cell_type": "code",
   "execution_count": 40,
   "metadata": {},
   "outputs": [
    {
     "data": {
      "text/html": [
       "<div>\n",
       "<style scoped>\n",
       "    .dataframe tbody tr th:only-of-type {\n",
       "        vertical-align: middle;\n",
       "    }\n",
       "\n",
       "    .dataframe tbody tr th {\n",
       "        vertical-align: top;\n",
       "    }\n",
       "\n",
       "    .dataframe thead th {\n",
       "        text-align: right;\n",
       "    }\n",
       "</style>\n",
       "<table border=\"1\" class=\"dataframe\">\n",
       "  <thead>\n",
       "    <tr style=\"text-align: right;\">\n",
       "      <th></th>\n",
       "      <th>text</th>\n",
       "      <th>author</th>\n",
       "      <th>decision_power</th>\n",
       "      <th>time</th>\n",
       "      <th>votes</th>\n",
       "    </tr>\n",
       "  </thead>\n",
       "  <tbody>\n",
       "    <tr>\n",
       "      <th>0</th>\n",
       "      <td>참고로 일리오스 우물에 들어가면 무서운 소리남</td>\n",
       "      <td>조회수999,999,999</td>\n",
       "      <td>-1.523378</td>\n",
       "      <td>4년 전(수정됨)</td>\n",
       "      <td>0</td>\n",
       "    </tr>\n",
       "    <tr>\n",
       "      <th>1</th>\n",
       "      <td>5:22에 등대 불빛도 돌아가네...세심한 갓리자드</td>\n",
       "      <td>햅피니스123</td>\n",
       "      <td>-0.475475</td>\n",
       "      <td>4년 전</td>\n",
       "      <td>4</td>\n",
       "    </tr>\n",
       "    <tr>\n",
       "      <th>2</th>\n",
       "      <td>뀽</td>\n",
       "      <td>최윤</td>\n",
       "      <td>-0.754466</td>\n",
       "      <td>4년 전</td>\n",
       "      <td>0</td>\n",
       "    </tr>\n",
       "    <tr>\n",
       "      <th>3</th>\n",
       "      <td>옥구슬만 몰라씀\\n \\n \\n \\n \\n \\n 그리고 지브롤터 솜브라로 ㄷ........</td>\n",
       "      <td>발바닥무시무시한</td>\n",
       "      <td>-1.404263</td>\n",
       "      <td>4년 전(수정됨)</td>\n",
       "      <td>0</td>\n",
       "    </tr>\n",
       "    <tr>\n",
       "      <th>4</th>\n",
       "      <td>이형말투 ㅋㅋㅋ</td>\n",
       "      <td>JINN n</td>\n",
       "      <td>3.572677</td>\n",
       "      <td>3년 전</td>\n",
       "      <td>0</td>\n",
       "    </tr>\n",
       "    <tr>\n",
       "      <th>...</th>\n",
       "      <td>...</td>\n",
       "      <td>...</td>\n",
       "      <td>...</td>\n",
       "      <td>...</td>\n",
       "      <td>...</td>\n",
       "    </tr>\n",
       "    <tr>\n",
       "      <th>1358089</th>\n",
       "      <td>한코코의 장난감 상자 그만해 이 팬티야</td>\n",
       "      <td>스탠다드</td>\n",
       "      <td>-0.818626</td>\n",
       "      <td>3년 전</td>\n",
       "      <td>0</td>\n",
       "    </tr>\n",
       "    <tr>\n",
       "      <th>1358090</th>\n",
       "      <td>휴뮤 내꺼도 있는 말인데\\n왜 그렇게 불편해해</td>\n",
       "      <td>예!?</td>\n",
       "      <td>-1.265242</td>\n",
       "      <td>3년 전</td>\n",
       "      <td>0</td>\n",
       "    </tr>\n",
       "    <tr>\n",
       "      <th>1358091</th>\n",
       "      <td>휴뮤 내꺼</td>\n",
       "      <td>예!?</td>\n",
       "      <td>-0.926762</td>\n",
       "      <td>3년 전</td>\n",
       "      <td>0</td>\n",
       "    </tr>\n",
       "    <tr>\n",
       "      <th>1358092</th>\n",
       "      <td>니 거?</td>\n",
       "      <td>안쌱</td>\n",
       "      <td>-1.595835</td>\n",
       "      <td>3년 전</td>\n",
       "      <td>0</td>\n",
       "    </tr>\n",
       "    <tr>\n",
       "      <th>1358093</th>\n",
       "      <td>쿠소겜만 골라하는 그는 똥믈리에....</td>\n",
       "      <td>Dies Irae</td>\n",
       "      <td>-0.934708</td>\n",
       "      <td>3년 전</td>\n",
       "      <td>0</td>\n",
       "    </tr>\n",
       "  </tbody>\n",
       "</table>\n",
       "<p>1358094 rows × 5 columns</p>\n",
       "</div>"
      ],
      "text/plain": [
       "                                                      text          author  \\\n",
       "0                                참고로 일리오스 우물에 들어가면 무서운 소리남  조회수999,999,999   \n",
       "1                             5:22에 등대 불빛도 돌아가네...세심한 갓리자드         햅피니스123   \n",
       "2                                                        뀽              최윤   \n",
       "3        옥구슬만 몰라씀\\n \\n \\n \\n \\n \\n 그리고 지브롤터 솜브라로 ㄷ........        발바닥무시무시한   \n",
       "4                                                 이형말투 ㅋㅋㅋ          JINN n   \n",
       "...                                                    ...             ...   \n",
       "1358089                              한코코의 장난감 상자 그만해 이 팬티야            스탠다드   \n",
       "1358090                          휴뮤 내꺼도 있는 말인데\\n왜 그렇게 불편해해             예!?   \n",
       "1358091                                              휴뮤 내꺼             예!?   \n",
       "1358092                                               니 거?              안쌱   \n",
       "1358093                              쿠소겜만 골라하는 그는 똥믈리에....       Dies Irae   \n",
       "\n",
       "         decision_power       time votes  \n",
       "0             -1.523378  4년 전(수정됨)     0  \n",
       "1             -0.475475       4년 전     4  \n",
       "2             -0.754466       4년 전     0  \n",
       "3             -1.404263  4년 전(수정됨)     0  \n",
       "4              3.572677       3년 전     0  \n",
       "...                 ...        ...   ...  \n",
       "1358089       -0.818626       3년 전     0  \n",
       "1358090       -1.265242       3년 전     0  \n",
       "1358091       -0.926762       3년 전     0  \n",
       "1358092       -1.595835       3년 전     0  \n",
       "1358093       -0.934708       3년 전     0  \n",
       "\n",
       "[1358094 rows x 5 columns]"
      ]
     },
     "execution_count": 40,
     "metadata": {},
     "output_type": "execute_result"
    }
   ],
   "source": [
    "information_df = pd.read_csv(\"text_time_vote.csv\")\n",
    "information_df"
   ]
  },
  {
   "cell_type": "code",
   "execution_count": 58,
   "metadata": {},
   "outputs": [
    {
     "data": {
      "text/plain": [
       "array(['0개월 전', '10개월 전', '11개월 전', '1개월 전', '1년 전', '2개월 전', '2년 전',\n",
       "       '3개월 전', '3년 전', '4개월 전', '4년 전', '5개월 전', '5년 전', '6개월 전', '6년 전',\n",
       "       '7개월 전', '8개월 전', '9개월 전'], dtype=object)"
      ]
     },
     "execution_count": 58,
     "metadata": {},
     "output_type": "execute_result"
    }
   ],
   "source": [
    "np.unique(information_df['time'])"
   ]
  },
  {
   "cell_type": "code",
   "execution_count": 62,
   "metadata": {},
   "outputs": [
    {
     "data": {
      "text/html": [
       "<div>\n",
       "<style scoped>\n",
       "    .dataframe tbody tr th:only-of-type {\n",
       "        vertical-align: middle;\n",
       "    }\n",
       "\n",
       "    .dataframe tbody tr th {\n",
       "        vertical-align: top;\n",
       "    }\n",
       "\n",
       "    .dataframe thead th {\n",
       "        text-align: right;\n",
       "    }\n",
       "</style>\n",
       "<table border=\"1\" class=\"dataframe\">\n",
       "  <thead>\n",
       "    <tr style=\"text-align: right;\">\n",
       "      <th></th>\n",
       "      <th>time</th>\n",
       "      <th>votes</th>\n",
       "      <th>decision_power</th>\n",
       "    </tr>\n",
       "    <tr>\n",
       "      <th>time</th>\n",
       "      <th></th>\n",
       "      <th></th>\n",
       "      <th></th>\n",
       "    </tr>\n",
       "  </thead>\n",
       "  <tbody>\n",
       "    <tr>\n",
       "      <th>0개월 전</th>\n",
       "      <td>28920</td>\n",
       "      <td>8.336342</td>\n",
       "      <td>0.237832</td>\n",
       "    </tr>\n",
       "    <tr>\n",
       "      <th>10개월 전</th>\n",
       "      <td>35622</td>\n",
       "      <td>10.595643</td>\n",
       "      <td>0.239530</td>\n",
       "    </tr>\n",
       "    <tr>\n",
       "      <th>11개월 전</th>\n",
       "      <td>53922</td>\n",
       "      <td>11.014020</td>\n",
       "      <td>0.203642</td>\n",
       "    </tr>\n",
       "    <tr>\n",
       "      <th>1개월 전</th>\n",
       "      <td>26994</td>\n",
       "      <td>8.763948</td>\n",
       "      <td>0.237421</td>\n",
       "    </tr>\n",
       "    <tr>\n",
       "      <th>1년 전</th>\n",
       "      <td>380542</td>\n",
       "      <td>12.355885</td>\n",
       "      <td>0.312399</td>\n",
       "    </tr>\n",
       "  </tbody>\n",
       "</table>\n",
       "</div>"
      ],
      "text/plain": [
       "          time      votes  decision_power\n",
       "time                                     \n",
       "0개월 전    28920   8.336342        0.237832\n",
       "10개월 전   35622  10.595643        0.239530\n",
       "11개월 전   53922  11.014020        0.203642\n",
       "1개월 전    26994   8.763948        0.237421\n",
       "1년 전    380542  12.355885        0.312399"
      ]
     },
     "execution_count": 62,
     "metadata": {},
     "output_type": "execute_result"
    }
   ],
   "source": [
    "time_counts = information_df.groupby(information_df['time']).agg({'time':'count','votes':'mean','decision_power':'mean'})\n",
    "time_counts.head()"
   ]
  },
  {
   "cell_type": "code",
   "execution_count": 63,
   "metadata": {},
   "outputs": [
    {
     "data": {
      "text/html": [
       "<div>\n",
       "<style scoped>\n",
       "    .dataframe tbody tr th:only-of-type {\n",
       "        vertical-align: middle;\n",
       "    }\n",
       "\n",
       "    .dataframe tbody tr th {\n",
       "        vertical-align: top;\n",
       "    }\n",
       "\n",
       "    .dataframe thead th {\n",
       "        text-align: right;\n",
       "    }\n",
       "</style>\n",
       "<table border=\"1\" class=\"dataframe\">\n",
       "  <thead>\n",
       "    <tr style=\"text-align: right;\">\n",
       "      <th></th>\n",
       "      <th>counts</th>\n",
       "      <th>votes</th>\n",
       "      <th>decision_power</th>\n",
       "    </tr>\n",
       "    <tr>\n",
       "      <th>time</th>\n",
       "      <th></th>\n",
       "      <th></th>\n",
       "      <th></th>\n",
       "    </tr>\n",
       "  </thead>\n",
       "  <tbody>\n",
       "    <tr>\n",
       "      <th>0개월 전</th>\n",
       "      <td>28920</td>\n",
       "      <td>8.336342</td>\n",
       "      <td>0.237832</td>\n",
       "    </tr>\n",
       "    <tr>\n",
       "      <th>1개월 전</th>\n",
       "      <td>26994</td>\n",
       "      <td>8.763948</td>\n",
       "      <td>0.237421</td>\n",
       "    </tr>\n",
       "    <tr>\n",
       "      <th>2개월 전</th>\n",
       "      <td>36096</td>\n",
       "      <td>6.688608</td>\n",
       "      <td>0.125085</td>\n",
       "    </tr>\n",
       "    <tr>\n",
       "      <th>3개월 전</th>\n",
       "      <td>38585</td>\n",
       "      <td>8.488817</td>\n",
       "      <td>0.172029</td>\n",
       "    </tr>\n",
       "    <tr>\n",
       "      <th>4개월 전</th>\n",
       "      <td>41649</td>\n",
       "      <td>10.837379</td>\n",
       "      <td>0.215006</td>\n",
       "    </tr>\n",
       "    <tr>\n",
       "      <th>5개월 전</th>\n",
       "      <td>34155</td>\n",
       "      <td>8.630274</td>\n",
       "      <td>0.179035</td>\n",
       "    </tr>\n",
       "    <tr>\n",
       "      <th>6개월 전</th>\n",
       "      <td>40070</td>\n",
       "      <td>14.409658</td>\n",
       "      <td>0.167357</td>\n",
       "    </tr>\n",
       "    <tr>\n",
       "      <th>7개월 전</th>\n",
       "      <td>41740</td>\n",
       "      <td>15.350072</td>\n",
       "      <td>0.304074</td>\n",
       "    </tr>\n",
       "    <tr>\n",
       "      <th>8개월 전</th>\n",
       "      <td>51109</td>\n",
       "      <td>12.520045</td>\n",
       "      <td>0.337436</td>\n",
       "    </tr>\n",
       "    <tr>\n",
       "      <th>9개월 전</th>\n",
       "      <td>39988</td>\n",
       "      <td>11.647119</td>\n",
       "      <td>0.267514</td>\n",
       "    </tr>\n",
       "    <tr>\n",
       "      <th>10개월 전</th>\n",
       "      <td>35622</td>\n",
       "      <td>10.595643</td>\n",
       "      <td>0.239530</td>\n",
       "    </tr>\n",
       "    <tr>\n",
       "      <th>11개월 전</th>\n",
       "      <td>53922</td>\n",
       "      <td>11.014020</td>\n",
       "      <td>0.203642</td>\n",
       "    </tr>\n",
       "    <tr>\n",
       "      <th>1년 전</th>\n",
       "      <td>380542</td>\n",
       "      <td>12.355885</td>\n",
       "      <td>0.312399</td>\n",
       "    </tr>\n",
       "    <tr>\n",
       "      <th>2년 전</th>\n",
       "      <td>183674</td>\n",
       "      <td>12.945164</td>\n",
       "      <td>0.456557</td>\n",
       "    </tr>\n",
       "    <tr>\n",
       "      <th>3년 전</th>\n",
       "      <td>151021</td>\n",
       "      <td>8.892008</td>\n",
       "      <td>0.271057</td>\n",
       "    </tr>\n",
       "    <tr>\n",
       "      <th>4년 전</th>\n",
       "      <td>149010</td>\n",
       "      <td>5.898611</td>\n",
       "      <td>0.098069</td>\n",
       "    </tr>\n",
       "    <tr>\n",
       "      <th>5년 전</th>\n",
       "      <td>24949</td>\n",
       "      <td>1.449036</td>\n",
       "      <td>0.395215</td>\n",
       "    </tr>\n",
       "    <tr>\n",
       "      <th>6년 전</th>\n",
       "      <td>48</td>\n",
       "      <td>1.583333</td>\n",
       "      <td>1.227636</td>\n",
       "    </tr>\n",
       "  </tbody>\n",
       "</table>\n",
       "</div>"
      ],
      "text/plain": [
       "        counts      votes  decision_power\n",
       "time                                     \n",
       "0개월 전    28920   8.336342        0.237832\n",
       "1개월 전    26994   8.763948        0.237421\n",
       "2개월 전    36096   6.688608        0.125085\n",
       "3개월 전    38585   8.488817        0.172029\n",
       "4개월 전    41649  10.837379        0.215006\n",
       "5개월 전    34155   8.630274        0.179035\n",
       "6개월 전    40070  14.409658        0.167357\n",
       "7개월 전    41740  15.350072        0.304074\n",
       "8개월 전    51109  12.520045        0.337436\n",
       "9개월 전    39988  11.647119        0.267514\n",
       "10개월 전   35622  10.595643        0.239530\n",
       "11개월 전   53922  11.014020        0.203642\n",
       "1년 전    380542  12.355885        0.312399\n",
       "2년 전    183674  12.945164        0.456557\n",
       "3년 전    151021   8.892008        0.271057\n",
       "4년 전    149010   5.898611        0.098069\n",
       "5년 전     24949   1.449036        0.395215\n",
       "6년 전        48   1.583333        1.227636"
      ]
     },
     "execution_count": 63,
     "metadata": {},
     "output_type": "execute_result"
    }
   ],
   "source": [
    "def int_slicing(x):\n",
    "    string_double_digit = pd.Series(list(range(10,100))).astype('str').values.tolist()\n",
    "    if x[0:2] in string_double_digit:\n",
    "        slicing_num = 2\n",
    "    else:\n",
    "        slicing_num = 1\n",
    "    int_part = x[0:slicing_num]\n",
    "    string_part = x[slicing_num:]\n",
    "    return int_part\n",
    "\n",
    "def string_slicing(x):\n",
    "    string_double_digit = pd.Series(list(range(10,100))).astype('str').values.tolist()\n",
    "    if x[0:2] in string_double_digit:\n",
    "        slicing_num = 2\n",
    "    else:\n",
    "        slicing_num = 1\n",
    "    int_part = x[0:slicing_num]\n",
    "    string_part = x[slicing_num:]\n",
    "    return string_part\n",
    "\n",
    "standard = {'초 전':1,'분 전':2,'시간 전':3,'일 전':4,'주 전':5,'개월 전':6,'년 전':7}\n",
    "\n",
    "time_counts['standard1'] = pd.Series(time_counts.index, index=time_counts.index).map(int_slicing).astype('int')\n",
    "time_counts['standard2'] = pd.Series(time_counts.index, index=time_counts.index).map(string_slicing).map(standard).astype('int')\n",
    "time_counts = time_counts.sort_values(by=['standard2','standard1'])\n",
    "time_counts.drop(['standard1','standard2'],axis=1,inplace = True)\n",
    "time_counts.columns = ['counts','votes','decision_power']\n",
    "time_counts"
   ]
  },
  {
   "cell_type": "code",
   "execution_count": 64,
   "metadata": {},
   "outputs": [],
   "source": [
    "time_counts.to_csv(\"all_time_mean_integrate0month.csv\")"
   ]
  },
  {
   "cell_type": "markdown",
   "metadata": {},
   "source": [
    "# 그래프에 대한 아이디어가 떠오른다면 여기서부터"
   ]
  },
  {
   "cell_type": "code",
   "execution_count": 65,
   "metadata": {},
   "outputs": [],
   "source": [
    "df = pd.read_csv('all_time_mean_integrate0month.csv')"
   ]
  },
  {
   "cell_type": "code",
   "execution_count": 66,
   "metadata": {},
   "outputs": [
    {
     "data": {
      "text/plain": [
       "17      6년 전\n",
       "16      5년 전\n",
       "15      4년 전\n",
       "14      3년 전\n",
       "13      2년 전\n",
       "12      1년 전\n",
       "11    11개월 전\n",
       "10    10개월 전\n",
       "9      9개월 전\n",
       "8      8개월 전\n",
       "7      7개월 전\n",
       "6      6개월 전\n",
       "5      5개월 전\n",
       "4      4개월 전\n",
       "3      3개월 전\n",
       "2      2개월 전\n",
       "1      1개월 전\n",
       "0      0개월 전\n",
       "Name: time, dtype: object"
      ]
     },
     "execution_count": 66,
     "metadata": {},
     "output_type": "execute_result"
    }
   ],
   "source": [
    "df['time'][::-1]"
   ]
  },
  {
   "cell_type": "code",
   "execution_count": 85,
   "metadata": {},
   "outputs": [
    {
     "data": {
      "image/png": "[encoded data removed]",
      "text/plain": [
       "<Figure size 432x288 with 1 Axes>"
      ]
     },
     "metadata": {
      "needs_background": "light"
     },
     "output_type": "display_data"
    }
   ],
   "source": [
    "fig,ax = plt.subplots()\n",
    "ax.plot(df['time'][::-1],df['decision_power'][::-1])\n",
    "xlabels = df['time'][::-2].values\n",
    "ax.set_xticks(xlabels)\n",
    "ax.set_xticklabels(xlabels, rotation=45)\n",
    "ax.set_title('favorability trend',fontdict = {\"fontsize\":18})\n",
    "ax.set_xlabel('time',fontdict = {\"fontsize\":12})\n",
    "ax.set_ylabel('favorability',fontdict = {\"fontsize\":12})\n",
    "ax.vlines(18-12,0,np.max(df['decision_power']),color='black')\n",
    "ax.text(2.5,1,'year',fontdict = {'fontsize': 15})\n",
    "ax.text(11,1,'month',fontdict = {'fontsize': 15})\n",
    "\n",
    "plt.savefig('favorability.png',bbox_inches='tight', dpi=300)"
   ]
  },
  {
   "cell_type": "code",
   "execution_count": 86,
   "metadata": {},
   "outputs": [
    {
     "data": {
      "image/png": "[encoded data removed]",
      "text/plain": [
       "<Figure size 432x288 with 1 Axes>"
      ]
     },
     "metadata": {
      "needs_background": "light"
     },
     "output_type": "display_data"
    }
   ],
   "source": [
    "fig,ax = plt.subplots()\n",
    "ax.plot(df['time'][::-1],df['counts'][::-1])\n",
    "xlabels = df['time'][::-2].values\n",
    "ax.set_xticks(xlabels)\n",
    "ax.set_xticklabels(xlabels, rotation=45)\n",
    "ax.set_title('number of comments',fontdict = {\"fontsize\":18})\n",
    "ax.set_xlabel('time',fontdict = {\"fontsize\":12})\n",
    "ax.set_ylabel('Counts',fontdict = {\"fontsize\":12})\n",
    "ax.vlines(18-12,0,np.max(df['counts']),color='black')\n",
    "ax.text(2,300000,'year',fontdict = {'fontsize': 15})\n",
    "ax.text(11,300000,'month',fontdict = {'fontsize': 15})\n",
    "plt.savefig('comment_count.png',bbox_inches='tight', dpi=300)"
   ]
  },
  {
   "cell_type": "code",
   "execution_count": 87,
   "metadata": {},
   "outputs": [
    {
     "data": {
      "image/png": "[encoded data removed]",
      "text/plain": [
       "<Figure size 432x288 with 1 Axes>"
      ]
     },
     "metadata": {
      "needs_background": "light"
     },
     "output_type": "display_data"
    }
   ],
   "source": [
    "fig,ax = plt.subplots()\n",
    "ax.plot(df['time'][::-1],df['votes'][::-1])\n",
    "xlabels = df['time'][::-2].values\n",
    "ax.set_xticks(xlabels)\n",
    "ax.set_xticklabels(xlabels, rotation=45)\n",
    "ax.set_title('average \"like\" number of comments',fontdict = {\"fontsize\":18})\n",
    "ax.set_xlabel('time',fontdict = {\"fontsize\":12})\n",
    "ax.set_ylabel('like average',fontdict = {\"fontsize\":12})\n",
    "ax.vlines(18-12,0,np.max(df['votes']),color='black')\n",
    "ax.text(2.5,14.5,'year',fontdict = {'fontsize': 15})\n",
    "ax.text(12,14.5,'month',fontdict = {'fontsize': 15})\n",
    "fig.savefig('like average.png', bbox_inches='tight', dpi=300)"
   ]
  },
  {
   "cell_type": "markdown",
   "metadata": {},
   "source": [
    "# author"
   ]
  },
  {
   "cell_type": "code",
   "execution_count": 4,
   "metadata": {},
   "outputs": [
    {
     "data": {
      "text/html": [
       "<div>\n",
       "<style scoped>\n",
       "    .dataframe tbody tr th:only-of-type {\n",
       "        vertical-align: middle;\n",
       "    }\n",
       "\n",
       "    .dataframe tbody tr th {\n",
       "        vertical-align: top;\n",
       "    }\n",
       "\n",
       "    .dataframe thead th {\n",
       "        text-align: right;\n",
       "    }\n",
       "</style>\n",
       "<table border=\"1\" class=\"dataframe\">\n",
       "  <thead>\n",
       "    <tr style=\"text-align: right;\">\n",
       "      <th></th>\n",
       "      <th>text</th>\n",
       "      <th>author</th>\n",
       "      <th>decision_power</th>\n",
       "      <th>time</th>\n",
       "      <th>votes</th>\n",
       "    </tr>\n",
       "  </thead>\n",
       "  <tbody>\n",
       "    <tr>\n",
       "      <th>0</th>\n",
       "      <td>참고로 일리오스 우물에 들어가면 무서운 소리남</td>\n",
       "      <td>조회수999,999,999</td>\n",
       "      <td>-1.523378</td>\n",
       "      <td>4년 전(수정됨)</td>\n",
       "      <td>0</td>\n",
       "    </tr>\n",
       "    <tr>\n",
       "      <th>1</th>\n",
       "      <td>5:22에 등대 불빛도 돌아가네...세심한 갓리자드</td>\n",
       "      <td>햅피니스123</td>\n",
       "      <td>-0.475475</td>\n",
       "      <td>4년 전</td>\n",
       "      <td>4</td>\n",
       "    </tr>\n",
       "    <tr>\n",
       "      <th>2</th>\n",
       "      <td>뀽</td>\n",
       "      <td>최윤</td>\n",
       "      <td>-0.754466</td>\n",
       "      <td>4년 전</td>\n",
       "      <td>0</td>\n",
       "    </tr>\n",
       "    <tr>\n",
       "      <th>3</th>\n",
       "      <td>옥구슬만 몰라씀\\n \\n \\n \\n \\n \\n 그리고 지브롤터 솜브라로 ㄷ........</td>\n",
       "      <td>발바닥무시무시한</td>\n",
       "      <td>-1.404263</td>\n",
       "      <td>4년 전(수정됨)</td>\n",
       "      <td>0</td>\n",
       "    </tr>\n",
       "    <tr>\n",
       "      <th>4</th>\n",
       "      <td>이형말투 ㅋㅋㅋ</td>\n",
       "      <td>JINN n</td>\n",
       "      <td>3.572677</td>\n",
       "      <td>3년 전</td>\n",
       "      <td>0</td>\n",
       "    </tr>\n",
       "  </tbody>\n",
       "</table>\n",
       "</div>"
      ],
      "text/plain": [
       "                                                text          author  \\\n",
       "0                          참고로 일리오스 우물에 들어가면 무서운 소리남  조회수999,999,999   \n",
       "1                       5:22에 등대 불빛도 돌아가네...세심한 갓리자드         햅피니스123   \n",
       "2                                                  뀽              최윤   \n",
       "3  옥구슬만 몰라씀\\n \\n \\n \\n \\n \\n 그리고 지브롤터 솜브라로 ㄷ........        발바닥무시무시한   \n",
       "4                                           이형말투 ㅋㅋㅋ          JINN n   \n",
       "\n",
       "   decision_power       time votes  \n",
       "0       -1.523378  4년 전(수정됨)     0  \n",
       "1       -0.475475       4년 전     4  \n",
       "2       -0.754466       4년 전     0  \n",
       "3       -1.404263  4년 전(수정됨)     0  \n",
       "4        3.572677       3년 전     0  "
      ]
     },
     "execution_count": 4,
     "metadata": {},
     "output_type": "execute_result"
    }
   ],
   "source": [
    "df = pd.read_csv(\"text_time_vote.csv\")\n",
    "df.head()"
   ]
  },
  {
   "cell_type": "code",
   "execution_count": 5,
   "metadata": {},
   "outputs": [],
   "source": [
    "def eliminate_useless(x):\n",
    "    if x[-5:]=='(수정됨)':\n",
    "        return x[:-5]\n",
    "    else:\n",
    "        return x\n",
    "def transform_to_0month(string):\n",
    "    short_time = ['초 전','분 전','시간 전','일 전','주 전']\n",
    "    for short in short_time:\n",
    "        if string.find(short) >0 :\n",
    "            result =  '0개월 전'\n",
    "            break\n",
    "        else:\n",
    "            result = string\n",
    "    return result\n",
    "df['time'] = df['time'].map(eliminate_useless)\n",
    "df['time'] = df['time'].map(transform_to_0month)"
   ]
  },
  {
   "cell_type": "code",
   "execution_count": 6,
   "metadata": {},
   "outputs": [],
   "source": [
    "grouped2 = df.groupby(['author','time']).count()['text']\n",
    "grouped1 = df.groupby(['author']).count()['text']"
   ]
  },
  {
   "cell_type": "code",
   "execution_count": 7,
   "metadata": {},
   "outputs": [],
   "source": [
    "grouped1.name = 'count'"
   ]
  },
  {
   "cell_type": "code",
   "execution_count": 8,
   "metadata": {},
   "outputs": [],
   "source": [
    "grouped2.name = 'count'"
   ]
  },
  {
   "cell_type": "code",
   "execution_count": 9,
   "metadata": {},
   "outputs": [],
   "source": [
    "overlab= []\n",
    "for i in range(200):\n",
    "    overlab.append(np.round(len(grouped1[grouped1 >= i])/len(grouped1),4))"
   ]
  },
  {
   "cell_type": "code",
   "execution_count": 10,
   "metadata": {},
   "outputs": [
    {
     "name": "stdout",
     "output_type": "stream",
     "text": [
      "[1.0, 1.0, 0.5431, 0.3863, 0.3036, 0.2517, 0.2152, 0.1878, 0.1665, 0.1493, 0.1353, 0.1233, 0.1135, 0.105, 0.0973, 0.0906, 0.0849, 0.0798, 0.0753, 0.071, 0.0674, 0.064, 0.0607, 0.0577, 0.0549, 0.0524, 0.0501, 0.0479, 0.0459, 0.0441, 0.0422, 0.0406, 0.0389, 0.0376, 0.0362, 0.0351, 0.0339, 0.0327, 0.0316, 0.0305, 0.0296, 0.0288, 0.028, 0.0272, 0.0264, 0.0256, 0.0248, 0.0241, 0.0234, 0.0227, 0.0222, 0.0216, 0.021, 0.0204, 0.0199, 0.0194, 0.019, 0.0185, 0.018, 0.0176, 0.0172, 0.0168, 0.0164, 0.016, 0.0156, 0.0153, 0.015, 0.0147, 0.0143, 0.014, 0.0136, 0.0134, 0.0131, 0.0128, 0.0126, 0.0123, 0.0121, 0.0119, 0.0117, 0.0114, 0.0112, 0.0109, 0.0106, 0.0105, 0.0103, 0.0102, 0.01, 0.0098, 0.0096, 0.0094, 0.0092, 0.009, 0.0089, 0.0087, 0.0085, 0.0084, 0.0083, 0.0082, 0.008, 0.0079, 0.0077, 0.0076, 0.0074, 0.0073, 0.0072, 0.0071, 0.007, 0.0068, 0.0067, 0.0067, 0.0066, 0.0064, 0.0063, 0.0062, 0.0061, 0.006, 0.0059, 0.0058, 0.0058, 0.0057, 0.0056, 0.0055, 0.0054, 0.0053, 0.0052, 0.0051, 0.005, 0.005, 0.0049, 0.0048, 0.0048, 0.0047, 0.0046, 0.0046, 0.0045, 0.0045, 0.0044, 0.0044, 0.0044, 0.0043, 0.0042, 0.0042, 0.0041, 0.0041, 0.004, 0.004, 0.0039, 0.0039, 0.0038, 0.0038, 0.0037, 0.0037, 0.0036, 0.0036, 0.0036, 0.0035, 0.0035, 0.0034, 0.0034, 0.0033, 0.0033, 0.0033, 0.0032, 0.0032, 0.0031, 0.0031, 0.0031, 0.003, 0.003, 0.003, 0.003, 0.0029, 0.0029, 0.0029, 0.0028, 0.0028, 0.0028, 0.0027, 0.0027, 0.0027, 0.0027, 0.0027, 0.0026, 0.0026, 0.0026, 0.0026, 0.0026, 0.0025, 0.0025, 0.0025, 0.0025, 0.0024, 0.0024, 0.0024, 0.0024, 0.0024, 0.0023, 0.0023, 0.0023, 0.0023]\n"
     ]
    }
   ],
   "source": [
    "print(overlab)"
   ]
  },
  {
   "cell_type": "code",
   "execution_count": 11,
   "metadata": {},
   "outputs": [
    {
     "data": {
      "image/png": "[encoded data removed]",
      "text/plain": [
       "<Figure size 864x216 with 2 Axes>"
      ]
     },
     "metadata": {
      "needs_background": "light"
     },
     "output_type": "display_data"
    }
   ],
   "source": [
    "fig,ax = plt.subplots(1,2,figsize=(12,3))\n",
    "ax[0].plot(overlab[1:])\n",
    "ax[0].set_xticks([1,25,50,75,100,125,150,175,200])\n",
    "ax[0].set_xlabel('duplicate commenters',fontdict = {\"fontsize\":12})\n",
    "ax[0].set_ylabel('percentage',fontdict = {\"fontsize\":12})\n",
    "ax[0].set_title('line plot',fontdict = {\"fontsize\":18})\n",
    "\n",
    "ax[1].boxplot(grouped1,vert=False)\n",
    "ax[1].set_xscale('log')\n",
    "ax[1].set_title('boxplot',fontdict = {\"fontsize\":18})\n",
    "ax[1].set_yticklabels([])\n",
    "ax[1].set_xlabel('comments by one user',fontdict = {\"fontsize\":12})\n",
    "ax[1].spines['left'].set_visible(False)\n",
    "ax[1].spines['right'].set_visible(False)\n",
    "ax[1].spines['top'].set_visible(False)\n",
    "plt.savefig('duplicate author.png',bbox_inches='tight', dpi=300)"
   ]
  },
  {
   "cell_type": "code",
   "execution_count": 32,
   "metadata": {},
   "outputs": [
    {
     "data": {
      "text/plain": [
       "[<matplotlib.lines.Line2D at 0x1de80e49be0>]"
      ]
     },
     "execution_count": 32,
     "metadata": {},
     "output_type": "execute_result"
    },
    {
     "data": {
      "image/png": "[encoded data removed]",
      "text/plain": [
       "<Figure size 432x288 with 1 Axes>"
      ]
     },
     "metadata": {
      "needs_background": "light"
     },
     "output_type": "display_data"
    }
   ],
   "source": [
    "plt.plot(pd.Series(overlab)[1:].shift(1) - pd.Series(overlab)[1:])"
   ]
  },
  {
   "cell_type": "code",
   "execution_count": 12,
   "metadata": {},
   "outputs": [
    {
     "data": {
      "text/html": [
       "<div>\n",
       "<style scoped>\n",
       "    .dataframe tbody tr th:only-of-type {\n",
       "        vertical-align: middle;\n",
       "    }\n",
       "\n",
       "    .dataframe tbody tr th {\n",
       "        vertical-align: top;\n",
       "    }\n",
       "\n",
       "    .dataframe thead th {\n",
       "        text-align: right;\n",
       "    }\n",
       "</style>\n",
       "<table border=\"1\" class=\"dataframe\">\n",
       "  <thead>\n",
       "    <tr style=\"text-align: right;\">\n",
       "      <th></th>\n",
       "      <th></th>\n",
       "      <th>count</th>\n",
       "    </tr>\n",
       "    <tr>\n",
       "      <th>author</th>\n",
       "      <th>time</th>\n",
       "      <th></th>\n",
       "    </tr>\n",
       "  </thead>\n",
       "  <tbody>\n",
       "    <tr>\n",
       "      <th rowspan=\"2\" valign=\"top\">! ROCKCAT</th>\n",
       "      <th>2년 전</th>\n",
       "      <td>1</td>\n",
       "    </tr>\n",
       "    <tr>\n",
       "      <th>7개월 전</th>\n",
       "      <td>1</td>\n",
       "    </tr>\n",
       "    <tr>\n",
       "      <th>!!</th>\n",
       "      <th>4년 전</th>\n",
       "      <td>1</td>\n",
       "    </tr>\n",
       "    <tr>\n",
       "      <th>!!!!!!발정난뎬네</th>\n",
       "      <th>4년 전</th>\n",
       "      <td>1</td>\n",
       "    </tr>\n",
       "    <tr>\n",
       "      <th>!-!</th>\n",
       "      <th>4년 전</th>\n",
       "      <td>1</td>\n",
       "    </tr>\n",
       "    <tr>\n",
       "      <th>...</th>\n",
       "      <th>...</th>\n",
       "      <td>...</td>\n",
       "    </tr>\n",
       "    <tr>\n",
       "      <th rowspan=\"2\" valign=\"top\">🤔</th>\n",
       "      <th>1년 전</th>\n",
       "      <td>2</td>\n",
       "    </tr>\n",
       "    <tr>\n",
       "      <th>7개월 전</th>\n",
       "      <td>1</td>\n",
       "    </tr>\n",
       "    <tr>\n",
       "      <th rowspan=\"2\" valign=\"top\">🦉</th>\n",
       "      <th>3년 전</th>\n",
       "      <td>1</td>\n",
       "    </tr>\n",
       "    <tr>\n",
       "      <th>4년 전</th>\n",
       "      <td>1</td>\n",
       "    </tr>\n",
       "    <tr>\n",
       "      <th>🧜🏻‍♂️</th>\n",
       "      <th>3년 전</th>\n",
       "      <td>5</td>\n",
       "    </tr>\n",
       "  </tbody>\n",
       "</table>\n",
       "<p>431083 rows × 1 columns</p>\n",
       "</div>"
      ],
      "text/plain": [
       "                   count\n",
       "author      time        \n",
       "! ROCKCAT   2년 전       1\n",
       "            7개월 전      1\n",
       "!!          4년 전       1\n",
       "!!!!!!발정난뎬네 4년 전       1\n",
       "!-!         4년 전       1\n",
       "...                  ...\n",
       "🤔           1년 전       2\n",
       "            7개월 전      1\n",
       "🦉           3년 전       1\n",
       "            4년 전       1\n",
       "🧜🏻‍♂️       3년 전       5\n",
       "\n",
       "[431083 rows x 1 columns]"
      ]
     },
     "execution_count": 12,
     "metadata": {},
     "output_type": "execute_result"
    }
   ],
   "source": [
    "pd.DataFrame(grouped2)"
   ]
  },
  {
   "cell_type": "code",
   "execution_count": 13,
   "metadata": {},
   "outputs": [],
   "source": [
    "each_time_df = grouped2.reset_index()"
   ]
  },
  {
   "cell_type": "code",
   "execution_count": 14,
   "metadata": {},
   "outputs": [
    {
     "data": {
      "text/html": [
       "<div>\n",
       "<style scoped>\n",
       "    .dataframe tbody tr th:only-of-type {\n",
       "        vertical-align: middle;\n",
       "    }\n",
       "\n",
       "    .dataframe tbody tr th {\n",
       "        vertical-align: top;\n",
       "    }\n",
       "\n",
       "    .dataframe thead th {\n",
       "        text-align: right;\n",
       "    }\n",
       "</style>\n",
       "<table border=\"1\" class=\"dataframe\">\n",
       "  <thead>\n",
       "    <tr style=\"text-align: right;\">\n",
       "      <th></th>\n",
       "      <th>author</th>\n",
       "      <th>time</th>\n",
       "      <th>count</th>\n",
       "    </tr>\n",
       "  </thead>\n",
       "  <tbody>\n",
       "    <tr>\n",
       "      <th>0</th>\n",
       "      <td>! ROCKCAT</td>\n",
       "      <td>2년 전</td>\n",
       "      <td>1</td>\n",
       "    </tr>\n",
       "    <tr>\n",
       "      <th>1</th>\n",
       "      <td>! ROCKCAT</td>\n",
       "      <td>7개월 전</td>\n",
       "      <td>1</td>\n",
       "    </tr>\n",
       "    <tr>\n",
       "      <th>2</th>\n",
       "      <td>!!</td>\n",
       "      <td>4년 전</td>\n",
       "      <td>1</td>\n",
       "    </tr>\n",
       "    <tr>\n",
       "      <th>3</th>\n",
       "      <td>!!!!!!발정난뎬네</td>\n",
       "      <td>4년 전</td>\n",
       "      <td>1</td>\n",
       "    </tr>\n",
       "    <tr>\n",
       "      <th>4</th>\n",
       "      <td>!-!</td>\n",
       "      <td>4년 전</td>\n",
       "      <td>1</td>\n",
       "    </tr>\n",
       "    <tr>\n",
       "      <th>...</th>\n",
       "      <td>...</td>\n",
       "      <td>...</td>\n",
       "      <td>...</td>\n",
       "    </tr>\n",
       "    <tr>\n",
       "      <th>431078</th>\n",
       "      <td>🤔</td>\n",
       "      <td>1년 전</td>\n",
       "      <td>2</td>\n",
       "    </tr>\n",
       "    <tr>\n",
       "      <th>431079</th>\n",
       "      <td>🤔</td>\n",
       "      <td>7개월 전</td>\n",
       "      <td>1</td>\n",
       "    </tr>\n",
       "    <tr>\n",
       "      <th>431080</th>\n",
       "      <td>🦉</td>\n",
       "      <td>3년 전</td>\n",
       "      <td>1</td>\n",
       "    </tr>\n",
       "    <tr>\n",
       "      <th>431081</th>\n",
       "      <td>🦉</td>\n",
       "      <td>4년 전</td>\n",
       "      <td>1</td>\n",
       "    </tr>\n",
       "    <tr>\n",
       "      <th>431082</th>\n",
       "      <td>🧜🏻‍♂️</td>\n",
       "      <td>3년 전</td>\n",
       "      <td>5</td>\n",
       "    </tr>\n",
       "  </tbody>\n",
       "</table>\n",
       "<p>431083 rows × 3 columns</p>\n",
       "</div>"
      ],
      "text/plain": [
       "             author   time  count\n",
       "0         ! ROCKCAT   2년 전      1\n",
       "1         ! ROCKCAT  7개월 전      1\n",
       "2                !!   4년 전      1\n",
       "3       !!!!!!발정난뎬네   4년 전      1\n",
       "4               !-!   4년 전      1\n",
       "...             ...    ...    ...\n",
       "431078            🤔   1년 전      2\n",
       "431079            🤔  7개월 전      1\n",
       "431080            🦉   3년 전      1\n",
       "431081            🦉   4년 전      1\n",
       "431082        🧜🏻‍♂️   3년 전      5\n",
       "\n",
       "[431083 rows x 3 columns]"
      ]
     },
     "execution_count": 14,
     "metadata": {},
     "output_type": "execute_result"
    }
   ],
   "source": [
    "each_time_df"
   ]
  },
  {
   "cell_type": "code",
   "execution_count": 15,
   "metadata": {},
   "outputs": [],
   "source": [
    "from matplotlib import font_manager,rc, rcParams\n",
    "import platform\n",
    "if platform.system() == 'Windows':\n",
    "    path = 'c:/windows/Fonts/malgun.ttf'\n",
    "    font_name = font_manager.FontProperties(fname=path).get_name()\n",
    "    rc('font',family = font_name)\n",
    "elif platform.system() == 'Darwin':\n",
    "    rc('font',family = 'AppleGothic')\n",
    "else:\n",
    "    print('Check your OS system')\n",
    "rcParams['axes.unicode_minus'] = False\n",
    "import warnings\n",
    "warnings.filterwarnings('ignore')\n",
    "\n",
    "import seaborn as sns"
   ]
  },
  {
   "cell_type": "code",
   "execution_count": 16,
   "metadata": {},
   "outputs": [
    {
     "data": {
      "text/plain": [
       "Text(0.5, 1.0, 'trend')"
      ]
     },
     "execution_count": 16,
     "metadata": {},
     "output_type": "execute_result"
    },
    {
     "data": {
      "image/png": "[encoded data removed]",
      "text/plain": [
       "<Figure size 432x288 with 1 Axes>"
      ]
     },
     "metadata": {
      "needs_background": "light"
     },
     "output_type": "display_data"
    }
   ],
   "source": [
    "fig,ax = plt.subplots()\n",
    "sns.boxplot(x = each_time_df['time'], y= each_time_df['count'],ax=ax)\n",
    "ax.set_yscale('log')\n",
    "ax.tick_params (axis = 'x', labelrotation =90)\n",
    "ax.set_xlabel('time',fontdict = {\"fontsize\":12})\n",
    "ax.set_ylabel('comments by one user',fontdict = {\"fontsize\":12})\n",
    "ax.set_title('trend',fontdict = {\"fontsize\":18})"
   ]
  },
  {
   "cell_type": "code",
   "execution_count": 17,
   "metadata": {},
   "outputs": [
    {
     "data": {
      "text/html": [
       "<div>\n",
       "<style scoped>\n",
       "    .dataframe tbody tr th:only-of-type {\n",
       "        vertical-align: middle;\n",
       "    }\n",
       "\n",
       "    .dataframe tbody tr th {\n",
       "        vertical-align: top;\n",
       "    }\n",
       "\n",
       "    .dataframe thead th {\n",
       "        text-align: right;\n",
       "    }\n",
       "</style>\n",
       "<table border=\"1\" class=\"dataframe\">\n",
       "  <thead>\n",
       "    <tr style=\"text-align: right;\">\n",
       "      <th></th>\n",
       "      <th>author</th>\n",
       "      <th>time</th>\n",
       "      <th>count</th>\n",
       "    </tr>\n",
       "  </thead>\n",
       "  <tbody>\n",
       "    <tr>\n",
       "      <th>40273</th>\n",
       "      <td>JS Han</td>\n",
       "      <td>0개월 전</td>\n",
       "      <td>1</td>\n",
       "    </tr>\n",
       "    <tr>\n",
       "      <th>31492</th>\n",
       "      <td>H AN</td>\n",
       "      <td>0개월 전</td>\n",
       "      <td>2</td>\n",
       "    </tr>\n",
       "    <tr>\n",
       "      <th>408583</th>\n",
       "      <td>피난다</td>\n",
       "      <td>0개월 전</td>\n",
       "      <td>1</td>\n",
       "    </tr>\n",
       "    <tr>\n",
       "      <th>175222</th>\n",
       "      <td>김정헌</td>\n",
       "      <td>0개월 전</td>\n",
       "      <td>1</td>\n",
       "    </tr>\n",
       "    <tr>\n",
       "      <th>89176</th>\n",
       "      <td>ab cdefg</td>\n",
       "      <td>0개월 전</td>\n",
       "      <td>1</td>\n",
       "    </tr>\n",
       "    <tr>\n",
       "      <th>...</th>\n",
       "      <td>...</td>\n",
       "      <td>...</td>\n",
       "      <td>...</td>\n",
       "    </tr>\n",
       "    <tr>\n",
       "      <th>24269</th>\n",
       "      <td>Drink pepsi</td>\n",
       "      <td>9개월 전</td>\n",
       "      <td>2</td>\n",
       "    </tr>\n",
       "    <tr>\n",
       "      <th>109585</th>\n",
       "      <td>little hope</td>\n",
       "      <td>9개월 전</td>\n",
       "      <td>1</td>\n",
       "    </tr>\n",
       "    <tr>\n",
       "      <th>255075</th>\n",
       "      <td>부산갈매기</td>\n",
       "      <td>9개월 전</td>\n",
       "      <td>2</td>\n",
       "    </tr>\n",
       "    <tr>\n",
       "      <th>315272</th>\n",
       "      <td>우리오리예나</td>\n",
       "      <td>9개월 전</td>\n",
       "      <td>6</td>\n",
       "    </tr>\n",
       "    <tr>\n",
       "      <th>377108</th>\n",
       "      <td>짱구의랩,노래</td>\n",
       "      <td>9개월 전</td>\n",
       "      <td>1</td>\n",
       "    </tr>\n",
       "  </tbody>\n",
       "</table>\n",
       "<p>431083 rows × 3 columns</p>\n",
       "</div>"
      ],
      "text/plain": [
       "             author   time  count\n",
       "40273        JS Han  0개월 전      1\n",
       "31492          H AN  0개월 전      2\n",
       "408583          피난다  0개월 전      1\n",
       "175222          김정헌  0개월 전      1\n",
       "89176      ab cdefg  0개월 전      1\n",
       "...             ...    ...    ...\n",
       "24269   Drink pepsi  9개월 전      2\n",
       "109585  little hope  9개월 전      1\n",
       "255075        부산갈매기  9개월 전      2\n",
       "315272       우리오리예나  9개월 전      6\n",
       "377108      짱구의랩,노래  9개월 전      1\n",
       "\n",
       "[431083 rows x 3 columns]"
      ]
     },
     "execution_count": 17,
     "metadata": {},
     "output_type": "execute_result"
    }
   ],
   "source": [
    "each_time_df.sort_values(by='time')"
   ]
  },
  {
   "cell_type": "code",
   "execution_count": 18,
   "metadata": {},
   "outputs": [],
   "source": [
    "def int_slicing(x):\n",
    "    string_double_digit = pd.Series(list(range(10,100))).astype('str').values.tolist()\n",
    "    if x[0:2] in string_double_digit:\n",
    "        slicing_num = 2\n",
    "    else:\n",
    "        slicing_num = 1\n",
    "    int_part = x[0:slicing_num]\n",
    "    string_part = x[slicing_num:]\n",
    "    return int_part\n",
    "\n",
    "def string_slicing(x):\n",
    "    string_double_digit = pd.Series(list(range(10,100))).astype('str').values.tolist()\n",
    "    if x[0:2] in string_double_digit:\n",
    "        slicing_num = 2\n",
    "    else:\n",
    "        slicing_num = 1\n",
    "    int_part = x[0:slicing_num]\n",
    "    string_part = x[slicing_num:]\n",
    "    return string_part\n",
    "standard = {'초 전':1,'분 전':2,'시간 전':3,'일 전':4,'주 전':5,'개월 전':6,'년 전':7}"
   ]
  },
  {
   "cell_type": "code",
   "execution_count": 19,
   "metadata": {},
   "outputs": [],
   "source": [
    "each_time_df['standard1'] = each_time_df['time'].map(int_slicing).astype('int')"
   ]
  },
  {
   "cell_type": "code",
   "execution_count": 20,
   "metadata": {},
   "outputs": [],
   "source": [
    "each_time_df['standard2'] = each_time_df['time'].map(string_slicing).map(standard).astype('int')"
   ]
  },
  {
   "cell_type": "code",
   "execution_count": 21,
   "metadata": {},
   "outputs": [
    {
     "data": {
      "text/html": [
       "<div>\n",
       "<style scoped>\n",
       "    .dataframe tbody tr th:only-of-type {\n",
       "        vertical-align: middle;\n",
       "    }\n",
       "\n",
       "    .dataframe tbody tr th {\n",
       "        vertical-align: top;\n",
       "    }\n",
       "\n",
       "    .dataframe thead th {\n",
       "        text-align: right;\n",
       "    }\n",
       "</style>\n",
       "<table border=\"1\" class=\"dataframe\">\n",
       "  <thead>\n",
       "    <tr style=\"text-align: right;\">\n",
       "      <th></th>\n",
       "      <th>author</th>\n",
       "      <th>time</th>\n",
       "      <th>count</th>\n",
       "      <th>standard1</th>\n",
       "      <th>standard2</th>\n",
       "    </tr>\n",
       "  </thead>\n",
       "  <tbody>\n",
       "    <tr>\n",
       "      <th>0</th>\n",
       "      <td># 유나</td>\n",
       "      <td>0개월 전</td>\n",
       "      <td>1</td>\n",
       "      <td>0</td>\n",
       "      <td>6</td>\n",
       "    </tr>\n",
       "    <tr>\n",
       "      <th>1</th>\n",
       "      <td>##</td>\n",
       "      <td>0개월 전</td>\n",
       "      <td>4</td>\n",
       "      <td>0</td>\n",
       "      <td>6</td>\n",
       "    </tr>\n",
       "    <tr>\n",
       "      <th>2</th>\n",
       "      <td>#&amp;#&amp;</td>\n",
       "      <td>0개월 전</td>\n",
       "      <td>1</td>\n",
       "      <td>0</td>\n",
       "      <td>6</td>\n",
       "    </tr>\n",
       "    <tr>\n",
       "      <th>3</th>\n",
       "      <td>#0A0A0A</td>\n",
       "      <td>0개월 전</td>\n",
       "      <td>3</td>\n",
       "      <td>0</td>\n",
       "      <td>6</td>\n",
       "    </tr>\n",
       "    <tr>\n",
       "      <th>4</th>\n",
       "      <td>#Ch_ CodeName</td>\n",
       "      <td>0개월 전</td>\n",
       "      <td>1</td>\n",
       "      <td>0</td>\n",
       "      <td>6</td>\n",
       "    </tr>\n",
       "    <tr>\n",
       "      <th>...</th>\n",
       "      <td>...</td>\n",
       "      <td>...</td>\n",
       "      <td>...</td>\n",
       "      <td>...</td>\n",
       "      <td>...</td>\n",
       "    </tr>\n",
       "    <tr>\n",
       "      <th>431078</th>\n",
       "      <td>지지맨</td>\n",
       "      <td>6년 전</td>\n",
       "      <td>1</td>\n",
       "      <td>6</td>\n",
       "      <td>7</td>\n",
       "    </tr>\n",
       "    <tr>\n",
       "      <th>431079</th>\n",
       "      <td>채널게임 정보 얻기용</td>\n",
       "      <td>6년 전</td>\n",
       "      <td>1</td>\n",
       "      <td>6</td>\n",
       "      <td>7</td>\n",
       "    </tr>\n",
       "    <tr>\n",
       "      <th>431080</th>\n",
       "      <td>최강민</td>\n",
       "      <td>6년 전</td>\n",
       "      <td>1</td>\n",
       "      <td>6</td>\n",
       "      <td>7</td>\n",
       "    </tr>\n",
       "    <tr>\n",
       "      <th>431081</th>\n",
       "      <td>하얀색단추</td>\n",
       "      <td>6년 전</td>\n",
       "      <td>4</td>\n",
       "      <td>6</td>\n",
       "      <td>7</td>\n",
       "    </tr>\n",
       "    <tr>\n",
       "      <th>431082</th>\n",
       "      <td>한양현</td>\n",
       "      <td>6년 전</td>\n",
       "      <td>1</td>\n",
       "      <td>6</td>\n",
       "      <td>7</td>\n",
       "    </tr>\n",
       "  </tbody>\n",
       "</table>\n",
       "<p>431083 rows × 5 columns</p>\n",
       "</div>"
      ],
      "text/plain": [
       "               author   time  count  standard1  standard2\n",
       "0                # 유나  0개월 전      1          0          6\n",
       "1                  ##  0개월 전      4          0          6\n",
       "2                #&#&  0개월 전      1          0          6\n",
       "3             #0A0A0A  0개월 전      3          0          6\n",
       "4       #Ch_ CodeName  0개월 전      1          0          6\n",
       "...               ...    ...    ...        ...        ...\n",
       "431078            지지맨   6년 전      1          6          7\n",
       "431079    채널게임 정보 얻기용   6년 전      1          6          7\n",
       "431080            최강민   6년 전      1          6          7\n",
       "431081          하얀색단추   6년 전      4          6          7\n",
       "431082            한양현   6년 전      1          6          7\n",
       "\n",
       "[431083 rows x 5 columns]"
      ]
     },
     "execution_count": 21,
     "metadata": {},
     "output_type": "execute_result"
    }
   ],
   "source": [
    "ddd = each_time_df.sort_values(by=['standard2','standard1']).reset_index(drop=True)\n",
    "ddd"
   ]
  },
  {
   "cell_type": "code",
   "execution_count": 22,
   "metadata": {},
   "outputs": [
    {
     "data": {
      "image/png": "[encoded data removed]",
      "text/plain": [
       "<Figure size 432x288 with 1 Axes>"
      ]
     },
     "metadata": {
      "needs_background": "light"
     },
     "output_type": "display_data"
    }
   ],
   "source": [
    "fig,ax = plt.subplots()\n",
    "sns.boxplot(x = ddd['time'], y= ddd['count'],ax=ax)\n",
    "ax.set_yscale('log')\n",
    "ax.tick_params (axis = 'x', labelrotation =90)\n",
    "ax.set_xlabel('time',fontdict = {\"fontsize\":12})\n",
    "ax.set_ylabel('comments by one user',fontdict = {\"fontsize\":12})\n",
    "ax.set_title('trend',fontdict = {\"fontsize\":18})\n",
    "ax.vlines(11.5,0,np.max(ddd['count']),linewidth=2.5)\n",
    "ax.text(4.5,np.max(ddd['count'])-1000,'month',fontdict = {\"fontsize\":15})\n",
    "ax.text(14,np.max(ddd['count'])-1000,'year',fontdict = {\"fontsize\":15})\n",
    "plt.savefig('box_month.png',bbox_inches='tight', dpi=300)"
   ]
  },
  {
   "cell_type": "code",
   "execution_count": 23,
   "metadata": {},
   "outputs": [],
   "source": [
    "def vvv(x):\n",
    "    if x[-4:] == '개월 전':\n",
    "        return '이번 년도'\n",
    "    else:\n",
    "        return x\n",
    "temp = ddd['time'].map(vvv)"
   ]
  },
  {
   "cell_type": "code",
   "execution_count": 24,
   "metadata": {},
   "outputs": [
    {
     "data": {
      "text/plain": [
       "'개월 전'"
      ]
     },
     "execution_count": 24,
     "metadata": {},
     "output_type": "execute_result"
    }
   ],
   "source": [
    "'0개월 전'[-4:]"
   ]
  },
  {
   "cell_type": "code",
   "execution_count": 25,
   "metadata": {},
   "outputs": [],
   "source": [
    "ddd['time2'] =temp"
   ]
  },
  {
   "cell_type": "code",
   "execution_count": 34,
   "metadata": {},
   "outputs": [
    {
     "data": {
      "text/plain": [
       "Text(0.5, 1.0, 'trend')"
      ]
     },
     "execution_count": 34,
     "metadata": {},
     "output_type": "execute_result"
    },
    {
     "data": {
      "image/png": "[encoded data removed]",
      "text/plain": [
       "<Figure size 432x288 with 1 Axes>"
      ]
     },
     "metadata": {
      "needs_background": "light"
     },
     "output_type": "display_data"
    }
   ],
   "source": [
    "fig,ax = plt.subplots()\n",
    "sns.boxplot(x = ddd['time2'], y= ddd['count'],ax=ax)\n",
    "ax.set_yscale('log')\n",
    "ax.tick_params (axis = 'x', labelrotation =90)\n",
    "ax.set_xlabel('time',fontdict = {\"fontsize\":12})\n",
    "ax.set_ylabel('comments by one user',fontdict = {\"fontsize\":12})\n",
    "ax.set_title('trend',fontdict = {\"fontsize\":18})\n",
    "# plt.savefig('box_year.png',bbox_inches='tight', dpi=300)\n"
   ]
  },
  {
   "cell_type": "code",
   "execution_count": 121,
   "metadata": {},
   "outputs": [
    {
     "data": {
      "text/plain": [
       "2.0"
      ]
     },
     "execution_count": 121,
     "metadata": {},
     "output_type": "execute_result"
    }
   ],
   "source": [
    "ddd[ddd['time'] == '1년 전']['count'].median()"
   ]
  },
  {
   "cell_type": "code",
   "execution_count": null,
   "metadata": {},
   "outputs": [],
   "source": []
  }
 ],
 "metadata": {
  "kernelspec": {
   "display_name": "Python 3",
   "language": "python",
   "name": "python3"
  },
  "language_info": {
   "codemirror_mode": {
    "name": "ipython",
    "version": 3
   },
   "file_extension": ".py",
   "mimetype": "text/x-python",
   "name": "python",
   "nbconvert_exporter": "python",
   "pygments_lexer": "ipython3",
   "version": "3.8.5"
  }
 },
 "nbformat": 4,
 "nbformat_minor": 4
}
