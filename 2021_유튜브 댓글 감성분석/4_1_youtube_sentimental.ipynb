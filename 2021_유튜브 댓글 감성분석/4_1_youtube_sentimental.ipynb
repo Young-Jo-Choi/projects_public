{
 "cells": [
  {
   "cell_type": "code",
   "execution_count": 1,
   "metadata": {},
   "outputs": [],
   "source": [
    "import numpy as np\n",
    "import pandas as pd\n",
    "import pickle\n",
    "import matplotlib.pyplot as plt\n",
    "%matplotlib inline"
   ]
  },
  {
   "cell_type": "code",
   "execution_count": 2,
   "metadata": {},
   "outputs": [],
   "source": [
    "import warnings\n",
    "warnings.filterwarnings('ignore')"
   ]
  },
  {
   "cell_type": "code",
   "execution_count": 3,
   "metadata": {},
   "outputs": [],
   "source": [
    "df = pd.read_excel('kat2C81.xlsx')\n",
    "df.columns = ['comment','label']"
   ]
  },
  {
   "cell_type": "code",
   "execution_count": 4,
   "metadata": {},
   "outputs": [
    {
     "data": {
      "text/html": [
       "<div>\n",
       "<style scoped>\n",
       "    .dataframe tbody tr th:only-of-type {\n",
       "        vertical-align: middle;\n",
       "    }\n",
       "\n",
       "    .dataframe tbody tr th {\n",
       "        vertical-align: top;\n",
       "    }\n",
       "\n",
       "    .dataframe thead th {\n",
       "        text-align: right;\n",
       "    }\n",
       "</style>\n",
       "<table border=\"1\" class=\"dataframe\">\n",
       "  <thead>\n",
       "    <tr style=\"text-align: right;\">\n",
       "      <th></th>\n",
       "      <th>comment</th>\n",
       "      <th>label</th>\n",
       "    </tr>\n",
       "  </thead>\n",
       "  <tbody>\n",
       "    <tr>\n",
       "      <th>0</th>\n",
       "      <td>볼스카야에 로봇 퍼시픽림 베낀듯</td>\n",
       "      <td>0</td>\n",
       "    </tr>\n",
       "    <tr>\n",
       "      <th>1</th>\n",
       "      <td>도란 도란 관전모드</td>\n",
       "      <td>0</td>\n",
       "    </tr>\n",
       "    <tr>\n",
       "      <th>2</th>\n",
       "      <td>이거 아누비스 피라미드에 맥크리와 트레이서 그리고 트레이서와 디바 알맹이가 신문에 ...</td>\n",
       "      <td>1</td>\n",
       "    </tr>\n",
       "    <tr>\n",
       "      <th>3</th>\n",
       "      <td>아 이미했구나</td>\n",
       "      <td>0</td>\n",
       "    </tr>\n",
       "    <tr>\n",
       "      <th>4</th>\n",
       "      <td>땅밑으로들어갔다고나오면됬어요</td>\n",
       "      <td>0</td>\n",
       "    </tr>\n",
       "    <tr>\n",
       "      <th>...</th>\n",
       "      <td>...</td>\n",
       "      <td>...</td>\n",
       "    </tr>\n",
       "    <tr>\n",
       "      <th>15128</th>\n",
       "      <td>형이 정말 즐길때느낌이아니야 흙</td>\n",
       "      <td>1</td>\n",
       "    </tr>\n",
       "    <tr>\n",
       "      <th>15129</th>\n",
       "      <td>형 텐션뭐야</td>\n",
       "      <td>1</td>\n",
       "    </tr>\n",
       "    <tr>\n",
       "      <th>15130</th>\n",
       "      <td>얼마면 형을 살 수 있는 걸까</td>\n",
       "      <td>1</td>\n",
       "    </tr>\n",
       "    <tr>\n",
       "      <th>15131</th>\n",
       "      <td>다시생각나서 깔았는데 꿀잼 ㅋㅋ루꿀꿀</td>\n",
       "      <td>1</td>\n",
       "    </tr>\n",
       "    <tr>\n",
       "      <th>15132</th>\n",
       "      <td>광고의 효과는 굉장했다</td>\n",
       "      <td>1</td>\n",
       "    </tr>\n",
       "  </tbody>\n",
       "</table>\n",
       "<p>15133 rows × 2 columns</p>\n",
       "</div>"
      ],
      "text/plain": [
       "                                                 comment  label\n",
       "0                                      볼스카야에 로봇 퍼시픽림 베낀듯      0\n",
       "1                                             도란 도란 관전모드      0\n",
       "2      이거 아누비스 피라미드에 맥크리와 트레이서 그리고 트레이서와 디바 알맹이가 신문에 ...      1\n",
       "3                                                아 이미했구나      0\n",
       "4                                        땅밑으로들어갔다고나오면됬어요      0\n",
       "...                                                  ...    ...\n",
       "15128                                 형이 정말 즐길때느낌이아니야 흙       1\n",
       "15129                                            형 텐션뭐야       1\n",
       "15130                                  얼마면 형을 살 수 있는 걸까       1\n",
       "15131                               다시생각나서 깔았는데 꿀잼 ㅋㅋ루꿀꿀      1\n",
       "15132                                      광고의 효과는 굉장했다       1\n",
       "\n",
       "[15133 rows x 2 columns]"
      ]
     },
     "execution_count": 4,
     "metadata": {},
     "output_type": "execute_result"
    }
   ],
   "source": [
    "df = df.dropna()\n",
    "df['label'] = df['label'].astype(int)\n",
    "df.reset_index(drop=True)"
   ]
  },
  {
   "cell_type": "code",
   "execution_count": 5,
   "metadata": {},
   "outputs": [
    {
     "data": {
      "image/png": "[encoded data removed]",
      "text/plain": [
       "<Figure size 432x288 with 1 Axes>"
      ]
     },
     "metadata": {
      "needs_background": "light"
     },
     "output_type": "display_data"
    }
   ],
   "source": [
    "df['label'].value_counts().plot(kind='bar')\n",
    "plt.xticks([1,0],labels=['negative','positive'],rotation=0)\n",
    "plt.title('training set',fontsize=16)\n",
    "plt.savefig('training.png',bbox_inches='tight', dpi=300)"
   ]
  },
  {
   "cell_type": "code",
   "execution_count": 6,
   "metadata": {},
   "outputs": [
    {
     "data": {
      "text/plain": [
       "1    7743\n",
       "0    7390\n",
       "Name: label, dtype: int64"
      ]
     },
     "execution_count": 6,
     "metadata": {},
     "output_type": "execute_result"
    }
   ],
   "source": [
    "df['label'].value_counts()"
   ]
  },
  {
   "cell_type": "code",
   "execution_count": 7,
   "metadata": {},
   "outputs": [],
   "source": [
    "# from sklearn.model_selection import train_test_split\n",
    "# X_train, X_test, y_train, y_test = train_test_split(df['comment'],df['label'],test_size=0.3)"
   ]
  },
  {
   "cell_type": "code",
   "execution_count": 11,
   "metadata": {},
   "outputs": [],
   "source": [
    "X_train = df['comment']\n",
    "y_train = df['label']"
   ]
  },
  {
   "cell_type": "code",
   "execution_count": 12,
   "metadata": {},
   "outputs": [],
   "source": [
    "# 한글만을 댓글에 남기기 위해 사용한 정규표현식\n",
    "import re                                           \n",
    "X_train = X_train.apply(lambda x:re.sub(r'[^ ㄱ-ㅣ가-힣]+',\" \",x))"
   ]
  },
  {
   "cell_type": "code",
   "execution_count": 13,
   "metadata": {},
   "outputs": [],
   "source": [
    "from konlpy.tag import Okt\n",
    "okt = Okt()"
   ]
  },
  {
   "cell_type": "code",
   "execution_count": 14,
   "metadata": {},
   "outputs": [],
   "source": [
    "def okt_tokenizer(text):\n",
    "    # 형태소 단위로 토큰화 작업\n",
    "    tokens = okt.morphs(text)\n",
    "    return tokens"
   ]
  },
  {
   "cell_type": "code",
   "execution_count": 15,
   "metadata": {},
   "outputs": [],
   "source": [
    "from sklearn.feature_extraction.text import TfidfVectorizer\n",
    "\n",
    "# 토큰 생성기는 정의한 함수, 토큰의 단어 크기는 1~2개 단어, 토큰의 출현 빈도가 최소 3번 이상이고 최대 90% 이하인 것들 사용\n",
    "tfidf = TfidfVectorizer(tokenizer=okt_tokenizer, ngram_range=(1,2), min_df=3, max_df=0.9)\n",
    "tfidf.fit(X_train)\n",
    "tfidf_train = tfidf.transform(X_train)"
   ]
  },
  {
   "cell_type": "code",
   "execution_count": 25,
   "metadata": {},
   "outputs": [
    {
     "data": {
      "text/plain": [
       "['tfidf.pkl']"
      ]
     },
     "execution_count": 25,
     "metadata": {},
     "output_type": "execute_result"
    }
   ],
   "source": [
    "# import joblib\n",
    "\n",
    "# joblib.dump(tfidf, 'tfidf.pkl')"
   ]
  },
  {
   "cell_type": "markdown",
   "metadata": {},
   "source": [
    "# 감성분류 모델 구축"
   ]
  },
  {
   "cell_type": "code",
   "execution_count": 16,
   "metadata": {},
   "outputs": [
    {
     "data": {
      "text/plain": [
       "LogisticRegression(random_state=0)"
      ]
     },
     "execution_count": 16,
     "metadata": {},
     "output_type": "execute_result"
    }
   ],
   "source": [
    "from sklearn.linear_model import LogisticRegression\n",
    "SA_lr = LogisticRegression(random_state=0)\n",
    "SA_lr.fit(tfidf_train,y_train)"
   ]
  },
  {
   "cell_type": "code",
   "execution_count": 20,
   "metadata": {},
   "outputs": [
    {
     "name": "stdout",
     "output_type": "stream",
     "text": [
      "Fitting 3 folds for each of 7 candidates, totalling 21 fits\n"
     ]
    },
    {
     "name": "stderr",
     "output_type": "stream",
     "text": [
      "[Parallel(n_jobs=-1)]: Using backend LokyBackend with 16 concurrent workers.\n",
      "[Parallel(n_jobs=-1)]: Done  12 out of  21 | elapsed:    2.4s remaining:    1.8s\n",
      "[Parallel(n_jobs=-1)]: Done  21 out of  21 | elapsed:    2.6s finished\n"
     ]
    },
    {
     "data": {
      "text/plain": [
       "GridSearchCV(cv=3, estimator=LogisticRegression(random_state=0), n_jobs=-1,\n",
       "             param_grid={'C': [1, 2, 3, 3.5, 4, 4.5, 5]}, scoring='accuracy',\n",
       "             verbose=1)"
      ]
     },
     "execution_count": 20,
     "metadata": {},
     "output_type": "execute_result"
    }
   ],
   "source": [
    "from sklearn.model_selection import GridSearchCV\n",
    "\n",
    "params = {\"C\":[1, 2, 3, 3.5, 4, 4.5, 5]}\n",
    "SA_lr_grid_cv = GridSearchCV(SA_lr,param_grid=params, cv = 3, scoring='accuracy',verbose=1,n_jobs=-1)\n",
    "SA_lr_grid_cv.fit(tfidf_train,y_train)"
   ]
  },
  {
   "cell_type": "code",
   "execution_count": 21,
   "metadata": {},
   "outputs": [],
   "source": [
    "lr_result = pd.DataFrame(SA_lr_grid_cv.cv_results_)"
   ]
  },
  {
   "cell_type": "code",
   "execution_count": 22,
   "metadata": {},
   "outputs": [
    {
     "data": {
      "text/html": [
       "<div>\n",
       "<style scoped>\n",
       "    .dataframe tbody tr th:only-of-type {\n",
       "        vertical-align: middle;\n",
       "    }\n",
       "\n",
       "    .dataframe tbody tr th {\n",
       "        vertical-align: top;\n",
       "    }\n",
       "\n",
       "    .dataframe thead th {\n",
       "        text-align: right;\n",
       "    }\n",
       "</style>\n",
       "<table border=\"1\" class=\"dataframe\">\n",
       "  <thead>\n",
       "    <tr style=\"text-align: right;\">\n",
       "      <th></th>\n",
       "      <th>mean_fit_time</th>\n",
       "      <th>std_fit_time</th>\n",
       "      <th>mean_score_time</th>\n",
       "      <th>std_score_time</th>\n",
       "      <th>param_C</th>\n",
       "      <th>params</th>\n",
       "      <th>split0_test_score</th>\n",
       "      <th>split1_test_score</th>\n",
       "      <th>split2_test_score</th>\n",
       "      <th>mean_test_score</th>\n",
       "      <th>std_test_score</th>\n",
       "      <th>rank_test_score</th>\n",
       "    </tr>\n",
       "  </thead>\n",
       "  <tbody>\n",
       "    <tr>\n",
       "      <th>0</th>\n",
       "      <td>0.265875</td>\n",
       "      <td>0.040647</td>\n",
       "      <td>0.001662</td>\n",
       "      <td>0.000470</td>\n",
       "      <td>1</td>\n",
       "      <td>{'C': 1}</td>\n",
       "      <td>0.750842</td>\n",
       "      <td>0.770222</td>\n",
       "      <td>0.776963</td>\n",
       "      <td>0.766009</td>\n",
       "      <td>0.011072</td>\n",
       "      <td>1</td>\n",
       "    </tr>\n",
       "    <tr>\n",
       "      <th>1</th>\n",
       "      <td>0.465602</td>\n",
       "      <td>0.033286</td>\n",
       "      <td>0.003343</td>\n",
       "      <td>0.003416</td>\n",
       "      <td>2</td>\n",
       "      <td>{'C': 2}</td>\n",
       "      <td>0.752825</td>\n",
       "      <td>0.769429</td>\n",
       "      <td>0.772006</td>\n",
       "      <td>0.764753</td>\n",
       "      <td>0.008500</td>\n",
       "      <td>2</td>\n",
       "    </tr>\n",
       "    <tr>\n",
       "      <th>2</th>\n",
       "      <td>0.475453</td>\n",
       "      <td>0.072191</td>\n",
       "      <td>0.000998</td>\n",
       "      <td>0.000815</td>\n",
       "      <td>3</td>\n",
       "      <td>{'C': 3}</td>\n",
       "      <td>0.748662</td>\n",
       "      <td>0.768636</td>\n",
       "      <td>0.767645</td>\n",
       "      <td>0.761648</td>\n",
       "      <td>0.009191</td>\n",
       "      <td>3</td>\n",
       "    </tr>\n",
       "    <tr>\n",
       "      <th>3</th>\n",
       "      <td>0.502368</td>\n",
       "      <td>0.062439</td>\n",
       "      <td>0.000332</td>\n",
       "      <td>0.000470</td>\n",
       "      <td>3.5</td>\n",
       "      <td>{'C': 3.5}</td>\n",
       "      <td>0.747473</td>\n",
       "      <td>0.765860</td>\n",
       "      <td>0.766059</td>\n",
       "      <td>0.759797</td>\n",
       "      <td>0.008715</td>\n",
       "      <td>4</td>\n",
       "    </tr>\n",
       "    <tr>\n",
       "      <th>4</th>\n",
       "      <td>0.459551</td>\n",
       "      <td>0.060379</td>\n",
       "      <td>0.003689</td>\n",
       "      <td>0.003101</td>\n",
       "      <td>4</td>\n",
       "      <td>{'C': 4}</td>\n",
       "      <td>0.747671</td>\n",
       "      <td>0.762887</td>\n",
       "      <td>0.764076</td>\n",
       "      <td>0.758211</td>\n",
       "      <td>0.007469</td>\n",
       "      <td>5</td>\n",
       "    </tr>\n",
       "    <tr>\n",
       "      <th>5</th>\n",
       "      <td>0.322522</td>\n",
       "      <td>0.097090</td>\n",
       "      <td>0.003018</td>\n",
       "      <td>0.003584</td>\n",
       "      <td>4.5</td>\n",
       "      <td>{'C': 4.5}</td>\n",
       "      <td>0.746680</td>\n",
       "      <td>0.762688</td>\n",
       "      <td>0.761697</td>\n",
       "      <td>0.757022</td>\n",
       "      <td>0.007324</td>\n",
       "      <td>6</td>\n",
       "    </tr>\n",
       "    <tr>\n",
       "      <th>6</th>\n",
       "      <td>0.171025</td>\n",
       "      <td>0.037192</td>\n",
       "      <td>0.000670</td>\n",
       "      <td>0.000947</td>\n",
       "      <td>5</td>\n",
       "      <td>{'C': 5}</td>\n",
       "      <td>0.746085</td>\n",
       "      <td>0.761301</td>\n",
       "      <td>0.760111</td>\n",
       "      <td>0.755832</td>\n",
       "      <td>0.006909</td>\n",
       "      <td>7</td>\n",
       "    </tr>\n",
       "  </tbody>\n",
       "</table>\n",
       "</div>"
      ],
      "text/plain": [
       "   mean_fit_time  std_fit_time  mean_score_time  std_score_time param_C  \\\n",
       "0       0.265875      0.040647         0.001662        0.000470       1   \n",
       "1       0.465602      0.033286         0.003343        0.003416       2   \n",
       "2       0.475453      0.072191         0.000998        0.000815       3   \n",
       "3       0.502368      0.062439         0.000332        0.000470     3.5   \n",
       "4       0.459551      0.060379         0.003689        0.003101       4   \n",
       "5       0.322522      0.097090         0.003018        0.003584     4.5   \n",
       "6       0.171025      0.037192         0.000670        0.000947       5   \n",
       "\n",
       "       params  split0_test_score  split1_test_score  split2_test_score  \\\n",
       "0    {'C': 1}           0.750842           0.770222           0.776963   \n",
       "1    {'C': 2}           0.752825           0.769429           0.772006   \n",
       "2    {'C': 3}           0.748662           0.768636           0.767645   \n",
       "3  {'C': 3.5}           0.747473           0.765860           0.766059   \n",
       "4    {'C': 4}           0.747671           0.762887           0.764076   \n",
       "5  {'C': 4.5}           0.746680           0.762688           0.761697   \n",
       "6    {'C': 5}           0.746085           0.761301           0.760111   \n",
       "\n",
       "   mean_test_score  std_test_score  rank_test_score  \n",
       "0         0.766009        0.011072                1  \n",
       "1         0.764753        0.008500                2  \n",
       "2         0.761648        0.009191                3  \n",
       "3         0.759797        0.008715                4  \n",
       "4         0.758211        0.007469                5  \n",
       "5         0.757022        0.007324                6  \n",
       "6         0.755832        0.006909                7  "
      ]
     },
     "execution_count": 22,
     "metadata": {},
     "output_type": "execute_result"
    }
   ],
   "source": [
    "lr_result"
   ]
  },
  {
   "cell_type": "code",
   "execution_count": 25,
   "metadata": {},
   "outputs": [
    {
     "data": {
      "text/plain": [
       "0.7668680658110838"
      ]
     },
     "execution_count": 25,
     "metadata": {},
     "output_type": "execute_result"
    }
   ],
   "source": [
    "SA_lr_grid_cv.best_score_"
   ]
  },
  {
   "cell_type": "markdown",
   "metadata": {},
   "source": [
    "train+test를 모두 학습에 이용"
   ]
  },
  {
   "cell_type": "code",
   "execution_count": 21,
   "metadata": {},
   "outputs": [
    {
     "data": {
      "text/plain": [
       "LogisticRegression(random_state=0)"
      ]
     },
     "execution_count": 21,
     "metadata": {},
     "output_type": "execute_result"
    }
   ],
   "source": [
    "X = df['comment']\n",
    "y = df['label']\n",
    "tfidf.fit(X)\n",
    "tfidf_all = tfidf.transform(X)\n",
    "SA_lr_all = LogisticRegression(random_state=0)\n",
    "SA_lr_all.fit(tfidf_all,y)"
   ]
  },
  {
   "cell_type": "code",
   "execution_count": null,
   "metadata": {},
   "outputs": [],
   "source": []
  },
  {
   "cell_type": "code",
   "execution_count": 2,
   "metadata": {},
   "outputs": [],
   "source": [
    "import re\n",
    "def emotion_predict(sentence):\n",
    "    st = re.compile(r'[ㄱ-ㅣ가-힣]+').findall(sentence)\n",
    "    st = [\" \".join(st)]\n",
    "    st_tfidf = tfidf.transform(st)\n",
    "    st_predict = SA_lr_all.predict(st_tfidf)\n",
    "    proba = SA_lr_all.predict_proba(st_tfidf)\n",
    "    if st_predict == 0:\n",
    "        print('{}  ->  부정, {}'.format(sentence,proba[0][0]))\n",
    "    else:\n",
    "        print('{}  ->  긍정, {}'.format(sentence,proba[0][1]))"
   ]
  },
  {
   "cell_type": "code",
   "execution_count": 4,
   "metadata": {},
   "outputs": [],
   "source": [
    "def emotion_predict(sentence):\n",
    "    st = re.compile(r'[ㄱ-ㅣ가-힣]+').findall(sentence)\n",
    "    st = [\" \".join(st)]\n",
    "    st_tfidf = tfidf.transform(st)\n",
    "    st_predict = clf.predict(st_tfidf)\n",
    "    proba = clf.predict_proba(st_tfidf)\n",
    "    if st_predict == 0:\n",
    "        print('{}  ->  부정, {}'.format(sentence,proba[0][0]))\n",
    "    else:\n",
    "        print('{}  ->  긍정, {}'.format(sentence,proba[0][1]))"
   ]
  },
  {
   "cell_type": "code",
   "execution_count": 8,
   "metadata": {},
   "outputs": [
    {
     "name": "stdout",
     "output_type": "stream",
     "text": [
      "아 빨리 자야하는데ㅠㅠㅠㅠㅠ  ->  긍정, 0.8354397540743079\n",
      "오타쿠  ->  부정, 0.5884023954470563\n",
      "개미쳤네ㅋㅋ  ->  긍정, 0.9956057725589282\n",
      "노잼  ->  부정, 0.875307767677531\n",
      "영상편집 뭐같이 하네  ->  부정, 0.8147066859949833\n",
      "대박 재밌어요  ->  긍정, 0.511165485026415\n",
      "이게 재밌냐?  ->  부정, 0.6786847514694185\n",
      "왁물원ㅋㅋ  ->  긍정, 0.7552098247553755\n",
      "꿀잼  ->  긍정, 0.8577958641236386\n",
      "ㅆㅅㅌㅊ  ->  부정, 0.6801510340888705\n",
      "아차차  ->  부정, 0.8272933192943654\n"
     ]
    }
   ],
   "source": [
    "sentences = ['아 빨리 자야하는데ㅠㅠㅠㅠㅠ','오타쿠','개미쳤네ㅋㅋ','노잼','영상편집 뭐같이 하네','대박 재밌어요',\n",
    "           '이게 재밌냐?','왁물원ㅋㅋ','꿀잼','ㅆㅅㅌㅊ','아차차']\n",
    "for sentence in sentences:\n",
    "    emotion_predict(sentence)"
   ]
  },
  {
   "cell_type": "code",
   "execution_count": 27,
   "metadata": {},
   "outputs": [
    {
     "data": {
      "text/plain": [
       "['SA_lr.pkl']"
      ]
     },
     "execution_count": 27,
     "metadata": {},
     "output_type": "execute_result"
    }
   ],
   "source": [
    "# 모델 저장\n",
    "import joblib\n",
    "\n",
    "joblib.dump(SA_lr_all, 'SA_lr.pkl')"
   ]
  },
  {
   "cell_type": "code",
   "execution_count": 28,
   "metadata": {},
   "outputs": [],
   "source": [
    "# 모델 load\n",
    "clf = joblib.load('SA_lr.pkl')"
   ]
  },
  {
   "cell_type": "markdown",
   "metadata": {},
   "source": [
    "youtube api로 저장한 데이터프레임에 예측 --> 영상에 대한 호불호 판단<br>\n",
    "시간대별 좋아요, 대댓수 --> 이것을 plot으로 그리되 해당 댓글을 호불호 판단해 긍/부정 색깔 입히기(between)<br>\n",
    "전체 영상별 호불호 추이(영상에는 업로드 날짜가 있음)\n",
    "\n",
    "# 훈련 이후"
   ]
  },
  {
   "cell_type": "code",
   "execution_count": 1,
   "metadata": {},
   "outputs": [],
   "source": [
    "import joblib\n",
    "from konlpy.tag import Okt\n",
    "import re\n",
    "from sklearn.feature_extraction.text import TfidfVectorizer\n",
    "okt = Okt()\n",
    "def okt_tokenizer(text):\n",
    "    # 형태소 단위로 토큰화 작업\n",
    "    tokens = okt.morphs(text)\n",
    "    return tokens\n",
    "\n",
    "\n",
    "tfidf = joblib.load('tfidf.pkl')\n",
    "clf = joblib.load('SA_lr.pkl')"
   ]
  },
  {
   "cell_type": "code",
   "execution_count": 33,
   "metadata": {},
   "outputs": [],
   "source": [
    "def find_time(strings):\n",
    "    idx_start = strings.find('\">')+2\n",
    "    idx_end = strings.find('</a')\n",
    "    if idx_start==1:\n",
    "        return \n",
    "    else:\n",
    "        time_string = strings[idx_start:idx_end]\n",
    "        if 'http' not in time_string:\n",
    "            return time_string\n",
    "        else:\n",
    "            return\n",
    "def split_time_hour(x):\n",
    "    if len(x.split(':'))==3:\n",
    "        return x.split(':')[-3]\n",
    "    else:\n",
    "        return 0\n",
    "def split_time_minute(x):\n",
    "    return x.split(':')[-2]\n",
    "def split_time_second(x):\n",
    "    return x.split(':')[-1]\n",
    "\n",
    "def transform_from_time(x):\n",
    "    # 분:초로 구성\n",
    "    hour = int(split_time_hour(x))\n",
    "    minute = int(split_time_minute(x))\n",
    "    second = int(split_time_second(x))\n",
    "    return hour*3600+minute*60+second\n",
    "\n",
    "def transform_to_time(x):\n",
    "    minute = str(x//60)\n",
    "    second = str(x%60)\n",
    "    strings = '{}:{}'.format(minute,second.zfill(2))\n",
    "    return strings\n",
    "\n",
    "def plot_freq(grouped):\n",
    "    grouped_input = grouped.copy()\n",
    "    grouped_input['주목_시간'] = grouped_input['주목_시간'].map(transform_from_time)\n",
    "    grouped_input['합'] = grouped_input['좋아요']+grouped_input['답글수']\n",
    "    \n",
    "    # 10초 단위로 합산해서 표현\n",
    "    end_time = grouped_input['주목_시간'].iloc[-1]\n",
    "    intervals = range(0,end_time+1,10)\n",
    "    grouped_input['구간'] = pd.Categorical(pd.cut(grouped_input['주목_시간'],bins = intervals)).codes\n",
    "    func_dict = {'주목_시간':'mean','합':'sum'}\n",
    "    grouped_temp = grouped_input.groupby('구간').agg(func_dict)\n",
    "    grouped_temp['주목_시간'] = grouped_temp['주목_시간'].round(0).astype(int)\n",
    "    grouped_temp = grouped_temp.sort_values(by=['주목_시간'])\n",
    "    \n",
    "    x = grouped_temp['주목_시간'].tolist()\n",
    "    y = grouped_temp['합'].tolist()\n",
    "    plt.plot(x,y)\n",
    "    if len(x)>15:\n",
    "        show_interval = len(x)//15\n",
    "    else:\n",
    "        show_interval = 1\n",
    "    plt.xticks(x[::show_interval],labels = pd.Series(x).map(transform_to_time).tolist()[::show_interval],rotation='90')\n",
    "    \n",
    "    \n",
    "\n",
    "def generate_comment_df(video_id,api_key):\n",
    "    # 대댓글은 포함되지 않는다.\n",
    "    api_obj = build('youtube', 'v3', developerKey=api_key)\n",
    "\n",
    "    comments = list()\n",
    "    response = api_obj.commentThreads().list(part='snippet,replies', videoId=video_id, maxResults=100).execute()\n",
    "        \n",
    "    while response:\n",
    "        for item in response['items']:\n",
    "            comment = item['snippet']['topLevelComment']['snippet']\n",
    "            replycount = item['snippet']['totalReplyCount']\n",
    "            comments.append([comment['authorDisplayName'], comment['publishedAt'], comment['likeCount'],replycount,comment['textDisplay']])\n",
    " \n",
    "        if 'nextPageToken' in response:\n",
    "            # 그다음 페이지 100개씩 받아옴\n",
    "            response = api_obj.commentThreads().list(part='snippet,replies', videoId=video_id, pageToken=response['nextPageToken'], maxResults=100).execute()\n",
    "        else:\n",
    "            break\n",
    "    df = pd.DataFrame(comments,columns = ['작성자','작성일시','좋아요','답글수','내용'])\n",
    "        \n",
    "    df['주목_시간'] = df['내용'].map(find_time)\n",
    "    grouped = df.groupby('주목_시간').sum()[['좋아요','답글수']]\n",
    "    if grouped.index[0] == '':\n",
    "        grouped = grouped.drop(labels = '')            \n",
    "    grouped_temp = grouped.reset_index()\n",
    "\n",
    "    grouped_temp['분'] = grouped_temp['주목_시간'].map(split_time_minute).astype(int)\n",
    "    grouped_temp['분'] += grouped_temp['주목_시간'].map(split_time_hour).astype(int)*60\n",
    "    grouped_temp['초'] = grouped_temp['주목_시간'].map(split_time_second).astype(int)\n",
    "    grouped_temp.sort_values(['분','초'],inplace=True)\n",
    "    grouped_temp['주목_시간'] = grouped_temp['분'].astype('str')+':'+grouped_temp['초'].astype('str')\n",
    "    grouped_temp.reset_index(drop=True,inplace=True)\n",
    "    grouped_temp.drop(['분','초'],axis=1,inplace=True)\n",
    "    return grouped_temp, df"
   ]
  },
  {
   "cell_type": "code",
   "execution_count": 34,
   "metadata": {},
   "outputs": [],
   "source": [
    "import pickle\n",
    "with open('result0428.p','rb') as file:\n",
    "    data = pickle.load(file)"
   ]
  },
  {
   "cell_type": "code",
   "execution_count": 35,
   "metadata": {},
   "outputs": [
    {
     "data": {
      "text/plain": [
       "dict_keys(['우왁굳', '침착맨'])"
      ]
     },
     "execution_count": 35,
     "metadata": {},
     "output_type": "execute_result"
    }
   ],
   "source": [
    "data.keys()"
   ]
  },
  {
   "cell_type": "code",
   "execution_count": 36,
   "metadata": {},
   "outputs": [
    {
     "data": {
      "text/plain": [
       "dict_keys(['BSE9_bVYzhw', 'wiB8GFFDxu8', 'qpnXAE5dxQY'])"
      ]
     },
     "execution_count": 36,
     "metadata": {},
     "output_type": "execute_result"
    }
   ],
   "source": [
    "data['우왁굳'].keys()"
   ]
  },
  {
   "cell_type": "code",
   "execution_count": 37,
   "metadata": {},
   "outputs": [
    {
     "data": {
      "text/html": [
       "<div>\n",
       "<style scoped>\n",
       "    .dataframe tbody tr th:only-of-type {\n",
       "        vertical-align: middle;\n",
       "    }\n",
       "\n",
       "    .dataframe tbody tr th {\n",
       "        vertical-align: top;\n",
       "    }\n",
       "\n",
       "    .dataframe thead th {\n",
       "        text-align: right;\n",
       "    }\n",
       "</style>\n",
       "<table border=\"1\" class=\"dataframe\">\n",
       "  <thead>\n",
       "    <tr style=\"text-align: right;\">\n",
       "      <th></th>\n",
       "      <th>작성자</th>\n",
       "      <th>작성일시</th>\n",
       "      <th>좋아요</th>\n",
       "      <th>답글수</th>\n",
       "      <th>내용</th>\n",
       "      <th>주목_시간</th>\n",
       "    </tr>\n",
       "  </thead>\n",
       "  <tbody>\n",
       "    <tr>\n",
       "      <th>0</th>\n",
       "      <td>우왁굳의 게임방송</td>\n",
       "      <td>2021-04-04T17:07:19Z</td>\n",
       "      <td>977</td>\n",
       "      <td>26</td>\n",
       "      <td>웨딩샵 디스하는 내용은 아닙니다 ㅎㅎ 초보 예비부부라서 당황할 수 있는 내용의 공감...</td>\n",
       "      <td>None</td>\n",
       "    </tr>\n",
       "    <tr>\n",
       "      <th>1</th>\n",
       "      <td>권태욱</td>\n",
       "      <td>2021-04-27T03:26:36Z</td>\n",
       "      <td>0</td>\n",
       "      <td>0</td>\n",
       "      <td>기존나셈 : 왁귣&lt;br /&gt;유리멘탈 :빛젤</td>\n",
       "      <td>None</td>\n",
       "    </tr>\n",
       "    <tr>\n",
       "      <th>2</th>\n",
       "      <td>강도깨비</td>\n",
       "      <td>2021-04-25T02:47:38Z</td>\n",
       "      <td>0</td>\n",
       "      <td>0</td>\n",
       "      <td>솔직히 왁형 말만 들으면 드레스 ㅈㄴ 비싼거네</td>\n",
       "      <td>None</td>\n",
       "    </tr>\n",
       "    <tr>\n",
       "      <th>3</th>\n",
       "      <td>보충제에 밥말아먹기</td>\n",
       "      <td>2021-04-23T21:55:11Z</td>\n",
       "      <td>1</td>\n",
       "      <td>0</td>\n",
       "      <td>역시 예식장 중에 양꼬치들 개 많네 ㅋㅋㅋㅋㅋ망해라</td>\n",
       "      <td>None</td>\n",
       "    </tr>\n",
       "    <tr>\n",
       "      <th>4</th>\n",
       "      <td>잉</td>\n",
       "      <td>2021-04-23T07:47:40Z</td>\n",
       "      <td>0</td>\n",
       "      <td>0</td>\n",
       "      <td>ㄹㅇ 편집하는 사람 개천재 아니냐&lt;br /&gt;그냥 앉자서 노가리 까는걸 이렇게 이해 ...</td>\n",
       "      <td>None</td>\n",
       "    </tr>\n",
       "  </tbody>\n",
       "</table>\n",
       "</div>"
      ],
      "text/plain": [
       "          작성자                  작성일시  좋아요  답글수  \\\n",
       "0   우왁굳의 게임방송  2021-04-04T17:07:19Z  977   26   \n",
       "1         권태욱  2021-04-27T03:26:36Z    0    0   \n",
       "2        강도깨비  2021-04-25T02:47:38Z    0    0   \n",
       "3  보충제에 밥말아먹기  2021-04-23T21:55:11Z    1    0   \n",
       "4           잉  2021-04-23T07:47:40Z    0    0   \n",
       "\n",
       "                                                  내용 주목_시간  \n",
       "0  웨딩샵 디스하는 내용은 아닙니다 ㅎㅎ 초보 예비부부라서 당황할 수 있는 내용의 공감...  None  \n",
       "1                            기존나셈 : 왁귣<br />유리멘탈 :빛젤  None  \n",
       "2                          솔직히 왁형 말만 들으면 드레스 ㅈㄴ 비싼거네  None  \n",
       "3                       역시 예식장 중에 양꼬치들 개 많네 ㅋㅋㅋㅋㅋ망해라  None  \n",
       "4  ㄹㅇ 편집하는 사람 개천재 아니냐<br />그냥 앉자서 노가리 까는걸 이렇게 이해 ...  None  "
      ]
     },
     "execution_count": 37,
     "metadata": {},
     "output_type": "execute_result"
    }
   ],
   "source": [
    "temp_df = data['우왁굳']['BSE9_bVYzhw']['df']\n",
    "temp_df.head()"
   ]
  },
  {
   "cell_type": "code",
   "execution_count": 38,
   "metadata": {},
   "outputs": [],
   "source": [
    "# map을 안쓰고 한번에 변환할 수 있게 바꿀 것\n",
    "def emotion_predict(sentence):\n",
    "    st = re.compile(r'[ㄱ-ㅣ가-힣]+').findall(sentence)\n",
    "    st = [\" \".join(st)]\n",
    "    st_tfidf = tfidf.transform(st)\n",
    "    st_predict = clf.predict(st_tfidf)\n",
    "    decision_power = clf.decision_function(st_tfidf)\n",
    "    return decision_power[0]"
   ]
  },
  {
   "cell_type": "code",
   "execution_count": 39,
   "metadata": {},
   "outputs": [],
   "source": [
    "temp_df['pos/neg'] = temp_df['내용'].map(emotion_predict)"
   ]
  },
  {
   "cell_type": "code",
   "execution_count": 40,
   "metadata": {},
   "outputs": [
    {
     "data": {
      "text/html": [
       "<div>\n",
       "<style scoped>\n",
       "    .dataframe tbody tr th:only-of-type {\n",
       "        vertical-align: middle;\n",
       "    }\n",
       "\n",
       "    .dataframe tbody tr th {\n",
       "        vertical-align: top;\n",
       "    }\n",
       "\n",
       "    .dataframe thead th {\n",
       "        text-align: right;\n",
       "    }\n",
       "</style>\n",
       "<table border=\"1\" class=\"dataframe\">\n",
       "  <thead>\n",
       "    <tr style=\"text-align: right;\">\n",
       "      <th></th>\n",
       "      <th>작성자</th>\n",
       "      <th>작성일시</th>\n",
       "      <th>좋아요</th>\n",
       "      <th>답글수</th>\n",
       "      <th>내용</th>\n",
       "      <th>주목_시간</th>\n",
       "      <th>pos/neg</th>\n",
       "    </tr>\n",
       "  </thead>\n",
       "  <tbody>\n",
       "    <tr>\n",
       "      <th>0</th>\n",
       "      <td>우왁굳의 게임방송</td>\n",
       "      <td>2021-04-04T17:07:19Z</td>\n",
       "      <td>977</td>\n",
       "      <td>26</td>\n",
       "      <td>웨딩샵 디스하는 내용은 아닙니다 ㅎㅎ 초보 예비부부라서 당황할 수 있는 내용의 공감...</td>\n",
       "      <td>None</td>\n",
       "      <td>0.855512</td>\n",
       "    </tr>\n",
       "    <tr>\n",
       "      <th>1</th>\n",
       "      <td>권태욱</td>\n",
       "      <td>2021-04-27T03:26:36Z</td>\n",
       "      <td>0</td>\n",
       "      <td>0</td>\n",
       "      <td>기존나셈 : 왁귣&lt;br /&gt;유리멘탈 :빛젤</td>\n",
       "      <td>None</td>\n",
       "      <td>-0.757993</td>\n",
       "    </tr>\n",
       "    <tr>\n",
       "      <th>2</th>\n",
       "      <td>강도깨비</td>\n",
       "      <td>2021-04-25T02:47:38Z</td>\n",
       "      <td>0</td>\n",
       "      <td>0</td>\n",
       "      <td>솔직히 왁형 말만 들으면 드레스 ㅈㄴ 비싼거네</td>\n",
       "      <td>None</td>\n",
       "      <td>0.446540</td>\n",
       "    </tr>\n",
       "    <tr>\n",
       "      <th>3</th>\n",
       "      <td>보충제에 밥말아먹기</td>\n",
       "      <td>2021-04-23T21:55:11Z</td>\n",
       "      <td>1</td>\n",
       "      <td>0</td>\n",
       "      <td>역시 예식장 중에 양꼬치들 개 많네 ㅋㅋㅋㅋㅋ망해라</td>\n",
       "      <td>None</td>\n",
       "      <td>1.034725</td>\n",
       "    </tr>\n",
       "    <tr>\n",
       "      <th>4</th>\n",
       "      <td>잉</td>\n",
       "      <td>2021-04-23T07:47:40Z</td>\n",
       "      <td>0</td>\n",
       "      <td>0</td>\n",
       "      <td>ㄹㅇ 편집하는 사람 개천재 아니냐&lt;br /&gt;그냥 앉자서 노가리 까는걸 이렇게 이해 ...</td>\n",
       "      <td>None</td>\n",
       "      <td>1.323016</td>\n",
       "    </tr>\n",
       "  </tbody>\n",
       "</table>\n",
       "</div>"
      ],
      "text/plain": [
       "          작성자                  작성일시  좋아요  답글수  \\\n",
       "0   우왁굳의 게임방송  2021-04-04T17:07:19Z  977   26   \n",
       "1         권태욱  2021-04-27T03:26:36Z    0    0   \n",
       "2        강도깨비  2021-04-25T02:47:38Z    0    0   \n",
       "3  보충제에 밥말아먹기  2021-04-23T21:55:11Z    1    0   \n",
       "4           잉  2021-04-23T07:47:40Z    0    0   \n",
       "\n",
       "                                                  내용 주목_시간   pos/neg  \n",
       "0  웨딩샵 디스하는 내용은 아닙니다 ㅎㅎ 초보 예비부부라서 당황할 수 있는 내용의 공감...  None  0.855512  \n",
       "1                            기존나셈 : 왁귣<br />유리멘탈 :빛젤  None -0.757993  \n",
       "2                          솔직히 왁형 말만 들으면 드레스 ㅈㄴ 비싼거네  None  0.446540  \n",
       "3                       역시 예식장 중에 양꼬치들 개 많네 ㅋㅋㅋㅋㅋ망해라  None  1.034725  \n",
       "4  ㄹㅇ 편집하는 사람 개천재 아니냐<br />그냥 앉자서 노가리 까는걸 이렇게 이해 ...  None  1.323016  "
      ]
     },
     "execution_count": 40,
     "metadata": {},
     "output_type": "execute_result"
    }
   ],
   "source": [
    "temp_df.head()"
   ]
  },
  {
   "cell_type": "code",
   "execution_count": 30,
   "metadata": {},
   "outputs": [
    {
     "name": "stdout",
     "output_type": "stream",
     "text": [
      "total : 279.8133043884177\n"
     ]
    },
    {
     "data": {
      "image/png": "[encoded data removed]",
      "text/plain": [
       "<Figure size 432x288 with 1 Axes>"
      ]
     },
     "metadata": {
      "needs_background": "light"
     },
     "output_type": "display_data"
    }
   ],
   "source": [
    "temp_df['pos/neg'].hist()\n",
    "plt.title('point of decision function')\n",
    "print('total : {}'.format(np.sum(temp_df['pos/neg'])))"
   ]
  },
  {
   "cell_type": "code",
   "execution_count": 32,
   "metadata": {},
   "outputs": [
    {
     "data": {
      "text/plain": [
       "1    386\n",
       "0    353\n",
       "Name: pos/neg, dtype: int64"
      ]
     },
     "execution_count": 32,
     "metadata": {},
     "output_type": "execute_result"
    }
   ],
   "source": [
    "temp_df['pos/neg'].map(lambda x:1 if x>=0 else 0).value_counts()"
   ]
  },
  {
   "cell_type": "code",
   "execution_count": 64,
   "metadata": {},
   "outputs": [
    {
     "data": {
      "text/plain": [
       "(0.0, 450.0)"
      ]
     },
     "execution_count": 64,
     "metadata": {},
     "output_type": "execute_result"
    },
    {
     "data": {
      "image/png": "[encoded data removed]",
      "text/plain": [
       "<Figure size 432x288 with 1 Axes>"
      ]
     },
     "metadata": {
      "needs_background": "light"
     },
     "output_type": "display_data"
    }
   ],
   "source": [
    "temp_df['pos/neg'].map(lambda x:1 if x>=0 else 0).value_counts().plot(kind='bar')\n",
    "plt.text(-0.20,400,'positive',fontdict={'fontsize':16})\n",
    "plt.text(0.78,370,'negative',fontdict={'fontsize':16})\n",
    "plt.ylim([0,450])"
   ]
  },
  {
   "cell_type": "code",
   "execution_count": 72,
   "metadata": {},
   "outputs": [],
   "source": [
    "grouped = temp_df.groupby('주목_시간').sum()[['좋아요','답글수','pos/neg']]\n",
    "if grouped.index[0] == '':    \n",
    "    grouped = grouped.drop(labels = '')            \n",
    "grouped_temp = grouped.reset_index()\n",
    "\n",
    "grouped_temp['분'] = grouped_temp['주목_시간'].map(split_time_minute).astype(int)\n",
    "grouped_temp['분'] += grouped_temp['주목_시간'].map(split_time_hour).astype(int)*60\n",
    "grouped_temp['초'] = grouped_temp['주목_시간'].map(split_time_second).astype(int)\n",
    "grouped_temp.sort_values(['분','초'],inplace=True)\n",
    "grouped_temp['주목_시간'] = grouped_temp['분'].astype('str')+':'+grouped_temp['초'].astype('str')\n",
    "grouped_temp.reset_index(drop=True,inplace=True)\n",
    "grouped_temp.drop(['분','초'],axis=1,inplace=True)\n",
    "    "
   ]
  },
  {
   "cell_type": "code",
   "execution_count": 73,
   "metadata": {},
   "outputs": [
    {
     "data": {
      "text/html": [
       "<div>\n",
       "<style scoped>\n",
       "    .dataframe tbody tr th:only-of-type {\n",
       "        vertical-align: middle;\n",
       "    }\n",
       "\n",
       "    .dataframe tbody tr th {\n",
       "        vertical-align: top;\n",
       "    }\n",
       "\n",
       "    .dataframe thead th {\n",
       "        text-align: right;\n",
       "    }\n",
       "</style>\n",
       "<table border=\"1\" class=\"dataframe\">\n",
       "  <thead>\n",
       "    <tr style=\"text-align: right;\">\n",
       "      <th></th>\n",
       "      <th>주목_시간</th>\n",
       "      <th>합</th>\n",
       "      <th>pos/neg</th>\n",
       "    </tr>\n",
       "    <tr>\n",
       "      <th>구간</th>\n",
       "      <th></th>\n",
       "      <th></th>\n",
       "      <th></th>\n",
       "    </tr>\n",
       "  </thead>\n",
       "  <tbody>\n",
       "    <tr>\n",
       "      <th>0</th>\n",
       "      <td>8.500000</td>\n",
       "      <td>1</td>\n",
       "      <td>5.038383</td>\n",
       "    </tr>\n",
       "    <tr>\n",
       "      <th>4</th>\n",
       "      <td>41.000000</td>\n",
       "      <td>0</td>\n",
       "      <td>0.458618</td>\n",
       "    </tr>\n",
       "    <tr>\n",
       "      <th>7</th>\n",
       "      <td>78.000000</td>\n",
       "      <td>5</td>\n",
       "      <td>-1.741076</td>\n",
       "    </tr>\n",
       "    <tr>\n",
       "      <th>8</th>\n",
       "      <td>87.000000</td>\n",
       "      <td>170</td>\n",
       "      <td>3.916730</td>\n",
       "    </tr>\n",
       "    <tr>\n",
       "      <th>9</th>\n",
       "      <td>97.500000</td>\n",
       "      <td>2</td>\n",
       "      <td>-0.548200</td>\n",
       "    </tr>\n",
       "    <tr>\n",
       "      <th>10</th>\n",
       "      <td>103.500000</td>\n",
       "      <td>239</td>\n",
       "      <td>5.304775</td>\n",
       "    </tr>\n",
       "    <tr>\n",
       "      <th>15</th>\n",
       "      <td>152.000000</td>\n",
       "      <td>0</td>\n",
       "      <td>-0.754466</td>\n",
       "    </tr>\n",
       "    <tr>\n",
       "      <th>16</th>\n",
       "      <td>168.000000</td>\n",
       "      <td>26</td>\n",
       "      <td>-1.766920</td>\n",
       "    </tr>\n",
       "    <tr>\n",
       "      <th>23</th>\n",
       "      <td>240.000000</td>\n",
       "      <td>0</td>\n",
       "      <td>-0.754466</td>\n",
       "    </tr>\n",
       "    <tr>\n",
       "      <th>25</th>\n",
       "      <td>256.000000</td>\n",
       "      <td>0</td>\n",
       "      <td>-1.199910</td>\n",
       "    </tr>\n",
       "    <tr>\n",
       "      <th>27</th>\n",
       "      <td>277.000000</td>\n",
       "      <td>0</td>\n",
       "      <td>-0.797628</td>\n",
       "    </tr>\n",
       "    <tr>\n",
       "      <th>31</th>\n",
       "      <td>313.000000</td>\n",
       "      <td>0</td>\n",
       "      <td>0.944964</td>\n",
       "    </tr>\n",
       "    <tr>\n",
       "      <th>33</th>\n",
       "      <td>333.000000</td>\n",
       "      <td>17</td>\n",
       "      <td>3.783693</td>\n",
       "    </tr>\n",
       "    <tr>\n",
       "      <th>36</th>\n",
       "      <td>363.000000</td>\n",
       "      <td>511</td>\n",
       "      <td>-0.398604</td>\n",
       "    </tr>\n",
       "    <tr>\n",
       "      <th>38</th>\n",
       "      <td>384.000000</td>\n",
       "      <td>4</td>\n",
       "      <td>-1.995098</td>\n",
       "    </tr>\n",
       "    <tr>\n",
       "      <th>39</th>\n",
       "      <td>392.000000</td>\n",
       "      <td>66</td>\n",
       "      <td>-0.972941</td>\n",
       "    </tr>\n",
       "    <tr>\n",
       "      <th>50</th>\n",
       "      <td>506.000000</td>\n",
       "      <td>0</td>\n",
       "      <td>-1.967266</td>\n",
       "    </tr>\n",
       "    <tr>\n",
       "      <th>53</th>\n",
       "      <td>540.000000</td>\n",
       "      <td>8</td>\n",
       "      <td>-1.492518</td>\n",
       "    </tr>\n",
       "    <tr>\n",
       "      <th>58</th>\n",
       "      <td>584.000000</td>\n",
       "      <td>300</td>\n",
       "      <td>-0.971143</td>\n",
       "    </tr>\n",
       "    <tr>\n",
       "      <th>59</th>\n",
       "      <td>600.000000</td>\n",
       "      <td>7</td>\n",
       "      <td>2.521566</td>\n",
       "    </tr>\n",
       "    <tr>\n",
       "      <th>61</th>\n",
       "      <td>613.000000</td>\n",
       "      <td>0</td>\n",
       "      <td>-1.598870</td>\n",
       "    </tr>\n",
       "    <tr>\n",
       "      <th>63</th>\n",
       "      <td>631.000000</td>\n",
       "      <td>0</td>\n",
       "      <td>7.731180</td>\n",
       "    </tr>\n",
       "    <tr>\n",
       "      <th>65</th>\n",
       "      <td>660.000000</td>\n",
       "      <td>164</td>\n",
       "      <td>8.498331</td>\n",
       "    </tr>\n",
       "    <tr>\n",
       "      <th>66</th>\n",
       "      <td>663.333333</td>\n",
       "      <td>3</td>\n",
       "      <td>12.840871</td>\n",
       "    </tr>\n",
       "    <tr>\n",
       "      <th>69</th>\n",
       "      <td>697.500000</td>\n",
       "      <td>617</td>\n",
       "      <td>14.359698</td>\n",
       "    </tr>\n",
       "    <tr>\n",
       "      <th>70</th>\n",
       "      <td>710.000000</td>\n",
       "      <td>2</td>\n",
       "      <td>3.778498</td>\n",
       "    </tr>\n",
       "    <tr>\n",
       "      <th>71</th>\n",
       "      <td>720.000000</td>\n",
       "      <td>1</td>\n",
       "      <td>2.084021</td>\n",
       "    </tr>\n",
       "    <tr>\n",
       "      <th>73</th>\n",
       "      <td>740.000000</td>\n",
       "      <td>0</td>\n",
       "      <td>0.392362</td>\n",
       "    </tr>\n",
       "    <tr>\n",
       "      <th>74</th>\n",
       "      <td>745.000000</td>\n",
       "      <td>0</td>\n",
       "      <td>2.335457</td>\n",
       "    </tr>\n",
       "    <tr>\n",
       "      <th>79</th>\n",
       "      <td>799.500000</td>\n",
       "      <td>13</td>\n",
       "      <td>1.926684</td>\n",
       "    </tr>\n",
       "    <tr>\n",
       "      <th>81</th>\n",
       "      <td>812.000000</td>\n",
       "      <td>0</td>\n",
       "      <td>-0.014847</td>\n",
       "    </tr>\n",
       "    <tr>\n",
       "      <th>82</th>\n",
       "      <td>823.500000</td>\n",
       "      <td>0</td>\n",
       "      <td>-1.673223</td>\n",
       "    </tr>\n",
       "    <tr>\n",
       "      <th>83</th>\n",
       "      <td>836.500000</td>\n",
       "      <td>376</td>\n",
       "      <td>3.938999</td>\n",
       "    </tr>\n",
       "    <tr>\n",
       "      <th>88</th>\n",
       "      <td>881.000000</td>\n",
       "      <td>0</td>\n",
       "      <td>-0.754466</td>\n",
       "    </tr>\n",
       "    <tr>\n",
       "      <th>121</th>\n",
       "      <td>1220.000000</td>\n",
       "      <td>0</td>\n",
       "      <td>-0.754466</td>\n",
       "    </tr>\n",
       "  </tbody>\n",
       "</table>\n",
       "</div>"
      ],
      "text/plain": [
       "           주목_시간    합    pos/neg\n",
       "구간                              \n",
       "0       8.500000    1   5.038383\n",
       "4      41.000000    0   0.458618\n",
       "7      78.000000    5  -1.741076\n",
       "8      87.000000  170   3.916730\n",
       "9      97.500000    2  -0.548200\n",
       "10    103.500000  239   5.304775\n",
       "15    152.000000    0  -0.754466\n",
       "16    168.000000   26  -1.766920\n",
       "23    240.000000    0  -0.754466\n",
       "25    256.000000    0  -1.199910\n",
       "27    277.000000    0  -0.797628\n",
       "31    313.000000    0   0.944964\n",
       "33    333.000000   17   3.783693\n",
       "36    363.000000  511  -0.398604\n",
       "38    384.000000    4  -1.995098\n",
       "39    392.000000   66  -0.972941\n",
       "50    506.000000    0  -1.967266\n",
       "53    540.000000    8  -1.492518\n",
       "58    584.000000  300  -0.971143\n",
       "59    600.000000    7   2.521566\n",
       "61    613.000000    0  -1.598870\n",
       "63    631.000000    0   7.731180\n",
       "65    660.000000  164   8.498331\n",
       "66    663.333333    3  12.840871\n",
       "69    697.500000  617  14.359698\n",
       "70    710.000000    2   3.778498\n",
       "71    720.000000    1   2.084021\n",
       "73    740.000000    0   0.392362\n",
       "74    745.000000    0   2.335457\n",
       "79    799.500000   13   1.926684\n",
       "81    812.000000    0  -0.014847\n",
       "82    823.500000    0  -1.673223\n",
       "83    836.500000  376   3.938999\n",
       "88    881.000000    0  -0.754466\n",
       "121  1220.000000    0  -0.754466"
      ]
     },
     "execution_count": 73,
     "metadata": {},
     "output_type": "execute_result"
    }
   ],
   "source": [
    "    \n",
    "grouped_input = grouped_temp.copy()\n",
    "grouped_input['주목_시간'] = grouped_input['주목_시간'].map(transform_from_time)\n",
    "grouped_input['합'] = grouped_input['좋아요']+grouped_input['답글수']\n",
    "  \n",
    "# 10초 단위로 합산해서 표현\n",
    "end_time = grouped_input['주목_시간'].iloc[-1]\n",
    "intervals = range(0,end_time+1,10)\n",
    "grouped_input['구간'] = pd.Categorical(pd.cut(grouped_input['주목_시간'],bins = intervals)).codes\n",
    "func_dict = {'주목_시간':'mean','합':'sum','pos/neg':'sum'}\n",
    "grouped_temp = grouped_input.groupby('구간').agg(func_dict)\n",
    "grouped_temp"
   ]
  },
  {
   "cell_type": "code",
   "execution_count": 74,
   "metadata": {},
   "outputs": [],
   "source": [
    "grouped_temp['주목_시간'] = grouped_temp['주목_시간'].round(0).astype(int)\n",
    "grouped_temp = grouped_temp.sort_values(by=['주목_시간'])\n",
    "    \n",
    "x = grouped_temp['주목_시간'].tolist()\n",
    "y = grouped_temp['합'].tolist()\n",
    "color = (grouped_temp['pos/neg']).tolist()"
   ]
  },
  {
   "cell_type": "code",
   "execution_count": 86,
   "metadata": {},
   "outputs": [
    {
     "data": {
      "text/plain": [
       "([<matplotlib.axis.XTick at 0x1a6d9c4c700>,\n",
       "  <matplotlib.axis.XTick at 0x1a6d9c4c5b0>,\n",
       "  <matplotlib.axis.XTick at 0x1a6d9841550>,\n",
       "  <matplotlib.axis.XTick at 0x1a6d9c99520>,\n",
       "  <matplotlib.axis.XTick at 0x1a6d9c992b0>,\n",
       "  <matplotlib.axis.XTick at 0x1a6d9cad6d0>,\n",
       "  <matplotlib.axis.XTick at 0x1a6d9cad0d0>,\n",
       "  <matplotlib.axis.XTick at 0x1a6d9ca6220>,\n",
       "  <matplotlib.axis.XTick at 0x1a6d9ca6fd0>,\n",
       "  <matplotlib.axis.XTick at 0x1a6d9a45610>,\n",
       "  <matplotlib.axis.XTick at 0x1a6d9a451f0>,\n",
       "  <matplotlib.axis.XTick at 0x1a6d9ca68b0>,\n",
       "  <matplotlib.axis.XTick at 0x1a6d9c990d0>,\n",
       "  <matplotlib.axis.XTick at 0x1a6d9a45be0>,\n",
       "  <matplotlib.axis.XTick at 0x1a6d9b9ca00>,\n",
       "  <matplotlib.axis.XTick at 0x1a6d9cb15e0>,\n",
       "  <matplotlib.axis.XTick at 0x1a6d9cb1a90>,\n",
       "  <matplotlib.axis.XTick at 0x1a6d9cb1fa0>],\n",
       " [Text(8, 0, '0:08'),\n",
       "  Text(78, 0, '1:18'),\n",
       "  Text(98, 0, '1:38'),\n",
       "  Text(152, 0, '2:32'),\n",
       "  Text(240, 0, '4:00'),\n",
       "  Text(277, 0, '4:37'),\n",
       "  Text(333, 0, '5:33'),\n",
       "  Text(384, 0, '6:24'),\n",
       "  Text(506, 0, '8:26'),\n",
       "  Text(584, 0, '9:44'),\n",
       "  Text(613, 0, '10:13'),\n",
       "  Text(660, 0, '11:00'),\n",
       "  Text(698, 0, '11:38'),\n",
       "  Text(720, 0, '12:00'),\n",
       "  Text(745, 0, '12:25'),\n",
       "  Text(812, 0, '13:32'),\n",
       "  Text(836, 0, '13:56'),\n",
       "  Text(1220, 0, '20:20')])"
      ]
     },
     "execution_count": 86,
     "metadata": {},
     "output_type": "execute_result"
    },
    {
     "data": {
      "image/png": "[encoded data removed]",
      "text/plain": [
       "<Figure size 432x288 with 1 Axes>"
      ]
     },
     "metadata": {
      "needs_background": "light"
     },
     "output_type": "display_data"
    }
   ],
   "source": [
    "plt.plot(x,y)\n",
    "plt.fill(x,y)\n",
    "if len(x)>15:\n",
    "    show_interval = len(x)//15\n",
    "else:\n",
    "    show_interval = 1\n",
    "plt.xticks(x[::show_interval],labels = pd.Series(x).map(transform_to_time).tolist()[::show_interval],rotation='90')"
   ]
  },
  {
   "cell_type": "markdown",
   "metadata": {},
   "source": [
    "- 해당 좋아요+대댓글(반응)을 나타내는 그래프에 긍정, 부정 점수가 표시되었다고 하자.( 너무 복잡하면 decision_function의 결과대신 긍정/부정인지 여부만으로 두가지 색으로 칠할 것)\n",
    "- 댓글 전부에 time 정보와 votes 정보가 있으니 인기나 호감도가 상승하는 추이를 살펴볼 수 있다.(절대적인 양)\n",
    "\n",
    "## 개요\n",
    "1. 유튜브 댓글 전부 -> 전체적인 호감도나 인기 성향\n",
    "2. 개별 동영상마다 호감도나 인기 파악\n",
    "3. 개별 동영상의 호응이 좋았던(나빴던) 부분 표시 -> 구체적인 피드백, ex) 어느 동영상의 어느 부분이 특히 인기있더라\n",
    "    - 실제 그 부분 캡쳐 및 관련 댓글 살필 것\n",
    "4. 전체 동영상내 동일 댓글 작성자의 비율을 파악해 팬의 비율이 많다는 것 얘기함\n",
    "\n",
    "5. 미비점 : 유튜버마다 시청자들이 즐겨쓰는 유행어들이 상이해 일관된 감성분석이 어려움, 학습데이터 구축에 수작업이 많이 들어감\n",
    "\n",
    "### 남은 것\n",
    "- (완) 댓글 전부에 대한 time, votes로 추이 살피기 -> 자료확보, 그래프만 그리면 됨\n",
    "- (미완) 다른 색깔로 matplotlib.pyplot.plot 칠하는법 살피기, where을 이용하면 조건을 걸 수 있다. 4분위로 나눠 색칠\n",
    "- (미실시) 2,3번은 조금더 많은 영상에 대해 확보\n",
    "- (미완) 4번은 실시 - entire_evaluation에서 author명 체크\n",
    "- (미실시) 보고서 작성 : 워드클라우드 빼먹지 말기, 분류기 성능을 보여주기 위해 emotion_predict 함수 선보이기"
   ]
  },
  {
   "cell_type": "code",
   "execution_count": 29,
   "metadata": {},
   "outputs": [
    {
     "data": {
      "text/plain": [
       "<matplotlib.collections.PolyCollection at 0x29cec981670>"
      ]
     },
     "execution_count": 29,
     "metadata": {},
     "output_type": "execute_result"
    },
    {
     "data": {
      "image/png": "[encoded data removed]",
      "text/plain": [
       "<Figure size 432x288 with 1 Axes>"
      ]
     },
     "metadata": {
      "needs_background": "light"
     },
     "output_type": "display_data"
    }
   ],
   "source": [
    "color = np.random.rand(1000)\n",
    "color_num = pd.cut(color,4).codes\n",
    "x = np.linspace(-2,2,1000)\n",
    "y = np.cos(x)\n",
    "y_bottom = y*0\n",
    "fig,ax = plt.subplots()\n",
    "ax.plot(x,y)\n",
    "ax.fill_between(x,y,y_bottom,where = color_num<2, facecolor = 'red',interpolate=True)\n",
    "ax.fill_between(x,y,y_bottom,where = color_num>=3, facecolor = 'blue',interpolate=True)"
   ]
  },
  {
   "cell_type": "markdown",
   "metadata": {},
   "source": [
    "시도 :  barchart를 그림 -> color를 4등분 -> 각 숫자를 dictionary로 만든 뒤 coloring"
   ]
  },
  {
   "cell_type": "code",
   "execution_count": null,
   "metadata": {},
   "outputs": [],
   "source": []
  }
 ],
 "metadata": {
  "kernelspec": {
   "display_name": "Python 3",
   "language": "python",
   "name": "python3"
  },
  "language_info": {
   "codemirror_mode": {
    "name": "ipython",
    "version": 3
   },
   "file_extension": ".py",
   "mimetype": "text/x-python",
   "name": "python",
   "nbconvert_exporter": "python",
   "pygments_lexer": "ipython3",
   "version": "3.8.5"
  }
 },
 "nbformat": 4,
 "nbformat_minor": 4
}
